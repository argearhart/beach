{
 "cells": [
  {
   "cell_type": "markdown",
   "metadata": {},
   "source": [
    "# Main Notebook\n",
    "This notebook aims to analyze and visualize combined data as well as implement additional features from the project requirements.  \n",
    "US Stations is from US Linear Relative Sea Level Trends.  \n",
    "Storms is from the Natural Disasters data and contains the US storm information.  \n",
    "Beach contains the beach project data.  "
   ]
  },
  {
   "cell_type": "code",
   "execution_count": 47,
   "metadata": {},
   "outputs": [
    {
     "name": "stderr",
     "output_type": "stream",
     "text": [
      "[nltk_data] Downloading package punkt to /nltk_data...\n",
      "[nltk_data]   Package punkt is already up-to-date!\n",
      "[nltk_data] Downloading package stopwords to /nltk_data...\n",
      "[nltk_data]   Package stopwords is already up-to-date!\n"
     ]
    }
   ],
   "source": [
    "import pandas as pd \n",
    "import numpy as np \n",
    "import plotly.express as px\n",
    "import seaborn as sns\n",
    "import os\n",
    "\n",
    "import string\n",
    "import nltk\n",
    "\n",
    "nltk.download('punkt', download_dir='/nltk_data')\n",
    "              \n",
    "nltk.download('stopwords', download_dir='/nltk_data')\n",
    "\n",
    "from nltk.corpus import stopwords\n",
    "from nltk.tokenize import word_tokenize\n",
    "\n",
    "from collections import Counter\n",
    "\n",
    "usstations = pd.read_excel('data/usstations.xlsx')\n",
    "beach = pd.read_excel('data/beach_data.xlsx')\n",
    "storms = pd.read_excel('data/cleanusstorms.xlsx')\n"
   ]
  },
  {
   "cell_type": "markdown",
   "metadata": {},
   "source": [
    "Group data by the region column and aggregate"
   ]
  },
  {
   "cell_type": "code",
   "execution_count": 48,
   "metadata": {},
   "outputs": [
    {
     "name": "stdout",
     "output_type": "stream",
     "text": [
      "       Region  counts\n",
      "0  East Coast      47\n",
      "4  West Coast      45\n",
      "1  Gulf Coast      36\n",
      "2      Island      11\n",
      "3       Other       6\n"
     ]
    }
   ],
   "source": [
    "stationsgroup = usstations.groupby('Region').size().reset_index(name='counts')\n",
    "stationsgroup = stationsgroup.sort_values('counts', ascending=False)\n",
    "stationsgroup = stationsgroup.head(10)\n",
    "print(stationsgroup)\n"
   ]
  },
  {
   "cell_type": "code",
   "execution_count": 49,
   "metadata": {},
   "outputs": [
    {
     "name": "stdout",
     "output_type": "stream",
     "text": [
      "       Region  counts\n",
      "0  East Coast    1238\n",
      "1  Gulf Coast     842\n",
      "2  West Coast     379\n"
     ]
    }
   ],
   "source": [
    "beachgroup = beach.groupby('Region').size().reset_index(name='counts')\n",
    "beachgroup = beachgroup.sort_values('counts', ascending=False)\n",
    "beachgroup = beachgroup.head(10)\n",
    "print(beachgroup)\n",
    "\n",
    "# No projects are listed for Hawaii."
   ]
  },
  {
   "cell_type": "code",
   "execution_count": 50,
   "metadata": {},
   "outputs": [
    {
     "name": "stdout",
     "output_type": "stream",
     "text": [
      "       Region  counts\n",
      "1  Gulf Coast      90\n",
      "0  East Coast      26\n",
      "3       Other      13\n",
      "2      Island       2\n",
      "4  West Coast       1\n"
     ]
    }
   ],
   "source": [
    "stormsgroup = storms.groupby('Region').size().reset_index(name='counts')\n",
    "stormsgroup = stormsgroup.sort_values('counts', ascending=False)\n",
    "stormsgroup = stormsgroup.head(10)\n",
    "print(stormsgroup)"
   ]
  },
  {
   "cell_type": "code",
   "execution_count": 51,
   "metadata": {},
   "outputs": [
    {
     "name": "stdout",
     "output_type": "stream",
     "text": [
      "   Station ID   Station Name  First Year  Last Year  Year Range  \\\n",
      "0   9450460.0  Ketchikan, AK      1919.0     2023.0       105.0   \n",
      "1   9451600.0      Sitka, AK      1924.0     2023.0       100.0   \n",
      "2   9452210.0     Juneau, AK      1936.0     2023.0        88.0   \n",
      "3   9452400.0    Skagway, AK      1944.0     2023.0        80.0   \n",
      "4   9453220.0    Yakutat, AK      1988.0     2023.0        36.0   \n",
      "\n",
      "   Percent Complete  MSL Trends mm per yr  plus minus CI mm yr   \\\n",
      "0              99.0                 -0.36                  0.20   \n",
      "1              88.0                 -2.45                  0.25   \n",
      "2              97.0                -13.43                  0.31   \n",
      "3              84.0                -18.04                  0.46   \n",
      "4              98.0                -15.43                  1.04   \n",
      "\n",
      "   MSL Trend ft per century  95 CI ft century  ...  No Affected  No Homeless  \\\n",
      "0                     -0.12              0.07  ...          NaN          NaN   \n",
      "1                     -0.80              0.08  ...          NaN          NaN   \n",
      "2                     -4.41              0.10  ...          NaN          NaN   \n",
      "3                     -5.92              0.15  ...          NaN          NaN   \n",
      "4                     -5.06              0.34  ...          NaN          NaN   \n",
      "\n",
      "  Total Affected Insured Damages ('000 US$) Total Damages ('000 US$)  CPI  \\\n",
      "0            NaN                        NaN                      NaN  NaN   \n",
      "1            NaN                        NaN                      NaN  NaN   \n",
      "2            NaN                        NaN                      NaN  NaN   \n",
      "3            NaN                        NaN                      NaN  NaN   \n",
      "4            NaN                        NaN                      NaN  NaN   \n",
      "\n",
      "  Adm Level  Admin1 Code Admin2 Code Geo Locations  \n",
      "0       NaN          NaN         NaN           NaN  \n",
      "1       NaN          NaN         NaN           NaN  \n",
      "2       NaN          NaN         NaN           NaN  \n",
      "3       NaN          NaN         NaN           NaN  \n",
      "4       NaN          NaN         NaN           NaN  \n",
      "\n",
      "[5 rows x 78 columns]\n",
      "Index(['Station ID', 'Station Name', 'First Year', 'Last Year', 'Year Range',\n",
      "       'Percent Complete', 'MSL Trends mm per yr', 'plus minus CI mm yr ',\n",
      "       'MSL Trend ft per century', '95 CI ft century', 'Latitude_x',\n",
      "       'Longitude_x', 'City', 'State', 'Region_x', 'ID', 'Location_x',\n",
      "       'Year Completed', 'Primary Funding Source', 'Justification',\n",
      "       'Length (ft)', 'Volume (CY)', 'Total Cost', 'Year Completed CPI',\n",
      "       'Adjusted Cost (2022)', 'Total Cost/CY', 'Adjusted Cost/CY', 'CY/Foot',\n",
      "       'Current CPI', 'Other Info', 'Source Comment', 'Region_y', 'Decade',\n",
      "       'Year', 'Seq', 'Glide', 'Disaster Group', 'Disaster Subgroup',\n",
      "       'Disaster Type', 'Disaster Subtype', 'Disaster Subsubtype',\n",
      "       'Event Name', 'Country', 'ISO', 'Region', 'Continent', 'Location_y',\n",
      "       'Origin', 'Associated Dis', 'Associated Dis2', 'OFDA Response',\n",
      "       'Appeal', 'Declaration', 'Aid Contribution', 'Dis Mag Value',\n",
      "       'Dis Mag Scale', 'Latitude_y', 'Longitude_y', 'Local Time',\n",
      "       'River Basin', 'Start Year', 'Start Month', 'Start Day', 'End Year',\n",
      "       'End Month', 'End Day', 'Total Deaths', 'No Injured', 'No Affected',\n",
      "       'No Homeless', 'Total Affected', 'Insured Damages ('000 US$)',\n",
      "       'Total Damages ('000 US$)', 'CPI', 'Adm Level', 'Admin1 Code',\n",
      "       'Admin2 Code', 'Geo Locations'],\n",
      "      dtype='object')\n"
     ]
    }
   ],
   "source": [
    "merge_df = pd.merge(usstations, beach, on='State', how='outer')\n",
    "\n",
    "df = pd.merge(merge_df, storms, on='State', how='outer')\n",
    "print(df.head(5))\n",
    "print(df.columns)\n",
    "df.to_csv('data/merged_data.csv', index=False)"
   ]
  },
  {
   "cell_type": "code",
   "execution_count": 52,
   "metadata": {},
   "outputs": [
    {
     "name": "stdout",
     "output_type": "stream",
     "text": [
      "<class 'pandas.core.frame.DataFrame'>\n",
      "RangeIndex: 138875 entries, 0 to 138874\n",
      "Data columns (total 78 columns):\n",
      " #   Column                      Non-Null Count   Dtype  \n",
      "---  ------                      --------------   -----  \n",
      " 0   Station ID                  138783 non-null  float64\n",
      " 1   Station Name                138783 non-null  object \n",
      " 2   First Year                  138783 non-null  float64\n",
      " 3   Last Year                   138783 non-null  float64\n",
      " 4   Year Range                  138783 non-null  float64\n",
      " 5   Percent Complete            138783 non-null  float64\n",
      " 6   MSL Trends mm per yr        138783 non-null  float64\n",
      " 7   plus minus CI mm yr         138783 non-null  float64\n",
      " 8   MSL Trend ft per century    138783 non-null  float64\n",
      " 9   95 CI ft century            138783 non-null  float64\n",
      " 10  Latitude_x                  138783 non-null  float64\n",
      " 11  Longitude_x                 138783 non-null  float64\n",
      " 12  City                        138783 non-null  object \n",
      " 13  State                       138863 non-null  object \n",
      " 14  Region_x                    138783 non-null  object \n",
      " 15  ID                          138735 non-null  float64\n",
      " 16  Location_x                  138735 non-null  object \n",
      " 17  Year Completed              138735 non-null  float64\n",
      " 18  Primary Funding Source      138411 non-null  object \n",
      " 19  Justification               138735 non-null  object \n",
      " 20  Length (ft)                 138735 non-null  float64\n",
      " 21  Volume (CY)                 138735 non-null  float64\n",
      " 22  Total Cost                  138735 non-null  float64\n",
      " 23  Year Completed CPI          138735 non-null  float64\n",
      " 24  Adjusted Cost (2022)        138735 non-null  float64\n",
      " 25  Total Cost/CY               138735 non-null  float64\n",
      " 26  Adjusted Cost/CY            138735 non-null  float64\n",
      " 27  CY/Foot                     138735 non-null  float64\n",
      " 28  Current CPI                 138735 non-null  float64\n",
      " 29  Other Info                  4648 non-null    object \n",
      " 30  Source Comment              68707 non-null   object \n",
      " 31  Region_y                    138735 non-null  object \n",
      " 32  Decade                      138735 non-null  float64\n",
      " 33  Year                        130596 non-null  float64\n",
      " 34  Seq                         130596 non-null  float64\n",
      " 35  Glide                       10 non-null      object \n",
      " 36  Disaster Group              130596 non-null  object \n",
      " 37  Disaster Subgroup           130596 non-null  object \n",
      " 38  Disaster Type               130596 non-null  object \n",
      " 39  Disaster Subtype            130596 non-null  object \n",
      " 40  Disaster Subsubtype         0 non-null       float64\n",
      " 41  Event Name                  74655 non-null   object \n",
      " 42  Country                     130596 non-null  object \n",
      " 43  ISO                         130596 non-null  object \n",
      " 44  Region                      130596 non-null  object \n",
      " 45  Continent                   130596 non-null  object \n",
      " 46  Location_y                  130592 non-null  object \n",
      " 47  Origin                      0 non-null       float64\n",
      " 48  Associated Dis              17411 non-null   object \n",
      " 49  Associated Dis2             12249 non-null   object \n",
      " 50  OFDA Response               0 non-null       float64\n",
      " 51  Appeal                      19779 non-null   object \n",
      " 52  Declaration                 44375 non-null   object \n",
      " 53  Aid Contribution            0 non-null       float64\n",
      " 54  Dis Mag Value               71011 non-null   float64\n",
      " 55  Dis Mag Scale               130596 non-null  object \n",
      " 56  Latitude_y                  1084 non-null    float64\n",
      " 57  Longitude_y                 1084 non-null    float64\n",
      " 58  Local Time                  0 non-null       float64\n",
      " 59  River Basin                 2 non-null       object \n",
      " 60  Start Year                  130596 non-null  float64\n",
      " 61  Start Month                 101724 non-null  float64\n",
      " 62  Start Day                   76630 non-null   float64\n",
      " 63  End Year                    130596 non-null  float64\n",
      " 64  End Month                   101724 non-null  float64\n",
      " 65  End Day                     76630 non-null   float64\n",
      " 66  Total Deaths                126544 non-null  float64\n",
      " 67  No Injured                  196 non-null     float64\n",
      " 68  No Affected                 38828 non-null   float64\n",
      " 69  No Homeless                 12254 non-null   float64\n",
      " 70  Total Affected              38938 non-null   float64\n",
      " 71  Insured Damages ('000 US$)  31769 non-null   float64\n",
      " 72  Total Damages ('000 US$)    95450 non-null   float64\n",
      " 73  CPI                         130593 non-null  float64\n",
      " 74  Adm Level                   40102 non-null   object \n",
      " 75  Admin1 Code                 15342 non-null   object \n",
      " 76  Admin2 Code                 24767 non-null   object \n",
      " 77  Geo Locations               40102 non-null   object \n",
      "dtypes: float64(47), object(31)\n",
      "memory usage: 82.6+ MB\n"
     ]
    }
   ],
   "source": [
    "df.info()"
   ]
  },
  {
   "cell_type": "code",
   "execution_count": 53,
   "metadata": {},
   "outputs": [
    {
     "name": "stdout",
     "output_type": "stream",
     "text": [
      "               State  Avg MSL Trend (mm/yr)  Total Nourishment Volume (CY)\n",
      "0                 AK              -4.844444                            NaN\n",
      "1                 AL               4.630000                     20122400.0\n",
      "2     American Samoa               2.480000                            NaN\n",
      "3            Bermuda               2.215000                            NaN\n",
      "4                 CA               1.726667                    370747160.0\n",
      "5                 CT               3.100000                      6150772.0\n",
      "6                 DC               3.490000                            NaN\n",
      "7                 DE               3.800000                     29317965.0\n",
      "8                 FL               3.768333                    350971605.0\n",
      "9                 GA               3.610000                     14186818.0\n",
      "10              Guam               4.530000                            NaN\n",
      "11                HI               2.310000                            NaN\n",
      "12                LA               7.660000                    109803785.0\n",
      "13                MA               3.340000                      4733693.0\n",
      "14                MD               4.097143                     17802318.0\n",
      "15                ME               2.228000                       991818.0\n",
      "16                MS               4.700000                     30955443.0\n",
      "17  Marshall Islands               2.060000                            NaN\n",
      "18                NC               4.180000                    149570374.0\n",
      "19                NH               2.040000                      1870000.0\n",
      "20                NJ               4.476667                    240045708.0\n",
      "21                NY               3.432500                     99195758.0\n",
      "22                OR               1.040000                            NaN\n",
      "23                PA               3.110000                            NaN\n",
      "24                PR               2.075000                            NaN\n",
      "25     Pacific Ocean               2.070000                            NaN\n",
      "26                RI               2.740000                       264080.0\n",
      "27                SC               3.385000                     69878357.0\n",
      "28                TX               5.841538                     10425369.0\n",
      "29           Unknown               1.560000                            NaN\n",
      "30                VA               5.504444                     40903055.0\n",
      "31                VI               2.425000                            NaN\n",
      "32                WA               0.605714                      1293570.0\n"
     ]
    }
   ],
   "source": [
    "# Aggregate MSL trends by state\n",
    "avg_msl_trends = usstations.groupby('State')['MSL Trends mm per yr'].mean()\n",
    "\n",
    "# Aggregate beach nourishment volume by state\n",
    "total_nourishment_volume = beach.groupby('State')['Volume (CY)'].sum()\n",
    "\n",
    "sealevel_Beachvolume = pd.DataFrame({\n",
    "    'Avg MSL Trend (mm/yr)': avg_msl_trends,\n",
    "    'Total Nourishment Volume (CY)': total_nourishment_volume\n",
    "}).reset_index()\n",
    "print(sealevel_Beachvolume)\n"
   ]
  },
  {
   "cell_type": "code",
   "execution_count": 54,
   "metadata": {},
   "outputs": [
    {
     "data": {
      "application/vnd.plotly.v1+json": {
       "config": {
        "plotlyServerURL": "https://plot.ly"
       },
       "data": [
        {
         "hovertemplate": "<b>%{hovertext}</b><br><br>Avg MSL Trend (mm/yr)=%{x}<br>Total Nourishment Volume (CY)=%{marker.size}<extra></extra>",
         "hovertext": [
          "AL",
          "CA",
          "CT",
          "DE",
          "FL",
          "GA",
          "LA",
          "MA",
          "MD",
          "ME",
          "MS",
          "NC",
          "NH",
          "NJ",
          "NY",
          "RI",
          "SC",
          "TX",
          "VA",
          "WA"
         ],
         "legendgroup": "",
         "marker": {
          "color": "#636efa",
          "size": [
           20122400,
           370747160,
           6150772,
           29317965,
           350971605,
           14186818,
           109803785,
           4733693,
           17802318,
           991818,
           30955443,
           149570374,
           1870000,
           240045708,
           99195758,
           264080,
           69878357,
           10425369,
           40903055,
           1293570
          ],
          "sizemode": "area",
          "sizeref": 926867.9,
          "symbol": "circle"
         },
         "mode": "markers",
         "name": "",
         "orientation": "v",
         "showlegend": false,
         "textposition": "top center",
         "type": "scatter",
         "x": [
          4.63,
          1.7266666666666666,
          3.1,
          3.8,
          3.768333333333333,
          3.61,
          7.66,
          3.34,
          4.097142857142857,
          2.228,
          4.7,
          4.18,
          2.04,
          4.476666666666667,
          3.4325,
          2.74,
          3.385,
          5.841538461538462,
          5.504444444444444,
          0.6057142857142858
         ],
         "xaxis": "x",
         "y": [
          20122400,
          370747160,
          6150772,
          29317965,
          350971605,
          14186818,
          109803785,
          4733693,
          17802318,
          991818,
          30955443,
          149570374,
          1870000,
          240045708,
          99195758,
          264080,
          69878357,
          10425369,
          40903055,
          1293570
         ],
         "yaxis": "y"
        }
       ],
       "layout": {
        "legend": {
         "itemsizing": "constant",
         "tracegroupgap": 0
        },
        "template": {
         "data": {
          "bar": [
           {
            "error_x": {
             "color": "#2a3f5f"
            },
            "error_y": {
             "color": "#2a3f5f"
            },
            "marker": {
             "line": {
              "color": "#E5ECF6",
              "width": 0.5
             },
             "pattern": {
              "fillmode": "overlay",
              "size": 10,
              "solidity": 0.2
             }
            },
            "type": "bar"
           }
          ],
          "barpolar": [
           {
            "marker": {
             "line": {
              "color": "#E5ECF6",
              "width": 0.5
             },
             "pattern": {
              "fillmode": "overlay",
              "size": 10,
              "solidity": 0.2
             }
            },
            "type": "barpolar"
           }
          ],
          "carpet": [
           {
            "aaxis": {
             "endlinecolor": "#2a3f5f",
             "gridcolor": "white",
             "linecolor": "white",
             "minorgridcolor": "white",
             "startlinecolor": "#2a3f5f"
            },
            "baxis": {
             "endlinecolor": "#2a3f5f",
             "gridcolor": "white",
             "linecolor": "white",
             "minorgridcolor": "white",
             "startlinecolor": "#2a3f5f"
            },
            "type": "carpet"
           }
          ],
          "choropleth": [
           {
            "colorbar": {
             "outlinewidth": 0,
             "ticks": ""
            },
            "type": "choropleth"
           }
          ],
          "contour": [
           {
            "colorbar": {
             "outlinewidth": 0,
             "ticks": ""
            },
            "colorscale": [
             [
              0,
              "#0d0887"
             ],
             [
              0.1111111111111111,
              "#46039f"
             ],
             [
              0.2222222222222222,
              "#7201a8"
             ],
             [
              0.3333333333333333,
              "#9c179e"
             ],
             [
              0.4444444444444444,
              "#bd3786"
             ],
             [
              0.5555555555555556,
              "#d8576b"
             ],
             [
              0.6666666666666666,
              "#ed7953"
             ],
             [
              0.7777777777777778,
              "#fb9f3a"
             ],
             [
              0.8888888888888888,
              "#fdca26"
             ],
             [
              1,
              "#f0f921"
             ]
            ],
            "type": "contour"
           }
          ],
          "contourcarpet": [
           {
            "colorbar": {
             "outlinewidth": 0,
             "ticks": ""
            },
            "type": "contourcarpet"
           }
          ],
          "heatmap": [
           {
            "colorbar": {
             "outlinewidth": 0,
             "ticks": ""
            },
            "colorscale": [
             [
              0,
              "#0d0887"
             ],
             [
              0.1111111111111111,
              "#46039f"
             ],
             [
              0.2222222222222222,
              "#7201a8"
             ],
             [
              0.3333333333333333,
              "#9c179e"
             ],
             [
              0.4444444444444444,
              "#bd3786"
             ],
             [
              0.5555555555555556,
              "#d8576b"
             ],
             [
              0.6666666666666666,
              "#ed7953"
             ],
             [
              0.7777777777777778,
              "#fb9f3a"
             ],
             [
              0.8888888888888888,
              "#fdca26"
             ],
             [
              1,
              "#f0f921"
             ]
            ],
            "type": "heatmap"
           }
          ],
          "heatmapgl": [
           {
            "colorbar": {
             "outlinewidth": 0,
             "ticks": ""
            },
            "colorscale": [
             [
              0,
              "#0d0887"
             ],
             [
              0.1111111111111111,
              "#46039f"
             ],
             [
              0.2222222222222222,
              "#7201a8"
             ],
             [
              0.3333333333333333,
              "#9c179e"
             ],
             [
              0.4444444444444444,
              "#bd3786"
             ],
             [
              0.5555555555555556,
              "#d8576b"
             ],
             [
              0.6666666666666666,
              "#ed7953"
             ],
             [
              0.7777777777777778,
              "#fb9f3a"
             ],
             [
              0.8888888888888888,
              "#fdca26"
             ],
             [
              1,
              "#f0f921"
             ]
            ],
            "type": "heatmapgl"
           }
          ],
          "histogram": [
           {
            "marker": {
             "pattern": {
              "fillmode": "overlay",
              "size": 10,
              "solidity": 0.2
             }
            },
            "type": "histogram"
           }
          ],
          "histogram2d": [
           {
            "colorbar": {
             "outlinewidth": 0,
             "ticks": ""
            },
            "colorscale": [
             [
              0,
              "#0d0887"
             ],
             [
              0.1111111111111111,
              "#46039f"
             ],
             [
              0.2222222222222222,
              "#7201a8"
             ],
             [
              0.3333333333333333,
              "#9c179e"
             ],
             [
              0.4444444444444444,
              "#bd3786"
             ],
             [
              0.5555555555555556,
              "#d8576b"
             ],
             [
              0.6666666666666666,
              "#ed7953"
             ],
             [
              0.7777777777777778,
              "#fb9f3a"
             ],
             [
              0.8888888888888888,
              "#fdca26"
             ],
             [
              1,
              "#f0f921"
             ]
            ],
            "type": "histogram2d"
           }
          ],
          "histogram2dcontour": [
           {
            "colorbar": {
             "outlinewidth": 0,
             "ticks": ""
            },
            "colorscale": [
             [
              0,
              "#0d0887"
             ],
             [
              0.1111111111111111,
              "#46039f"
             ],
             [
              0.2222222222222222,
              "#7201a8"
             ],
             [
              0.3333333333333333,
              "#9c179e"
             ],
             [
              0.4444444444444444,
              "#bd3786"
             ],
             [
              0.5555555555555556,
              "#d8576b"
             ],
             [
              0.6666666666666666,
              "#ed7953"
             ],
             [
              0.7777777777777778,
              "#fb9f3a"
             ],
             [
              0.8888888888888888,
              "#fdca26"
             ],
             [
              1,
              "#f0f921"
             ]
            ],
            "type": "histogram2dcontour"
           }
          ],
          "mesh3d": [
           {
            "colorbar": {
             "outlinewidth": 0,
             "ticks": ""
            },
            "type": "mesh3d"
           }
          ],
          "parcoords": [
           {
            "line": {
             "colorbar": {
              "outlinewidth": 0,
              "ticks": ""
             }
            },
            "type": "parcoords"
           }
          ],
          "pie": [
           {
            "automargin": true,
            "type": "pie"
           }
          ],
          "scatter": [
           {
            "fillpattern": {
             "fillmode": "overlay",
             "size": 10,
             "solidity": 0.2
            },
            "type": "scatter"
           }
          ],
          "scatter3d": [
           {
            "line": {
             "colorbar": {
              "outlinewidth": 0,
              "ticks": ""
             }
            },
            "marker": {
             "colorbar": {
              "outlinewidth": 0,
              "ticks": ""
             }
            },
            "type": "scatter3d"
           }
          ],
          "scattercarpet": [
           {
            "marker": {
             "colorbar": {
              "outlinewidth": 0,
              "ticks": ""
             }
            },
            "type": "scattercarpet"
           }
          ],
          "scattergeo": [
           {
            "marker": {
             "colorbar": {
              "outlinewidth": 0,
              "ticks": ""
             }
            },
            "type": "scattergeo"
           }
          ],
          "scattergl": [
           {
            "marker": {
             "colorbar": {
              "outlinewidth": 0,
              "ticks": ""
             }
            },
            "type": "scattergl"
           }
          ],
          "scattermapbox": [
           {
            "marker": {
             "colorbar": {
              "outlinewidth": 0,
              "ticks": ""
             }
            },
            "type": "scattermapbox"
           }
          ],
          "scatterpolar": [
           {
            "marker": {
             "colorbar": {
              "outlinewidth": 0,
              "ticks": ""
             }
            },
            "type": "scatterpolar"
           }
          ],
          "scatterpolargl": [
           {
            "marker": {
             "colorbar": {
              "outlinewidth": 0,
              "ticks": ""
             }
            },
            "type": "scatterpolargl"
           }
          ],
          "scatterternary": [
           {
            "marker": {
             "colorbar": {
              "outlinewidth": 0,
              "ticks": ""
             }
            },
            "type": "scatterternary"
           }
          ],
          "surface": [
           {
            "colorbar": {
             "outlinewidth": 0,
             "ticks": ""
            },
            "colorscale": [
             [
              0,
              "#0d0887"
             ],
             [
              0.1111111111111111,
              "#46039f"
             ],
             [
              0.2222222222222222,
              "#7201a8"
             ],
             [
              0.3333333333333333,
              "#9c179e"
             ],
             [
              0.4444444444444444,
              "#bd3786"
             ],
             [
              0.5555555555555556,
              "#d8576b"
             ],
             [
              0.6666666666666666,
              "#ed7953"
             ],
             [
              0.7777777777777778,
              "#fb9f3a"
             ],
             [
              0.8888888888888888,
              "#fdca26"
             ],
             [
              1,
              "#f0f921"
             ]
            ],
            "type": "surface"
           }
          ],
          "table": [
           {
            "cells": {
             "fill": {
              "color": "#EBF0F8"
             },
             "line": {
              "color": "white"
             }
            },
            "header": {
             "fill": {
              "color": "#C8D4E3"
             },
             "line": {
              "color": "white"
             }
            },
            "type": "table"
           }
          ]
         },
         "layout": {
          "annotationdefaults": {
           "arrowcolor": "#2a3f5f",
           "arrowhead": 0,
           "arrowwidth": 1
          },
          "autotypenumbers": "strict",
          "coloraxis": {
           "colorbar": {
            "outlinewidth": 0,
            "ticks": ""
           }
          },
          "colorscale": {
           "diverging": [
            [
             0,
             "#8e0152"
            ],
            [
             0.1,
             "#c51b7d"
            ],
            [
             0.2,
             "#de77ae"
            ],
            [
             0.3,
             "#f1b6da"
            ],
            [
             0.4,
             "#fde0ef"
            ],
            [
             0.5,
             "#f7f7f7"
            ],
            [
             0.6,
             "#e6f5d0"
            ],
            [
             0.7,
             "#b8e186"
            ],
            [
             0.8,
             "#7fbc41"
            ],
            [
             0.9,
             "#4d9221"
            ],
            [
             1,
             "#276419"
            ]
           ],
           "sequential": [
            [
             0,
             "#0d0887"
            ],
            [
             0.1111111111111111,
             "#46039f"
            ],
            [
             0.2222222222222222,
             "#7201a8"
            ],
            [
             0.3333333333333333,
             "#9c179e"
            ],
            [
             0.4444444444444444,
             "#bd3786"
            ],
            [
             0.5555555555555556,
             "#d8576b"
            ],
            [
             0.6666666666666666,
             "#ed7953"
            ],
            [
             0.7777777777777778,
             "#fb9f3a"
            ],
            [
             0.8888888888888888,
             "#fdca26"
            ],
            [
             1,
             "#f0f921"
            ]
           ],
           "sequentialminus": [
            [
             0,
             "#0d0887"
            ],
            [
             0.1111111111111111,
             "#46039f"
            ],
            [
             0.2222222222222222,
             "#7201a8"
            ],
            [
             0.3333333333333333,
             "#9c179e"
            ],
            [
             0.4444444444444444,
             "#bd3786"
            ],
            [
             0.5555555555555556,
             "#d8576b"
            ],
            [
             0.6666666666666666,
             "#ed7953"
            ],
            [
             0.7777777777777778,
             "#fb9f3a"
            ],
            [
             0.8888888888888888,
             "#fdca26"
            ],
            [
             1,
             "#f0f921"
            ]
           ]
          },
          "colorway": [
           "#636efa",
           "#EF553B",
           "#00cc96",
           "#ab63fa",
           "#FFA15A",
           "#19d3f3",
           "#FF6692",
           "#B6E880",
           "#FF97FF",
           "#FECB52"
          ],
          "font": {
           "color": "#2a3f5f"
          },
          "geo": {
           "bgcolor": "white",
           "lakecolor": "white",
           "landcolor": "#E5ECF6",
           "showlakes": true,
           "showland": true,
           "subunitcolor": "white"
          },
          "hoverlabel": {
           "align": "left"
          },
          "hovermode": "closest",
          "mapbox": {
           "style": "light"
          },
          "paper_bgcolor": "white",
          "plot_bgcolor": "#E5ECF6",
          "polar": {
           "angularaxis": {
            "gridcolor": "white",
            "linecolor": "white",
            "ticks": ""
           },
           "bgcolor": "#E5ECF6",
           "radialaxis": {
            "gridcolor": "white",
            "linecolor": "white",
            "ticks": ""
           }
          },
          "scene": {
           "xaxis": {
            "backgroundcolor": "#E5ECF6",
            "gridcolor": "white",
            "gridwidth": 2,
            "linecolor": "white",
            "showbackground": true,
            "ticks": "",
            "zerolinecolor": "white"
           },
           "yaxis": {
            "backgroundcolor": "#E5ECF6",
            "gridcolor": "white",
            "gridwidth": 2,
            "linecolor": "white",
            "showbackground": true,
            "ticks": "",
            "zerolinecolor": "white"
           },
           "zaxis": {
            "backgroundcolor": "#E5ECF6",
            "gridcolor": "white",
            "gridwidth": 2,
            "linecolor": "white",
            "showbackground": true,
            "ticks": "",
            "zerolinecolor": "white"
           }
          },
          "shapedefaults": {
           "line": {
            "color": "#2a3f5f"
           }
          },
          "ternary": {
           "aaxis": {
            "gridcolor": "white",
            "linecolor": "white",
            "ticks": ""
           },
           "baxis": {
            "gridcolor": "white",
            "linecolor": "white",
            "ticks": ""
           },
           "bgcolor": "#E5ECF6",
           "caxis": {
            "gridcolor": "white",
            "linecolor": "white",
            "ticks": ""
           }
          },
          "title": {
           "x": 0.05
          },
          "xaxis": {
           "automargin": true,
           "gridcolor": "white",
           "linecolor": "white",
           "ticks": "",
           "title": {
            "standoff": 15
           },
           "zerolinecolor": "white",
           "zerolinewidth": 2
          },
          "yaxis": {
           "automargin": true,
           "gridcolor": "white",
           "linecolor": "white",
           "ticks": "",
           "title": {
            "standoff": 15
           },
           "zerolinecolor": "white",
           "zerolinewidth": 2
          }
         }
        },
        "title": {
         "text": "Relationship between MSL Trends and Beach Nourishment Volume by State"
        },
        "xaxis": {
         "anchor": "y",
         "domain": [
          0,
          1
         ],
         "showgrid": false,
         "title": {
          "text": "Avg MSL Trend (mm per year)"
         }
        },
        "yaxis": {
         "anchor": "x",
         "domain": [
          0,
          1
         ],
         "showgrid": false,
         "title": {
          "text": "Total Nourishment Volume (Cubic Yards)"
         }
        }
       }
      }
     },
     "metadata": {},
     "output_type": "display_data"
    }
   ],
   "source": [
    "#sealevel_Beachvolume['Total Nourishment Volume (CY)'] = sealevel_Beachvolume['Total Nourishment Volume (CY)'].fillna(0)\n",
    "sealevel_Beachvolume = sealevel_Beachvolume.dropna(subset=['Avg MSL Trend (mm/yr)', 'Total Nourishment Volume (CY)'])\n",
    "\n",
    "\n",
    "\n",
    "fig = px.scatter(sealevel_Beachvolume,\n",
    "                 x='Avg MSL Trend (mm/yr)',\n",
    "                 y='Total Nourishment Volume (CY)',\n",
    "                 size='Total Nourishment Volume (CY)',\n",
    "                 hover_name='State',  \n",
    "                 title='Relationship between MSL Trends and Beach Nourishment Volume by State')\n",
    "\n",
    "fig.update_traces(textposition='top center')\n",
    "fig.update_layout(xaxis_title='Avg MSL Trend (mm per year)',\n",
    "                  yaxis_title='Total Nourishment Volume (Cubic Yards)',\n",
    "                  xaxis_showgrid=False,\n",
    "                  yaxis_showgrid=False)\n",
    "\n",
    "\n",
    "fig.show()\n"
   ]
  },
  {
   "cell_type": "markdown",
   "metadata": {},
   "source": [
    "## Feature: Summarize text from separate documents."
   ]
  },
  {
   "cell_type": "code",
   "execution_count": 58,
   "metadata": {},
   "outputs": [
    {
     "name": "stdout",
     "output_type": "stream",
     "text": [
      "Empty DataFrame\n",
      "Columns: [Word, Frequency]\n",
      "Index: []\n"
     ]
    }
   ],
   "source": [
    "merged_df = pd.read_csv('data/merged_data.csv', low_memory=False) #Suppress low memory warning\n",
    "\n",
    "# nltk.download('punkt')\n",
    "# nltk.download('stopwords')\n",
    "\n",
    "def preprocess_text(text):\n",
    "    # Convert text to lowercase\n",
    "    text = text.lower()\n",
    "    # Remove punctuation\n",
    "    text = text.translate(str.maketrans('', '', string.punctuation))\n",
    "    # Tokenize text\n",
    "    tokens = word_tokenize(text)\n",
    "    # Remove stopwords\n",
    "    tokens = [word for word in tokens if word not in stopwords.words('english')]\n",
    "    return ' '.join(tokens)  # Returning a string of processed tokens\n",
    "\n",
    "# Process all text columns and concatenate them into a new column\n",
    "merged_df['CombinedText'] = merged_df.apply(lambda row: ' '.join([preprocess_text(str(row[col])) for col in df.columns if pd.api.types.is_string_dtype(df[col])]), axis=1)\n",
    "\n",
    "# Tokenize the combined text for frequency analysis\n",
    "all_tokens = word_tokenize(' '.join(merged_df['CombinedText'].tolist()))\n",
    "\n",
    "# Calculate word frequencies\n",
    "word_freq = Counter(all_tokens)\n",
    "\n",
    "# Convert to DataFrame for the top N words\n",
    "df_freq = pd.DataFrame(word_freq.most_common(10), columns=['Word', 'Frequency'])\n",
    "\n",
    "print(df_freq)\n",
    "\n",
    "# Exporting the frequencies to CSV\n",
    "df_freq.to_csv('data/word_frequencies.csv', index=False)\n"
   ]
  },
  {
   "cell_type": "code",
   "execution_count": null,
   "metadata": {},
   "outputs": [],
   "source": []
  }
 ],
 "metadata": {
  "kernelspec": {
   "display_name": "venv",
   "language": "python",
   "name": "python3"
  },
  "language_info": {
   "codemirror_mode": {
    "name": "ipython",
    "version": 3
   },
   "file_extension": ".py",
   "mimetype": "text/x-python",
   "name": "python",
   "nbconvert_exporter": "python",
   "pygments_lexer": "ipython3",
   "version": "3.12.0"
  }
 },
 "nbformat": 4,
 "nbformat_minor": 2
}

{
 "cells": [
  {
   "cell_type": "markdown",
   "metadata": {},
   "source": [
    "# Main Notebook\n",
    "This notebook looks to analyze and visualize our combined data.  \n",
    "US Stations is from US Linear Relative Sea Level Trends.  \n",
    "Storms is from the Natural Disasters data and contains the US storm information.  \n",
    "Beach contains the beach project data.  "
   ]
  },
  {
   "cell_type": "code",
   "execution_count": 2,
   "metadata": {},
   "outputs": [],
   "source": [
    "import pandas as pd \n",
    "import numpy as np \n",
    "import plotly.express as px\n",
    "import seaborn as sns\n",
    "import os\n",
    "\n",
    "usstations = pd.read_excel('data/usstations.xlsx')\n",
    "beach = pd.read_excel('data/beach_data.xlsx')\n",
    "storms = pd.read_excel('data/cleanusstorms.xlsx')\n"
   ]
  },
  {
   "cell_type": "markdown",
   "metadata": {},
   "source": [
    "Group data by the region column and aggregate"
   ]
  },
  {
   "cell_type": "code",
   "execution_count": 3,
   "metadata": {},
   "outputs": [
    {
     "name": "stdout",
     "output_type": "stream",
     "text": [
      "       Region  counts\n",
      "0  East Coast      47\n",
      "4  West Coast      45\n",
      "1  Gulf Coast      36\n",
      "2      Island      11\n",
      "3       Other       6\n"
     ]
    }
   ],
   "source": [
    "stationsgroup = usstations.groupby('Region').size().reset_index(name='counts')\n",
    "stationsgroup = stationsgroup.sort_values('counts', ascending=False)\n",
    "stationsgroup = stationsgroup.head(10)\n",
    "print(stationsgroup)\n"
   ]
  },
  {
   "cell_type": "code",
   "execution_count": 4,
   "metadata": {},
   "outputs": [
    {
     "name": "stdout",
     "output_type": "stream",
     "text": [
      "       Region  counts\n",
      "0  East Coast    1238\n",
      "1  Gulf Coast     842\n",
      "2  West Coast     379\n"
     ]
    }
   ],
   "source": [
    "beachgroup = beach.groupby('Region').size().reset_index(name='counts')\n",
    "beachgroup = beachgroup.sort_values('counts', ascending=False)\n",
    "beachgroup = beachgroup.head(10)\n",
    "print(beachgroup)\n",
    "\n",
    "# No projects are listed for Hawaii."
   ]
  },
  {
   "cell_type": "code",
   "execution_count": 5,
   "metadata": {},
   "outputs": [
    {
     "name": "stdout",
     "output_type": "stream",
     "text": [
      "       Region  counts\n",
      "1  Gulf Coast      90\n",
      "0  East Coast      26\n",
      "3       Other      13\n",
      "2      Island       2\n",
      "4  West Coast       1\n"
     ]
    }
   ],
   "source": [
    "stormsgroup = storms.groupby('Region').size().reset_index(name='counts')\n",
    "stormsgroup = stormsgroup.sort_values('counts', ascending=False)\n",
    "stormsgroup = stormsgroup.head(10)\n",
    "print(stormsgroup)"
   ]
  },
  {
   "cell_type": "code",
   "execution_count": 6,
   "metadata": {},
   "outputs": [
    {
     "name": "stdout",
     "output_type": "stream",
     "text": [
      "   Station ID   Station Name  First Year  Last Year  Year Range  \\\n",
      "0   9450460.0  Ketchikan, AK      1919.0     2023.0       105.0   \n",
      "1   9451600.0      Sitka, AK      1924.0     2023.0       100.0   \n",
      "2   9452210.0     Juneau, AK      1936.0     2023.0        88.0   \n",
      "3   9452400.0    Skagway, AK      1944.0     2023.0        80.0   \n",
      "4   9453220.0    Yakutat, AK      1988.0     2023.0        36.0   \n",
      "\n",
      "   Percent Complete  MSL Trends mm per yr  plus minus CI mm yr   \\\n",
      "0              99.0                 -0.36                  0.20   \n",
      "1              88.0                 -2.45                  0.25   \n",
      "2              97.0                -13.43                  0.31   \n",
      "3              84.0                -18.04                  0.46   \n",
      "4              98.0                -15.43                  1.04   \n",
      "\n",
      "   MSL Trend ft per century  95 CI ft century  ...  Dis Mag Scale  Start Year  \\\n",
      "0                     -0.12              0.07  ...            NaN         NaN   \n",
      "1                     -0.80              0.08  ...            NaN         NaN   \n",
      "2                     -4.41              0.10  ...            NaN         NaN   \n",
      "3                     -5.92              0.15  ...            NaN         NaN   \n",
      "4                     -5.06              0.34  ...            NaN         NaN   \n",
      "\n",
      "  Start Month Start Day End Year End Month  End Day Total Deaths  \\\n",
      "0         NaN       NaN      NaN       NaN      NaN          NaN   \n",
      "1         NaN       NaN      NaN       NaN      NaN          NaN   \n",
      "2         NaN       NaN      NaN       NaN      NaN          NaN   \n",
      "3         NaN       NaN      NaN       NaN      NaN          NaN   \n",
      "4         NaN       NaN      NaN       NaN      NaN          NaN   \n",
      "\n",
      "  Total Damages ('000 US$)  CPI  \n",
      "0                      NaN  NaN  \n",
      "1                      NaN  NaN  \n",
      "2                      NaN  NaN  \n",
      "3                      NaN  NaN  \n",
      "4                      NaN  NaN  \n",
      "\n",
      "[5 rows x 53 columns]\n",
      "Index(['Station ID', 'Station Name', 'First Year', 'Last Year', 'Year Range',\n",
      "       'Percent Complete', 'MSL Trends mm per yr', 'plus minus CI mm yr ',\n",
      "       'MSL Trend ft per century', '95 CI ft century', 'Latitude', 'Longitude',\n",
      "       'City', 'State', 'Region_x', 'Location_x', 'Year Completed',\n",
      "       'Primary Funding Source', 'Justification', 'Length (ft)', 'Volume (CY)',\n",
      "       'Total Cost', 'Year Completed CPI', 'Adjusted Cost (2022)',\n",
      "       'Total Cost/CY', 'Adjusted Cost/CY', 'CY/Foot', 'Current CPI',\n",
      "       'Region_y', 'Decade', 'Year', 'Disaster Group', 'Disaster Subgroup',\n",
      "       'Disaster Type', 'Disaster Subtype', 'Disaster Subsubtype',\n",
      "       'Event Name', 'Country', 'ISO', 'Region', 'Continent', 'Location_y',\n",
      "       'Dis Mag Value', 'Dis Mag Scale', 'Start Year', 'Start Month',\n",
      "       'Start Day', 'End Year', 'End Month', 'End Day', 'Total Deaths',\n",
      "       'Total Damages ('000 US$)', 'CPI'],\n",
      "      dtype='object')\n"
     ]
    }
   ],
   "source": [
    "merge_df = pd.merge(usstations, beach, on='State', how='outer')\n",
    "\n",
    "df = pd.merge(merge_df, storms, on='State', how='outer')\n",
    "print(df.head(5))\n",
    "print(df.columns)"
   ]
  },
  {
   "cell_type": "code",
   "execution_count": 7,
   "metadata": {},
   "outputs": [
    {
     "name": "stdout",
     "output_type": "stream",
     "text": [
      "<class 'pandas.core.frame.DataFrame'>\n",
      "RangeIndex: 138875 entries, 0 to 138874\n",
      "Data columns (total 53 columns):\n",
      " #   Column                    Non-Null Count   Dtype  \n",
      "---  ------                    --------------   -----  \n",
      " 0   Station ID                138783 non-null  float64\n",
      " 1   Station Name              138783 non-null  object \n",
      " 2   First Year                138783 non-null  float64\n",
      " 3   Last Year                 138783 non-null  float64\n",
      " 4   Year Range                138783 non-null  float64\n",
      " 5   Percent Complete          138783 non-null  float64\n",
      " 6   MSL Trends mm per yr      138783 non-null  float64\n",
      " 7   plus minus CI mm yr       138783 non-null  float64\n",
      " 8   MSL Trend ft per century  138783 non-null  float64\n",
      " 9   95 CI ft century          138783 non-null  float64\n",
      " 10  Latitude                  138783 non-null  float64\n",
      " 11  Longitude                 138783 non-null  float64\n",
      " 12  City                      138783 non-null  object \n",
      " 13  State                     138863 non-null  object \n",
      " 14  Region_x                  138783 non-null  object \n",
      " 15  Location_x                138735 non-null  object \n",
      " 16  Year Completed            138735 non-null  float64\n",
      " 17  Primary Funding Source    138411 non-null  object \n",
      " 18  Justification             138735 non-null  object \n",
      " 19  Length (ft)               138735 non-null  float64\n",
      " 20  Volume (CY)               138735 non-null  float64\n",
      " 21  Total Cost                138735 non-null  float64\n",
      " 22  Year Completed CPI        138735 non-null  float64\n",
      " 23  Adjusted Cost (2022)      138735 non-null  float64\n",
      " 24  Total Cost/CY             138735 non-null  float64\n",
      " 25  Adjusted Cost/CY          138735 non-null  float64\n",
      " 26  CY/Foot                   138735 non-null  float64\n",
      " 27  Current CPI               138735 non-null  float64\n",
      " 28  Region_y                  138735 non-null  object \n",
      " 29  Decade                    138735 non-null  float64\n",
      " 30  Year                      130596 non-null  float64\n",
      " 31  Disaster Group            130596 non-null  object \n",
      " 32  Disaster Subgroup         130596 non-null  object \n",
      " 33  Disaster Type             130596 non-null  object \n",
      " 34  Disaster Subtype          130596 non-null  object \n",
      " 35  Disaster Subsubtype       0 non-null       float64\n",
      " 36  Event Name                74655 non-null   object \n",
      " 37  Country                   130596 non-null  object \n",
      " 38  ISO                       130596 non-null  object \n",
      " 39  Region                    130596 non-null  object \n",
      " 40  Continent                 130596 non-null  object \n",
      " 41  Location_y                130592 non-null  object \n",
      " 42  Dis Mag Value             71011 non-null   float64\n",
      " 43  Dis Mag Scale             130596 non-null  object \n",
      " 44  Start Year                130596 non-null  float64\n",
      " 45  Start Month               101724 non-null  float64\n",
      " 46  Start Day                 76630 non-null   float64\n",
      " 47  End Year                  130596 non-null  float64\n",
      " 48  End Month                 101724 non-null  float64\n",
      " 49  End Day                   76630 non-null   float64\n",
      " 50  Total Deaths              126544 non-null  float64\n",
      " 51  Total Damages ('000 US$)  95450 non-null   float64\n",
      " 52  CPI                       130593 non-null  float64\n",
      "dtypes: float64(34), object(19)\n",
      "memory usage: 56.2+ MB\n"
     ]
    }
   ],
   "source": [
    "df.info()"
   ]
  },
  {
   "cell_type": "code",
   "execution_count": 15,
   "metadata": {},
   "outputs": [
    {
     "name": "stdout",
     "output_type": "stream",
     "text": [
      "               State  Avg MSL Trend (mm/yr)  Total Nourishment Volume (CY)\n",
      "0                 AK              -4.844444                            NaN\n",
      "1                 AL               4.630000                     20122400.0\n",
      "2     American Samoa               2.480000                            NaN\n",
      "3            Bermuda               2.215000                            NaN\n",
      "4                 CA               1.726667                    370747160.0\n",
      "5                 CT               3.100000                      6150772.0\n",
      "6                 DC               3.490000                            NaN\n",
      "7                 DE               3.800000                     29317965.0\n",
      "8                 FL               3.768333                    350971605.0\n",
      "9                 GA               3.610000                     14186818.0\n",
      "10              Guam               4.530000                            NaN\n",
      "11                HI               2.310000                            NaN\n",
      "12                LA               7.660000                    109803785.0\n",
      "13                MA               3.340000                      4733693.0\n",
      "14                MD               4.097143                     17802318.0\n",
      "15                ME               2.228000                       991818.0\n",
      "16                MS               4.700000                     30955443.0\n",
      "17  Marshall Islands               2.060000                            NaN\n",
      "18                NC               4.180000                    149570374.0\n",
      "19                NH               2.040000                      1870000.0\n",
      "20                NJ               4.476667                    240045708.0\n",
      "21                NY               3.432500                     99195758.0\n",
      "22                OR               1.040000                            NaN\n",
      "23                PA               3.110000                            NaN\n",
      "24                PR               2.075000                            NaN\n",
      "25     Pacific Ocean               2.070000                            NaN\n",
      "26                RI               2.740000                       264080.0\n",
      "27                SC               3.385000                     69878357.0\n",
      "28                TX               5.841538                     10425369.0\n",
      "29           Unknown               1.560000                            NaN\n",
      "30                VA               5.504444                     40903055.0\n",
      "31                VI               2.425000                            NaN\n",
      "32                WA               0.605714                      1293570.0\n"
     ]
    }
   ],
   "source": [
    "\n",
    "# Aggregate MSL trends by state\n",
    "avg_msl_trends = usstations.groupby('State')['MSL Trends mm per yr'].mean()\n",
    "\n",
    "# Aggregate beach nourishment volume by state\n",
    "total_nourishment_volume = beach.groupby('State')['Volume (CY)'].sum()\n",
    "\n",
    "sealevel_Beachvolume = pd.DataFrame({\n",
    "    'Avg MSL Trend (mm/yr)': avg_msl_trends,\n",
    "    'Total Nourishment Volume (CY)': total_nourishment_volume\n",
    "}).reset_index()\n",
    "print(sealevel_Beachvolume)\n"
   ]
  },
  {
   "cell_type": "code",
   "execution_count": 22,
   "metadata": {},
   "outputs": [
    {
     "data": {
      "application/vnd.plotly.v1+json": {
       "config": {
        "plotlyServerURL": "https://plot.ly"
       },
       "data": [
        {
         "hovertemplate": "<b>%{hovertext}</b><br><br>Avg MSL Trend (mm/yr)=%{x}<br>Total Nourishment Volume (CY)=%{marker.size}<extra></extra>",
         "hovertext": [
          "AK",
          "AL",
          "American Samoa",
          "Bermuda",
          "CA",
          "CT",
          "DC",
          "DE",
          "FL",
          "GA",
          "Guam",
          "HI",
          "LA",
          "MA",
          "MD",
          "ME",
          "MS",
          "Marshall Islands",
          "NC",
          "NH",
          "NJ",
          "NY",
          "OR",
          "PA",
          "PR",
          "Pacific Ocean",
          "RI",
          "SC",
          "TX",
          "Unknown",
          "VA",
          "VI",
          "WA"
         ],
         "legendgroup": "",
         "marker": {
          "color": "#636efa",
          "size": [
           0,
           20122400,
           0,
           0,
           370747160,
           6150772,
           0,
           29317965,
           350971605,
           14186818,
           0,
           0,
           109803785,
           4733693,
           17802318,
           991818,
           30955443,
           0,
           149570374,
           1870000,
           240045708,
           99195758,
           0,
           0,
           0,
           0,
           264080,
           69878357,
           10425369,
           0,
           40903055,
           0,
           1293570
          ],
          "sizemode": "area",
          "sizeref": 926867.9,
          "symbol": "circle"
         },
         "mode": "markers",
         "name": "",
         "orientation": "v",
         "showlegend": false,
         "textposition": "top center",
         "type": "scatter",
         "x": [
          -4.844444444444445,
          4.63,
          2.48,
          2.215,
          1.7266666666666666,
          3.1,
          3.49,
          3.8,
          3.768333333333333,
          3.61,
          4.53,
          2.31,
          7.66,
          3.34,
          4.097142857142857,
          2.228,
          4.7,
          2.06,
          4.18,
          2.04,
          4.476666666666667,
          3.4325,
          1.04,
          3.11,
          2.075,
          2.07,
          2.74,
          3.385,
          5.841538461538462,
          1.56,
          5.504444444444444,
          2.425,
          0.6057142857142858
         ],
         "xaxis": "x",
         "y": [
          0,
          20122400,
          0,
          0,
          370747160,
          6150772,
          0,
          29317965,
          350971605,
          14186818,
          0,
          0,
          109803785,
          4733693,
          17802318,
          991818,
          30955443,
          0,
          149570374,
          1870000,
          240045708,
          99195758,
          0,
          0,
          0,
          0,
          264080,
          69878357,
          10425369,
          0,
          40903055,
          0,
          1293570
         ],
         "yaxis": "y"
        }
       ],
       "layout": {
        "legend": {
         "itemsizing": "constant",
         "tracegroupgap": 0
        },
        "template": {
         "data": {
          "bar": [
           {
            "error_x": {
             "color": "#2a3f5f"
            },
            "error_y": {
             "color": "#2a3f5f"
            },
            "marker": {
             "line": {
              "color": "#E5ECF6",
              "width": 0.5
             },
             "pattern": {
              "fillmode": "overlay",
              "size": 10,
              "solidity": 0.2
             }
            },
            "type": "bar"
           }
          ],
          "barpolar": [
           {
            "marker": {
             "line": {
              "color": "#E5ECF6",
              "width": 0.5
             },
             "pattern": {
              "fillmode": "overlay",
              "size": 10,
              "solidity": 0.2
             }
            },
            "type": "barpolar"
           }
          ],
          "carpet": [
           {
            "aaxis": {
             "endlinecolor": "#2a3f5f",
             "gridcolor": "white",
             "linecolor": "white",
             "minorgridcolor": "white",
             "startlinecolor": "#2a3f5f"
            },
            "baxis": {
             "endlinecolor": "#2a3f5f",
             "gridcolor": "white",
             "linecolor": "white",
             "minorgridcolor": "white",
             "startlinecolor": "#2a3f5f"
            },
            "type": "carpet"
           }
          ],
          "choropleth": [
           {
            "colorbar": {
             "outlinewidth": 0,
             "ticks": ""
            },
            "type": "choropleth"
           }
          ],
          "contour": [
           {
            "colorbar": {
             "outlinewidth": 0,
             "ticks": ""
            },
            "colorscale": [
             [
              0,
              "#0d0887"
             ],
             [
              0.1111111111111111,
              "#46039f"
             ],
             [
              0.2222222222222222,
              "#7201a8"
             ],
             [
              0.3333333333333333,
              "#9c179e"
             ],
             [
              0.4444444444444444,
              "#bd3786"
             ],
             [
              0.5555555555555556,
              "#d8576b"
             ],
             [
              0.6666666666666666,
              "#ed7953"
             ],
             [
              0.7777777777777778,
              "#fb9f3a"
             ],
             [
              0.8888888888888888,
              "#fdca26"
             ],
             [
              1,
              "#f0f921"
             ]
            ],
            "type": "contour"
           }
          ],
          "contourcarpet": [
           {
            "colorbar": {
             "outlinewidth": 0,
             "ticks": ""
            },
            "type": "contourcarpet"
           }
          ],
          "heatmap": [
           {
            "colorbar": {
             "outlinewidth": 0,
             "ticks": ""
            },
            "colorscale": [
             [
              0,
              "#0d0887"
             ],
             [
              0.1111111111111111,
              "#46039f"
             ],
             [
              0.2222222222222222,
              "#7201a8"
             ],
             [
              0.3333333333333333,
              "#9c179e"
             ],
             [
              0.4444444444444444,
              "#bd3786"
             ],
             [
              0.5555555555555556,
              "#d8576b"
             ],
             [
              0.6666666666666666,
              "#ed7953"
             ],
             [
              0.7777777777777778,
              "#fb9f3a"
             ],
             [
              0.8888888888888888,
              "#fdca26"
             ],
             [
              1,
              "#f0f921"
             ]
            ],
            "type": "heatmap"
           }
          ],
          "heatmapgl": [
           {
            "colorbar": {
             "outlinewidth": 0,
             "ticks": ""
            },
            "colorscale": [
             [
              0,
              "#0d0887"
             ],
             [
              0.1111111111111111,
              "#46039f"
             ],
             [
              0.2222222222222222,
              "#7201a8"
             ],
             [
              0.3333333333333333,
              "#9c179e"
             ],
             [
              0.4444444444444444,
              "#bd3786"
             ],
             [
              0.5555555555555556,
              "#d8576b"
             ],
             [
              0.6666666666666666,
              "#ed7953"
             ],
             [
              0.7777777777777778,
              "#fb9f3a"
             ],
             [
              0.8888888888888888,
              "#fdca26"
             ],
             [
              1,
              "#f0f921"
             ]
            ],
            "type": "heatmapgl"
           }
          ],
          "histogram": [
           {
            "marker": {
             "pattern": {
              "fillmode": "overlay",
              "size": 10,
              "solidity": 0.2
             }
            },
            "type": "histogram"
           }
          ],
          "histogram2d": [
           {
            "colorbar": {
             "outlinewidth": 0,
             "ticks": ""
            },
            "colorscale": [
             [
              0,
              "#0d0887"
             ],
             [
              0.1111111111111111,
              "#46039f"
             ],
             [
              0.2222222222222222,
              "#7201a8"
             ],
             [
              0.3333333333333333,
              "#9c179e"
             ],
             [
              0.4444444444444444,
              "#bd3786"
             ],
             [
              0.5555555555555556,
              "#d8576b"
             ],
             [
              0.6666666666666666,
              "#ed7953"
             ],
             [
              0.7777777777777778,
              "#fb9f3a"
             ],
             [
              0.8888888888888888,
              "#fdca26"
             ],
             [
              1,
              "#f0f921"
             ]
            ],
            "type": "histogram2d"
           }
          ],
          "histogram2dcontour": [
           {
            "colorbar": {
             "outlinewidth": 0,
             "ticks": ""
            },
            "colorscale": [
             [
              0,
              "#0d0887"
             ],
             [
              0.1111111111111111,
              "#46039f"
             ],
             [
              0.2222222222222222,
              "#7201a8"
             ],
             [
              0.3333333333333333,
              "#9c179e"
             ],
             [
              0.4444444444444444,
              "#bd3786"
             ],
             [
              0.5555555555555556,
              "#d8576b"
             ],
             [
              0.6666666666666666,
              "#ed7953"
             ],
             [
              0.7777777777777778,
              "#fb9f3a"
             ],
             [
              0.8888888888888888,
              "#fdca26"
             ],
             [
              1,
              "#f0f921"
             ]
            ],
            "type": "histogram2dcontour"
           }
          ],
          "mesh3d": [
           {
            "colorbar": {
             "outlinewidth": 0,
             "ticks": ""
            },
            "type": "mesh3d"
           }
          ],
          "parcoords": [
           {
            "line": {
             "colorbar": {
              "outlinewidth": 0,
              "ticks": ""
             }
            },
            "type": "parcoords"
           }
          ],
          "pie": [
           {
            "automargin": true,
            "type": "pie"
           }
          ],
          "scatter": [
           {
            "fillpattern": {
             "fillmode": "overlay",
             "size": 10,
             "solidity": 0.2
            },
            "type": "scatter"
           }
          ],
          "scatter3d": [
           {
            "line": {
             "colorbar": {
              "outlinewidth": 0,
              "ticks": ""
             }
            },
            "marker": {
             "colorbar": {
              "outlinewidth": 0,
              "ticks": ""
             }
            },
            "type": "scatter3d"
           }
          ],
          "scattercarpet": [
           {
            "marker": {
             "colorbar": {
              "outlinewidth": 0,
              "ticks": ""
             }
            },
            "type": "scattercarpet"
           }
          ],
          "scattergeo": [
           {
            "marker": {
             "colorbar": {
              "outlinewidth": 0,
              "ticks": ""
             }
            },
            "type": "scattergeo"
           }
          ],
          "scattergl": [
           {
            "marker": {
             "colorbar": {
              "outlinewidth": 0,
              "ticks": ""
             }
            },
            "type": "scattergl"
           }
          ],
          "scattermapbox": [
           {
            "marker": {
             "colorbar": {
              "outlinewidth": 0,
              "ticks": ""
             }
            },
            "type": "scattermapbox"
           }
          ],
          "scatterpolar": [
           {
            "marker": {
             "colorbar": {
              "outlinewidth": 0,
              "ticks": ""
             }
            },
            "type": "scatterpolar"
           }
          ],
          "scatterpolargl": [
           {
            "marker": {
             "colorbar": {
              "outlinewidth": 0,
              "ticks": ""
             }
            },
            "type": "scatterpolargl"
           }
          ],
          "scatterternary": [
           {
            "marker": {
             "colorbar": {
              "outlinewidth": 0,
              "ticks": ""
             }
            },
            "type": "scatterternary"
           }
          ],
          "surface": [
           {
            "colorbar": {
             "outlinewidth": 0,
             "ticks": ""
            },
            "colorscale": [
             [
              0,
              "#0d0887"
             ],
             [
              0.1111111111111111,
              "#46039f"
             ],
             [
              0.2222222222222222,
              "#7201a8"
             ],
             [
              0.3333333333333333,
              "#9c179e"
             ],
             [
              0.4444444444444444,
              "#bd3786"
             ],
             [
              0.5555555555555556,
              "#d8576b"
             ],
             [
              0.6666666666666666,
              "#ed7953"
             ],
             [
              0.7777777777777778,
              "#fb9f3a"
             ],
             [
              0.8888888888888888,
              "#fdca26"
             ],
             [
              1,
              "#f0f921"
             ]
            ],
            "type": "surface"
           }
          ],
          "table": [
           {
            "cells": {
             "fill": {
              "color": "#EBF0F8"
             },
             "line": {
              "color": "white"
             }
            },
            "header": {
             "fill": {
              "color": "#C8D4E3"
             },
             "line": {
              "color": "white"
             }
            },
            "type": "table"
           }
          ]
         },
         "layout": {
          "annotationdefaults": {
           "arrowcolor": "#2a3f5f",
           "arrowhead": 0,
           "arrowwidth": 1
          },
          "autotypenumbers": "strict",
          "coloraxis": {
           "colorbar": {
            "outlinewidth": 0,
            "ticks": ""
           }
          },
          "colorscale": {
           "diverging": [
            [
             0,
             "#8e0152"
            ],
            [
             0.1,
             "#c51b7d"
            ],
            [
             0.2,
             "#de77ae"
            ],
            [
             0.3,
             "#f1b6da"
            ],
            [
             0.4,
             "#fde0ef"
            ],
            [
             0.5,
             "#f7f7f7"
            ],
            [
             0.6,
             "#e6f5d0"
            ],
            [
             0.7,
             "#b8e186"
            ],
            [
             0.8,
             "#7fbc41"
            ],
            [
             0.9,
             "#4d9221"
            ],
            [
             1,
             "#276419"
            ]
           ],
           "sequential": [
            [
             0,
             "#0d0887"
            ],
            [
             0.1111111111111111,
             "#46039f"
            ],
            [
             0.2222222222222222,
             "#7201a8"
            ],
            [
             0.3333333333333333,
             "#9c179e"
            ],
            [
             0.4444444444444444,
             "#bd3786"
            ],
            [
             0.5555555555555556,
             "#d8576b"
            ],
            [
             0.6666666666666666,
             "#ed7953"
            ],
            [
             0.7777777777777778,
             "#fb9f3a"
            ],
            [
             0.8888888888888888,
             "#fdca26"
            ],
            [
             1,
             "#f0f921"
            ]
           ],
           "sequentialminus": [
            [
             0,
             "#0d0887"
            ],
            [
             0.1111111111111111,
             "#46039f"
            ],
            [
             0.2222222222222222,
             "#7201a8"
            ],
            [
             0.3333333333333333,
             "#9c179e"
            ],
            [
             0.4444444444444444,
             "#bd3786"
            ],
            [
             0.5555555555555556,
             "#d8576b"
            ],
            [
             0.6666666666666666,
             "#ed7953"
            ],
            [
             0.7777777777777778,
             "#fb9f3a"
            ],
            [
             0.8888888888888888,
             "#fdca26"
            ],
            [
             1,
             "#f0f921"
            ]
           ]
          },
          "colorway": [
           "#636efa",
           "#EF553B",
           "#00cc96",
           "#ab63fa",
           "#FFA15A",
           "#19d3f3",
           "#FF6692",
           "#B6E880",
           "#FF97FF",
           "#FECB52"
          ],
          "font": {
           "color": "#2a3f5f"
          },
          "geo": {
           "bgcolor": "white",
           "lakecolor": "white",
           "landcolor": "#E5ECF6",
           "showlakes": true,
           "showland": true,
           "subunitcolor": "white"
          },
          "hoverlabel": {
           "align": "left"
          },
          "hovermode": "closest",
          "mapbox": {
           "style": "light"
          },
          "paper_bgcolor": "white",
          "plot_bgcolor": "#E5ECF6",
          "polar": {
           "angularaxis": {
            "gridcolor": "white",
            "linecolor": "white",
            "ticks": ""
           },
           "bgcolor": "#E5ECF6",
           "radialaxis": {
            "gridcolor": "white",
            "linecolor": "white",
            "ticks": ""
           }
          },
          "scene": {
           "xaxis": {
            "backgroundcolor": "#E5ECF6",
            "gridcolor": "white",
            "gridwidth": 2,
            "linecolor": "white",
            "showbackground": true,
            "ticks": "",
            "zerolinecolor": "white"
           },
           "yaxis": {
            "backgroundcolor": "#E5ECF6",
            "gridcolor": "white",
            "gridwidth": 2,
            "linecolor": "white",
            "showbackground": true,
            "ticks": "",
            "zerolinecolor": "white"
           },
           "zaxis": {
            "backgroundcolor": "#E5ECF6",
            "gridcolor": "white",
            "gridwidth": 2,
            "linecolor": "white",
            "showbackground": true,
            "ticks": "",
            "zerolinecolor": "white"
           }
          },
          "shapedefaults": {
           "line": {
            "color": "#2a3f5f"
           }
          },
          "ternary": {
           "aaxis": {
            "gridcolor": "white",
            "linecolor": "white",
            "ticks": ""
           },
           "baxis": {
            "gridcolor": "white",
            "linecolor": "white",
            "ticks": ""
           },
           "bgcolor": "#E5ECF6",
           "caxis": {
            "gridcolor": "white",
            "linecolor": "white",
            "ticks": ""
           }
          },
          "title": {
           "x": 0.05
          },
          "xaxis": {
           "automargin": true,
           "gridcolor": "white",
           "linecolor": "white",
           "ticks": "",
           "title": {
            "standoff": 15
           },
           "zerolinecolor": "white",
           "zerolinewidth": 2
          },
          "yaxis": {
           "automargin": true,
           "gridcolor": "white",
           "linecolor": "white",
           "ticks": "",
           "title": {
            "standoff": 15
           },
           "zerolinecolor": "white",
           "zerolinewidth": 2
          }
         }
        },
        "title": {
         "text": "Relationship between MSL Trends and Beach Nourishment Volume by State"
        },
        "xaxis": {
         "anchor": "y",
         "domain": [
          0,
          1
         ],
         "showgrid": false,
         "title": {
          "text": "Avg MSL Trend (mm per year)"
         }
        },
        "yaxis": {
         "anchor": "x",
         "domain": [
          0,
          1
         ],
         "showgrid": false,
         "title": {
          "text": "Total Nourishment Volume (Cubic Yards)"
         }
        }
       }
      }
     },
     "metadata": {},
     "output_type": "display_data"
    }
   ],
   "source": [
    "#sealevel_Beachvolume['Total Nourishment Volume (CY)'] = sealevel_Beachvolume['Total Nourishment Volume (CY)'].fillna(0)\n",
    "sealevel_Beachvolume = sealevel_Beachvolume.dropna(subset=['Avg MSL Trend (mm/yr)', 'Total Nourishment Volume (CY)'])\n",
    "\n",
    "\n",
    "\n",
    "fig = px.scatter(sealevel_Beachvolume,\n",
    "                 x='Avg MSL Trend (mm/yr)',\n",
    "                 y='Total Nourishment Volume (CY)',\n",
    "                 size='Total Nourishment Volume (CY)',\n",
    "                 hover_name='State',  \n",
    "                 title='Relationship between MSL Trends and Beach Nourishment Volume by State')\n",
    "\n",
    "fig.update_traces(textposition='top center')\n",
    "fig.update_layout(xaxis_title='Avg MSL Trend (mm per year)',\n",
    "                  yaxis_title='Total Nourishment Volume (Cubic Yards)',\n",
    "                  xaxis_showgrid=False,\n",
    "                  yaxis_showgrid=False)\n",
    "\n",
    "\n",
    "fig.show()\n"
   ]
  },
  {
   "cell_type": "code",
   "execution_count": null,
   "metadata": {},
   "outputs": [],
   "source": []
  }
 ],
 "metadata": {
  "kernelspec": {
   "display_name": "venv",
   "language": "python",
   "name": "python3"
  },
  "language_info": {
   "codemirror_mode": {
    "name": "ipython",
    "version": 3
   },
   "file_extension": ".py",
   "mimetype": "text/x-python",
   "name": "python",
   "nbconvert_exporter": "python",
   "pygments_lexer": "ipython3",
   "version": "3.12.0"
  }
 },
 "nbformat": 4,
 "nbformat_minor": 2
}

{
 "cells": [
  {
   "cell_type": "markdown",
   "metadata": {},
   "source": [
    "This notebook combines our cleaned data.\n",
    "US Stations is from US Linear Relative Sea Level Trends\n",
    "Storms is from the Natural Disasters data and contains the US storm information\n"
   ]
  },
  {
   "cell_type": "code",
   "execution_count": 19,
   "metadata": {},
   "outputs": [],
   "source": [
    "import pandas as pd \n",
    "import numpy as np \n",
    "import matplotlib.pyplot as plt\n",
    "import seaborn as sns\n",
    "import os\n",
    "\n",
    "usstations = pd.read_excel('data/usstations.xlsx')\n",
    "beach = pd.read_excel('data/beach_nourishment_PSDS.xlsx')\n",
    "global_sea_levels = pd.read_excel('data/gmsl.xlsx')\n",
    "storms = pd.read_excel('data/cleanusstorms.xlsx')\n",
    "climate = pd.read_excel('data/climate.xlsx')\n"
   ]
  },
  {
   "cell_type": "code",
   "execution_count": 20,
   "metadata": {},
   "outputs": [
    {
     "name": "stdout",
     "output_type": "stream",
     "text": [
      "   Station ID    Station Name  First Year  Last Year  Year Range  \\\n",
      "0     1611400  Nawiliwili, HI        1955       2023          69   \n",
      "1     1612340    Honolulu, HI        1905       2023         119   \n",
      "2     1612480    Mokuoloe, HI        1957       2023          67   \n",
      "3     1615680     Kahului, HI        1947       2023          77   \n",
      "4     1617433    Kawaihae, HI        1988       2023          36   \n",
      "\n",
      "   Percent Complete  MSL Trends mm per yr  plus minus CI mm yr   \\\n",
      "0               100                  1.79                  0.39   \n",
      "1               100                  1.54                  0.20   \n",
      "2                84                  1.66                  0.49   \n",
      "3                96                  2.21                  0.37   \n",
      "4                92                  3.55                  1.05   \n",
      "\n",
      "   MSL Trend ft per century  95 CI ft century  Latitude  Longitude  \\\n",
      "0                      0.59              0.13   21.9544  -159.3561   \n",
      "1                      0.51              0.07   21.3033  -157.8645   \n",
      "2                      0.55              0.16   21.4331  -157.7900   \n",
      "3                      0.73              0.12   20.8949  -156.4690   \n",
      "4                      1.16              0.34   20.0366  -155.8294   \n",
      "\n",
      "         City State  \n",
      "0  Nawiliwili    HI  \n",
      "1    Honolulu    HI  \n",
      "2    Mokuoloe    HI  \n",
      "3     Kahului    HI  \n",
      "4    Kawaihae    HI  \n"
     ]
    }
   ],
   "source": [
    "print(usstations.head(5))\n"
   ]
  },
  {
   "cell_type": "code",
   "execution_count": 21,
   "metadata": {},
   "outputs": [
    {
     "name": "stdout",
     "output_type": "stream",
     "text": [
      "   ID State         Location  Year Completed Primary Funding Source  \\\n",
      "0   5    AL  Sand Island Bar            1987                Federal   \n",
      "1   8    AL      Perdido Key            1986                Federal   \n",
      "2  11    AL  Sand Island Bar            1988                Federal   \n",
      "3  17    AL      Gulf Shores            2001                  Local   \n",
      "4  20    AL  Sand Island Bar            1988                Federal   \n",
      "\n",
      "      Justification  Length (ft)  Volume (CY)  Total Cost  Year Completed CPI  \\\n",
      "0     Demonstration         6000       464000           0               114.0   \n",
      "1        Navigation            0       660000     1406977               110.0   \n",
      "2     Demonstration          500         1400       60000               118.0   \n",
      "3  Shore Protection        16000      1800000     6000000               177.0   \n",
      "4     Demonstration        10560      2000000     2000000               118.0   \n",
      "\n",
      "   Adjusted Cost (2022)  Total Cost/CY  Adjusted Cost/CY    CY/Foot  \\\n",
      "0                  0.00           0.00              0.00      77.33   \n",
      "1            3743837.89           2.13              5.67  660000.00   \n",
      "2             148830.51          42.86            106.31       2.80   \n",
      "3            9922033.90           3.33              5.51     112.50   \n",
      "4            4961016.95           1.00              2.48     189.39   \n",
      "\n",
      "   Current CPI Other Info                                     Source Comment  \n",
      "0        292.7        NaN  http://www.wes.army.mil/el/dots/budm/facts/san...  \n",
      "1        292.7        NaN                                                138  \n",
      "2        292.7        NaN       http://www.southalabama.edu/cesrp/hbeach.htm  \n",
      "3        292.7        NaN  http://www.weartv.com/news/Stories/may/0503/05...  \n",
      "4        292.7        NaN  http://www.weartv.com/news/Stories/may/0503/05...  \n"
     ]
    }
   ],
   "source": [
    "print(beach.head(5))"
   ]
  },
  {
   "cell_type": "code",
   "execution_count": 22,
   "metadata": {},
   "outputs": [
    {
     "name": "stdout",
     "output_type": "stream",
     "text": [
      "        Time   GMSL  GMSL uncertainty  Year\n",
      "0 1880-01-15 -183.0              24.2  1880\n",
      "1 1880-02-15 -171.1              24.2  1880\n",
      "2 1880-03-15 -164.3              24.2  1880\n",
      "3 1880-04-15 -158.2              24.2  1880\n",
      "4 1880-05-15 -158.7              24.2  1880\n"
     ]
    }
   ],
   "source": [
    "print(global_sea_levels.head(5))"
   ]
  },
  {
   "cell_type": "code",
   "execution_count": 23,
   "metadata": {},
   "outputs": [
    {
     "name": "stdout",
     "output_type": "stream",
     "text": [
      "   Year Disaster Group Disaster Subgroup Disaster Type  Disaster Subtype  \\\n",
      "0  1900        Natural    Meteorological         Storm  Tropical cyclone   \n",
      "1  1903        Natural    Meteorological         Storm  Convective storm   \n",
      "2  1906        Natural    Meteorological         Storm  Tropical cyclone   \n",
      "3  1906        Natural    Meteorological         Storm  Tropical cyclone   \n",
      "4  1909        Natural    Meteorological         Storm  Tropical cyclone   \n",
      "\n",
      "  Disaster Subsubtype Event Name                         Country  ISO  \\\n",
      "0                 NaN        NaN  United States of America (the)  USA   \n",
      "1             Tornado        NaN  United States of America (the)  USA   \n",
      "2                 NaN        NaN  United States of America (the)  USA   \n",
      "3                 NaN        NaN  United States of America (the)  USA   \n",
      "4                 NaN        NaN  United States of America (the)  USA   \n",
      "\n",
      "             Region  ... Start Year Start Month  Start Day End Year  \\\n",
      "0  Northern America  ...       1900         9.0        8.0     1900   \n",
      "1  Northern America  ...       1903         NaN        NaN     1903   \n",
      "2  Northern America  ...       1906         NaN        NaN     1906   \n",
      "3  Northern America  ...       1906         NaN        NaN     1906   \n",
      "4  Northern America  ...       1909         NaN        NaN     1909   \n",
      "\n",
      "   End Month  End Day  Total Deaths  Total Damages ('000 US$)       CPI  \\\n",
      "0        9.0      8.0        6000.0                   30000.0  3.221647   \n",
      "1        NaN      NaN          98.0                       NaN  3.479379   \n",
      "2        NaN      NaN         164.0                       NaN  3.479379   \n",
      "3        NaN      NaN         134.0                       NaN  3.479379   \n",
      "4        NaN      NaN         350.0                       NaN  3.479379   \n",
      "\n",
      "   State_Abbreviations  \n",
      "0                   TX  \n",
      "1                   GA  \n",
      "2                   FL  \n",
      "3           AL, FL, MS  \n",
      "4                   LA  \n",
      "\n",
      "[5 rows x 24 columns]\n"
     ]
    }
   ],
   "source": [
    "print(storms.head(5))"
   ]
  },
  {
   "cell_type": "code",
   "execution_count": 24,
   "metadata": {},
   "outputs": [
    {
     "name": "stdout",
     "output_type": "stream",
     "text": [
      "                     Date          Location        Country  Temperature  \\\n",
      "0 2000-01-01 00:00:00.000   New Williamtown         Latvia    10.688986   \n",
      "1 2000-01-01 20:09:43.258      North Rachel   South Africa    13.814430   \n",
      "2 2000-01-02 16:19:26.517  West Williamland  French Guiana    27.323718   \n",
      "3 2000-01-03 12:29:09.775       South David        Vietnam    12.309581   \n",
      "4 2000-01-04 08:38:53.033    New Scottburgh        Moldova    13.210885   \n",
      "\n",
      "   CO2_Emissions  Sea_Level_Rise  Precipitation   Humidity  Wind_Speed  Year  \n",
      "0     403.118903        0.717506      13.835237  23.631256   18.492026  2000  \n",
      "1     396.663499        1.205715      40.974084  43.982946   34.249300  2000  \n",
      "2     451.553155       -0.160783      42.697931  96.652600   34.124261  2000  \n",
      "3     422.404983       -0.475931       5.193341  47.467938    8.554563  2000  \n",
      "4     410.472999        1.135757      78.695280  61.789672    8.001164  2000  \n"
     ]
    }
   ],
   "source": [
    "print(climate.head(5))"
   ]
  },
  {
   "cell_type": "code",
   "execution_count": 25,
   "metadata": {},
   "outputs": [
    {
     "name": "stdout",
     "output_type": "stream",
     "text": [
      "<class 'pandas.core.frame.DataFrame'>\n",
      "RangeIndex: 10000 entries, 0 to 9999\n",
      "Data columns (total 10 columns):\n",
      " #   Column          Non-Null Count  Dtype         \n",
      "---  ------          --------------  -----         \n",
      " 0   Date            10000 non-null  datetime64[ns]\n",
      " 1   Location        10000 non-null  object        \n",
      " 2   Country         10000 non-null  object        \n",
      " 3   Temperature     10000 non-null  float64       \n",
      " 4   CO2_Emissions   10000 non-null  float64       \n",
      " 5   Sea_Level_Rise  10000 non-null  float64       \n",
      " 6   Precipitation   10000 non-null  float64       \n",
      " 7   Humidity        10000 non-null  float64       \n",
      " 8   Wind_Speed      10000 non-null  float64       \n",
      " 9   Year            10000 non-null  int64         \n",
      "dtypes: datetime64[ns](1), float64(6), int64(1), object(2)\n",
      "memory usage: 781.4+ KB\n"
     ]
    }
   ],
   "source": [
    "climate.info()"
   ]
  },
  {
   "cell_type": "code",
   "execution_count": 26,
   "metadata": {},
   "outputs": [
    {
     "name": "stdout",
     "output_type": "stream",
     "text": [
      "   ID State Location  Year Completed Primary Funding Source Justification  \\\n",
      "0 NaN    AK      NaN             NaN                    NaN           NaN   \n",
      "1 NaN    AK      NaN             NaN                    NaN           NaN   \n",
      "2 NaN    AK      NaN             NaN                    NaN           NaN   \n",
      "3 NaN    AK      NaN             NaN                    NaN           NaN   \n",
      "4 NaN    AK      NaN             NaN                    NaN           NaN   \n",
      "\n",
      "   Length (ft)  Volume (CY)  Total Cost  Year Completed CPI  ...  Last Year  \\\n",
      "0          NaN          NaN         NaN                 NaN  ...       2023   \n",
      "1          NaN          NaN         NaN                 NaN  ...       2023   \n",
      "2          NaN          NaN         NaN                 NaN  ...       2023   \n",
      "3          NaN          NaN         NaN                 NaN  ...       2023   \n",
      "4          NaN          NaN         NaN                 NaN  ...       2023   \n",
      "\n",
      "   Year Range  Percent Complete  MSL Trends mm per yr  plus minus CI mm yr   \\\n",
      "0         105                99                 -0.36                  0.20   \n",
      "1         100                88                 -2.45                  0.25   \n",
      "2          88                97                -13.43                  0.31   \n",
      "3          80                84                -18.04                  0.46   \n",
      "4          36                98                -15.43                  1.04   \n",
      "\n",
      "  MSL Trend ft per century 95 CI ft century  Latitude Longitude       City  \n",
      "0                    -0.12             0.07   55.3319 -131.6261  Ketchikan  \n",
      "1                    -0.80             0.08   57.0517 -135.3420      Sitka  \n",
      "2                    -4.41             0.10   58.2988 -134.4106     Juneau  \n",
      "3                    -5.92             0.15   59.4508 -135.3280    Skagway  \n",
      "4                    -5.06             0.34   59.5483 -139.7331    Yakutat  \n",
      "\n",
      "[5 rows x 30 columns]\n"
     ]
    }
   ],
   "source": [
    "beachlevels = pd.merge(beach, usstations, on='State', how='outer') \n",
    "print(beachlevels.head(5))"
   ]
  },
  {
   "cell_type": "code",
   "execution_count": 27,
   "metadata": {},
   "outputs": [
    {
     "name": "stdout",
     "output_type": "stream",
     "text": [
      "<class 'pandas.core.frame.DataFrame'>\n",
      "RangeIndex: 23453 entries, 0 to 23452\n",
      "Data columns (total 30 columns):\n",
      " #   Column                    Non-Null Count  Dtype  \n",
      "---  ------                    --------------  -----  \n",
      " 0   ID                        23411 non-null  float64\n",
      " 1   State                     23453 non-null  object \n",
      " 2   Location                  23411 non-null  object \n",
      " 3   Year Completed            23411 non-null  float64\n",
      " 4   Primary Funding Source    23375 non-null  object \n",
      " 5   Justification             23411 non-null  object \n",
      " 6   Length (ft)               23411 non-null  float64\n",
      " 7   Volume (CY)               23411 non-null  float64\n",
      " 8   Total Cost                23411 non-null  float64\n",
      " 9   Year Completed CPI        23411 non-null  float64\n",
      " 10  Adjusted Cost (2022)      23411 non-null  float64\n",
      " 11  Total Cost/CY             23411 non-null  float64\n",
      " 12  Adjusted Cost/CY          23411 non-null  float64\n",
      " 13  CY/Foot                   23411 non-null  float64\n",
      " 14  Current CPI               23411 non-null  float64\n",
      " 15  Other Info                1148 non-null   object \n",
      " 16  Source Comment            10155 non-null  object \n",
      " 17  Station ID                23453 non-null  int64  \n",
      " 18  Station Name              23453 non-null  object \n",
      " 19  First Year                23453 non-null  int64  \n",
      " 20  Last Year                 23453 non-null  int64  \n",
      " 21  Year Range                23453 non-null  int64  \n",
      " 22  Percent Complete          23453 non-null  int64  \n",
      " 23  MSL Trends mm per yr      23453 non-null  float64\n",
      " 24  plus minus CI mm yr       23453 non-null  float64\n",
      " 25  MSL Trend ft per century  23453 non-null  float64\n",
      " 26  95 CI ft century          23453 non-null  float64\n",
      " 27  Latitude                  23453 non-null  float64\n",
      " 28  Longitude                 23453 non-null  float64\n",
      " 29  City                      23453 non-null  object \n",
      "dtypes: float64(17), int64(5), object(8)\n",
      "memory usage: 5.4+ MB\n"
     ]
    }
   ],
   "source": [
    "beachlevels.info()\n",
    "beachlevels.to_excel('data/beachlevels.xlsx')"
   ]
  },
  {
   "cell_type": "code",
   "execution_count": 28,
   "metadata": {},
   "outputs": [
    {
     "name": "stdout",
     "output_type": "stream",
     "text": [
      "  Date Location Country  Temperature  CO2_Emissions  Sea_Level_Rise  \\\n",
      "0  NaT      NaN     NaN          NaN            NaN             NaN   \n",
      "1  NaT      NaN     NaN          NaN            NaN             NaN   \n",
      "2  NaT      NaN     NaN          NaN            NaN             NaN   \n",
      "3  NaT      NaN     NaN          NaN            NaN             NaN   \n",
      "4  NaT      NaN     NaN          NaN            NaN             NaN   \n",
      "\n",
      "   Precipitation  Humidity  Wind_Speed  Year       Time   GMSL  \\\n",
      "0            NaN       NaN         NaN  1880 1880-01-15 -183.0   \n",
      "1            NaN       NaN         NaN  1880 1880-02-15 -171.1   \n",
      "2            NaN       NaN         NaN  1880 1880-03-15 -164.3   \n",
      "3            NaN       NaN         NaN  1880 1880-04-15 -158.2   \n",
      "4            NaN       NaN         NaN  1880 1880-05-15 -158.7   \n",
      "\n",
      "   GMSL uncertainty  \n",
      "0              24.2  \n",
      "1              24.2  \n",
      "2              24.2  \n",
      "3              24.2  \n",
      "4              24.2  \n"
     ]
    }
   ],
   "source": [
    "globalclimate = pd.merge(climate, global_sea_levels, on='Year', how='outer')\n",
    "print(globalclimate.head(5))\n"
   ]
  },
  {
   "cell_type": "code",
   "execution_count": null,
   "metadata": {},
   "outputs": [],
   "source": []
  },
  {
   "cell_type": "code",
   "execution_count": 29,
   "metadata": {},
   "outputs": [
    {
     "name": "stdout",
     "output_type": "stream",
     "text": [
      "   ID State Location_x  Year Completed Primary Funding Source Justification  \\\n",
      "0 NaN   NaN        NaN             NaN                    NaN           NaN   \n",
      "1 NaN   NaN        NaN             NaN                    NaN           NaN   \n",
      "2 NaN   NaN        NaN             NaN                    NaN           NaN   \n",
      "3 NaN   NaN        NaN             NaN                    NaN           NaN   \n",
      "4 NaN   NaN        NaN             NaN                    NaN           NaN   \n",
      "\n",
      "   Length (ft)  Volume (CY)  Total Cost  Year Completed CPI  ...  Start Year  \\\n",
      "0          NaN          NaN         NaN                 NaN  ...      1900.0   \n",
      "1          NaN          NaN         NaN                 NaN  ...      1903.0   \n",
      "2          NaN          NaN         NaN                 NaN  ...      1906.0   \n",
      "3          NaN          NaN         NaN                 NaN  ...      1906.0   \n",
      "4          NaN          NaN         NaN                 NaN  ...      1909.0   \n",
      "\n",
      "   Start Month  Start Day  End Year  End Month End Day Total Deaths  \\\n",
      "0          9.0        8.0    1900.0        9.0     8.0       6000.0   \n",
      "1          NaN        NaN    1903.0        NaN     NaN         98.0   \n",
      "2          NaN        NaN    1906.0        NaN     NaN        164.0   \n",
      "3          NaN        NaN    1906.0        NaN     NaN        134.0   \n",
      "4          NaN        NaN    1909.0        NaN     NaN        350.0   \n",
      "\n",
      "   Total Damages ('000 US$)       CPI State_Abbreviations  \n",
      "0                   30000.0  3.221647                  TX  \n",
      "1                       NaN  3.479379                  GA  \n",
      "2                       NaN  3.479379                  FL  \n",
      "3                       NaN  3.479379          AL, FL, MS  \n",
      "4                       NaN  3.479379                  LA  \n",
      "\n",
      "[5 rows x 41 columns]\n"
     ]
    }
   ],
   "source": [
    "beachstorms = pd.merge(beach, storms, left_on='Year Completed', right_on='Year', how='outer')\n",
    "beachstorms.to_excel('data/beachstorms.xlsx')\n",
    "print(beachstorms.head(5))"
   ]
  },
  {
   "cell_type": "code",
   "execution_count": null,
   "metadata": {},
   "outputs": [],
   "source": []
  }
 ],
 "metadata": {
  "kernelspec": {
   "display_name": "venv",
   "language": "python",
   "name": "python3"
  },
  "language_info": {
   "codemirror_mode": {
    "name": "ipython",
    "version": 3
   },
   "file_extension": ".py",
   "mimetype": "text/x-python",
   "name": "python",
   "nbconvert_exporter": "python",
   "pygments_lexer": "ipython3",
   "version": "3.12.0"
  }
 },
 "nbformat": 4,
 "nbformat_minor": 2
}

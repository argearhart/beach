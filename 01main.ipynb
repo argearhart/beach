{
 "cells": [
  {
   "cell_type": "markdown",
   "metadata": {},
   "source": [
    "This notebook combines our cleaned data.\n",
    "US Stations is from US Linear Relative Sea Level Trends\n",
    "Storms is from the Natural Disasters data and contains the US storm information\n"
   ]
  },
  {
   "cell_type": "code",
   "execution_count": 12,
   "metadata": {},
   "outputs": [],
   "source": [
    "import pandas as pd \n",
    "import numpy as np \n",
    "import matplotlib.pyplot as plt\n",
    "import seaborn as sns\n",
    "import os\n",
    "\n",
    "usstations = pd.read_excel('data/usstations.xlsx')\n",
    "beach = pd.read_excel('data/beach_data.xlsx')\n",
    "storms = pd.read_excel('data/cleanusstorms.xlsx')\n"
   ]
  },
  {
   "cell_type": "markdown",
   "metadata": {},
   "source": [
    "Group data by the region column and aggregate"
   ]
  },
  {
   "cell_type": "code",
   "execution_count": 14,
   "metadata": {},
   "outputs": [
    {
     "name": "stdout",
     "output_type": "stream",
     "text": [
      "       Region  counts\n",
      "4  West Coast      51\n",
      "0  East Coast      47\n",
      "1  Gulf Coast      36\n",
      "2      Island       8\n",
      "3       Other       3\n"
     ]
    }
   ],
   "source": [
    "stationsgroup = usstations.groupby('Region').size().reset_index(name='counts')\n",
    "stationsgroup = stationsgroup.sort_values('counts', ascending=False)\n",
    "stationsgroup = stationsgroup.head(10)\n",
    "print(stationsgroup)\n"
   ]
  },
  {
   "cell_type": "code",
   "execution_count": 17,
   "metadata": {},
   "outputs": [
    {
     "name": "stdout",
     "output_type": "stream",
     "text": [
      "       Region  counts\n",
      "0  East Coast    1238\n",
      "1  Gulf Coast     842\n",
      "2  West Coast     379\n"
     ]
    }
   ],
   "source": [
    "beachgroup = beach.groupby('Region').size().reset_index(name='counts')\n",
    "beachgroup = beachgroup.sort_values('counts', ascending=False)\n",
    "beachgroup = beachgroup.head(10)\n",
    "print(beachgroup)"
   ]
  },
  {
   "cell_type": "code",
   "execution_count": 18,
   "metadata": {},
   "outputs": [
    {
     "name": "stdout",
     "output_type": "stream",
     "text": [
      "       Region  counts\n",
      "2       Other     570\n",
      "1  Gulf Coast      74\n",
      "0  East Coast      22\n",
      "3  West Coast      18\n"
     ]
    }
   ],
   "source": [
    "stormsgroup = storms.groupby('Region').size().reset_index(name='counts')\n",
    "stormsgroup = stormsgroup.sort_values('counts', ascending=False)\n",
    "stormsgroup = stormsgroup.head(10)\n",
    "print(stormsgroup)"
   ]
  },
  {
   "cell_type": "code",
   "execution_count": 19,
   "metadata": {},
   "outputs": [],
   "source": [
    "# Filter the storms DataFrame for rows where the Region is 'Other'\n",
    "storms_other = storms[storms['Region'] == 'Other']\n"
   ]
  },
  {
   "cell_type": "code",
   "execution_count": 15,
   "metadata": {},
   "outputs": [
    {
     "name": "stdout",
     "output_type": "stream",
     "text": [
      "   Station ID  Station Name  First Year  Last Year  Year Range  \\\n",
      "0     8410140  Eastport, ME        1929       2023          95   \n",
      "1     8410140  Eastport, ME        1929       2023          95   \n",
      "2     8410140  Eastport, ME        1929       2023          95   \n",
      "3     8410140  Eastport, ME        1929       2023          95   \n",
      "4     8410140  Eastport, ME        1929       2023          95   \n",
      "\n",
      "   Percent Complete  MSL Trends mm per yr  plus minus CI mm yr   \\\n",
      "0                97                  2.28                  0.16   \n",
      "1                97                  2.28                  0.16   \n",
      "2                97                  2.28                  0.16   \n",
      "3                97                  2.28                  0.16   \n",
      "4                97                  2.28                  0.16   \n",
      "\n",
      "   MSL Trend ft per century  95 CI ft century  ...  Start Year  Start Month  \\\n",
      "0                      0.75              0.05  ...      1903.0          NaN   \n",
      "1                      0.75              0.05  ...      1938.0          9.0   \n",
      "2                      0.75              0.05  ...      1940.0          NaN   \n",
      "3                      0.75              0.05  ...      1953.0          6.0   \n",
      "4                      0.75              0.05  ...      1955.0          NaN   \n",
      "\n",
      "  Start Day End Year End Month End Day Total Deaths  Total Damages ('000 US$)  \\\n",
      "0       NaN   1903.0       NaN     NaN         98.0                       NaN   \n",
      "1       NaN   1938.0       9.0     NaN        600.0                  306000.0   \n",
      "2       NaN   1940.0       NaN     NaN         50.0                       NaN   \n",
      "3       NaN   1953.0       6.0     NaN         92.0                   52000.0   \n",
      "4       NaN   1955.0       NaN     NaN         25.0                       NaN   \n",
      "\n",
      "         CPI State  \n",
      "0   3.479379    GA  \n",
      "1   5.451027    NY  \n",
      "2   5.425254    GA  \n",
      "3  10.360818    MA  \n",
      "4  10.345381    NC  \n",
      "\n",
      "[5 rows x 52 columns]\n",
      "Index(['Station ID', 'Station Name', 'First Year', 'Last Year', 'Year Range',\n",
      "       'Percent Complete', 'MSL Trends mm per yr', 'plus minus CI mm yr ',\n",
      "       'MSL Trend ft per century', '95 CI ft century', 'Latitude', 'Longitude',\n",
      "       'City', 'State_x', 'Region', 'State_y', 'Location_x', 'Year Completed',\n",
      "       'Primary Funding Source', 'Justification', 'Length (ft)', 'Volume (CY)',\n",
      "       'Total Cost', 'Year Completed CPI', 'Adjusted Cost (2022)',\n",
      "       'Total Cost/CY', 'Adjusted Cost/CY', 'CY/Foot', 'Current CPI', 'Year',\n",
      "       'Disaster Group', 'Disaster Subgroup', 'Disaster Type',\n",
      "       'Disaster Subtype', 'Disaster Subsubtype', 'Event Name', 'Country',\n",
      "       'ISO', 'Continent', 'Location_y', 'Dis Mag Value', 'Dis Mag Scale',\n",
      "       'Start Year', 'Start Month', 'Start Day', 'End Year', 'End Month',\n",
      "       'End Day', 'Total Deaths', 'Total Damages ('000 US$)', 'CPI', 'State'],\n",
      "      dtype='object')\n"
     ]
    }
   ],
   "source": [
    "merge_df = pd.merge(usstations, beach, on='Region', how='outer')\n",
    "\n",
    "df = pd.merge(merge_df, storms, on='Region', how='outer')\n",
    "print(df.head(5))\n",
    "print(df.columns)"
   ]
  },
  {
   "cell_type": "code",
   "execution_count": 21,
   "metadata": {},
   "outputs": [
    {
     "name": "stdout",
     "output_type": "stream",
     "text": [
      "Index(['Year', 'Disaster Group', 'Disaster Subgroup', 'Disaster Type',\n",
      "       'Disaster Subtype', 'Disaster Subsubtype', 'Event Name', 'Country',\n",
      "       'ISO', 'Region', 'Continent', 'Location', 'Dis Mag Value',\n",
      "       'Dis Mag Scale', 'Start Year', 'Start Month', 'Start Day', 'End Year',\n",
      "       'End Month', 'End Day', 'Total Deaths', 'Total Damages ('000 US$)',\n",
      "       'CPI', 'State'],\n",
      "      dtype='object')\n"
     ]
    }
   ],
   "source": [
    "# Get descriptive statistics\n",
    "print(storms_other.columns)\n"
   ]
  },
  {
   "cell_type": "code",
   "execution_count": null,
   "metadata": {},
   "outputs": [],
   "source": []
  }
 ],
 "metadata": {
  "kernelspec": {
   "display_name": "venv",
   "language": "python",
   "name": "python3"
  },
  "language_info": {
   "codemirror_mode": {
    "name": "ipython",
    "version": 3
   },
   "file_extension": ".py",
   "mimetype": "text/x-python",
   "name": "python",
   "nbconvert_exporter": "python",
   "pygments_lexer": "ipython3",
   "version": "3.12.0"
  }
 },
 "nbformat": 4,
 "nbformat_minor": 2
}

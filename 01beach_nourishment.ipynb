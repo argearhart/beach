{
 "cells": [
  {
   "cell_type": "markdown",
   "metadata": {},
   "source": [
    "# Beach Nourishment Projects\n",
    "\n",
    "Initial exploration, cleaning and visualizations of the Beach Nourishment project data.  Creates new excel file beach_data as well as several visualizations"
   ]
  },
  {
   "cell_type": "code",
   "execution_count": 50,
   "metadata": {},
   "outputs": [],
   "source": [
    "import pandas as pd \n",
    "import numpy as np \n",
    "import seaborn as sns   \n",
    "import matplotlib.pyplot as plt  \n",
    "\n",
    "import plotly.express as px\n",
    "\n",
    "import os"
   ]
  },
  {
   "cell_type": "code",
   "execution_count": 51,
   "metadata": {},
   "outputs": [
    {
     "name": "stdout",
     "output_type": "stream",
     "text": [
      "   ID State         Location  Year Completed Primary Funding Source  \\\n",
      "0   5    AL  Sand Island Bar            1987                Federal   \n",
      "1   8    AL      Perdido Key            1986                Federal   \n",
      "2  11    AL  Sand Island Bar            1988                Federal   \n",
      "3  17    AL      Gulf Shores            2001                  Local   \n",
      "4  20    AL  Sand Island Bar            1988                Federal   \n",
      "\n",
      "      Justification  Length (ft)  Volume (CY)  Total Cost  Year Completed CPI  \\\n",
      "0     Demonstration         6000       464000           0               114.0   \n",
      "1        Navigation            0       660000     1406977               110.0   \n",
      "2     Demonstration          500         1400       60000               118.0   \n",
      "3  Shore Protection        16000      1800000     6000000               177.0   \n",
      "4     Demonstration        10560      2000000     2000000               118.0   \n",
      "\n",
      "   Adjusted Cost (2022)  Total Cost/CY  Adjusted Cost/CY    CY/Foot  \\\n",
      "0                  0.00           0.00              0.00      77.33   \n",
      "1            3743837.89           2.13              5.67  660000.00   \n",
      "2             148830.51          42.86            106.31       2.80   \n",
      "3            9922033.90           3.33              5.51     112.50   \n",
      "4            4961016.95           1.00              2.48     189.39   \n",
      "\n",
      "   Current CPI Other Info                                     Source Comment  \n",
      "0        292.7        NaN  http://www.wes.army.mil/el/dots/budm/facts/san...  \n",
      "1        292.7        NaN                                                138  \n",
      "2        292.7        NaN       http://www.southalabama.edu/cesrp/hbeach.htm  \n",
      "3        292.7        NaN  http://www.weartv.com/news/Stories/may/0503/05...  \n",
      "4        292.7        NaN  http://www.weartv.com/news/Stories/may/0503/05...  \n"
     ]
    }
   ],
   "source": [
    "#set column names\n",
    "\n",
    "column_names = ['ID', 'State', 'Location', 'Year Completed', 'Primary Funding Source', 'Justification', 'Length (ft)', 'Volume (CY)', 'Total Cost',\t'Year Completed CPI', 'Adjusted Cost (2022)', 'Total Cost/CY', 'Adjusted Cost/CY', 'CY/Foot', 'Current CPI', 'Other Info', 'Source Comment']\n",
    "\n",
    "beach = pd.read_excel('data/beach_nourishment_PSDS.xlsx', names = column_names, header=0)\n",
    "\n",
    "\n",
    "   \n",
    "print(beach.head(5))"
   ]
  },
  {
   "cell_type": "markdown",
   "metadata": {},
   "source": [
    "### Add the region column "
   ]
  },
  {
   "cell_type": "code",
   "execution_count": 52,
   "metadata": {},
   "outputs": [
    {
     "name": "stdout",
     "output_type": "stream",
     "text": [
      "        ID State                              Location  Year Completed  \\\n",
      "0        5    AL                       Sand Island Bar            1987   \n",
      "1        8    AL                           Perdido Key            1986   \n",
      "2       11    AL                       Sand Island Bar            1988   \n",
      "3       17    AL                           Gulf Shores            2001   \n",
      "4       20    AL                       Sand Island Bar            1988   \n",
      "...    ...   ...                                   ...             ...   \n",
      "2454  6810    CA    Goleta Beach, Santa Barbara County            2017   \n",
      "2455  6811    CA    Goleta Beach, Santa Barbara County            2010   \n",
      "2456  6812    CA          Newport Beach, Orange County            2009   \n",
      "2457  6813    CA  Surfside/Sunset Beach, Orange County            2009   \n",
      "2458  6814    CA            Morro Bay, San Luis Obispo            2017   \n",
      "\n",
      "     Primary Funding Source     Justification  Length (ft)  Volume (CY)  \\\n",
      "0                   Federal     Demonstration         6000       464000   \n",
      "1                   Federal        Navigation            0       660000   \n",
      "2                   Federal     Demonstration          500         1400   \n",
      "3                     Local  Shore Protection        16000      1800000   \n",
      "4                   Federal     Demonstration        10560      2000000   \n",
      "...                     ...               ...          ...          ...   \n",
      "2454                  Local  Shore Protection            0         6000   \n",
      "2455                  Local  Shore Protection         4200        50000   \n",
      "2456                  Local  Shore Protection            0       120000   \n",
      "2457                Federal  Shore Protection            0      1750000   \n",
      "2458                Federal  Shore Protection            0       994000   \n",
      "\n",
      "      Total Cost  Year Completed CPI  Adjusted Cost (2022)  Total Cost/CY  \\\n",
      "0              0               114.0                  0.00           0.00   \n",
      "1        1406977               110.0            3743837.89           2.13   \n",
      "2          60000               118.0             148830.51          42.86   \n",
      "3        6000000               177.0            9922033.90           3.33   \n",
      "4        2000000               118.0            4961016.95           1.00   \n",
      "...          ...                 ...                   ...            ...   \n",
      "2454       65000               245.1              77623.42          10.83   \n",
      "2455     1600000               218.1            2147271.89          32.00   \n",
      "2456           0               214.5                  0.00           0.00   \n",
      "2457    12000000               214.5           16374825.17           6.86   \n",
      "2458           0               245.1                  0.00           0.00   \n",
      "\n",
      "      Adjusted Cost/CY     CY/Foot  Current CPI Other Info  \\\n",
      "0                 0.00       77.33        292.7        NaN   \n",
      "1                 5.67   660000.00        292.7        NaN   \n",
      "2               106.31        2.80        292.7        NaN   \n",
      "3                 5.51      112.50        292.7        NaN   \n",
      "4                 2.48      189.39        292.7        NaN   \n",
      "...                ...         ...          ...        ...   \n",
      "2454             12.94     6000.00        292.7        NaN   \n",
      "2455             42.95       11.90        292.7        NaN   \n",
      "2456              0.00   120000.00        292.7        NaN   \n",
      "2457              9.36  1750000.00        292.7        NaN   \n",
      "2458              0.00   994000.00        292.7        NaN   \n",
      "\n",
      "                                         Source Comment      Region  \n",
      "0     http://www.wes.army.mil/el/dots/budm/facts/san...  Gulf Coast  \n",
      "1                                                   138  Gulf Coast  \n",
      "2          http://www.southalabama.edu/cesrp/hbeach.htm  Gulf Coast  \n",
      "3     http://www.weartv.com/news/Stories/may/0503/05...  Gulf Coast  \n",
      "4     http://www.weartv.com/news/Stories/may/0503/05...  Gulf Coast  \n",
      "...                                                 ...         ...  \n",
      "2454  https://www.noozhawk.com/county_moving_sand_go...  West Coast  \n",
      "2455  https://coastalcare.org/2010/07/goleta-beach-c...  West Coast  \n",
      "2456  https://www.surfline.com/templates/article_htm...  West Coast  \n",
      "2457  https://www.spl.usace.army.mil/Portals/17/docs...  West Coast  \n",
      "2458  https://scholarworks.calstate.edu/downloads/rv...  West Coast  \n",
      "\n",
      "[2459 rows x 18 columns]\n"
     ]
    }
   ],
   "source": [
    "from categorizeregion import add_region_column\n",
    "\n",
    "beach = add_region_column(beach)\n",
    "print(beach)"
   ]
  },
  {
   "cell_type": "code",
   "execution_count": 53,
   "metadata": {},
   "outputs": [
    {
     "name": "stdout",
     "output_type": "stream",
     "text": [
      "<class 'pandas.core.frame.DataFrame'>\n",
      "RangeIndex: 2459 entries, 0 to 2458\n",
      "Data columns (total 18 columns):\n",
      " #   Column                  Non-Null Count  Dtype  \n",
      "---  ------                  --------------  -----  \n",
      " 0   ID                      2459 non-null   int64  \n",
      " 1   State                   2459 non-null   object \n",
      " 2   Location                2459 non-null   object \n",
      " 3   Year Completed          2459 non-null   int64  \n",
      " 4   Primary Funding Source  2457 non-null   object \n",
      " 5   Justification           2459 non-null   object \n",
      " 6   Length (ft)             2459 non-null   int64  \n",
      " 7   Volume (CY)             2459 non-null   int64  \n",
      " 8   Total Cost              2459 non-null   int64  \n",
      " 9   Year Completed CPI      2459 non-null   float64\n",
      " 10  Adjusted Cost (2022)    2459 non-null   float64\n",
      " 11  Total Cost/CY           2459 non-null   float64\n",
      " 12  Adjusted Cost/CY        2459 non-null   float64\n",
      " 13  CY/Foot                 2459 non-null   float64\n",
      " 14  Current CPI             2459 non-null   float64\n",
      " 15  Other Info              178 non-null    object \n",
      " 16  Source Comment          1025 non-null   object \n",
      " 17  Region                  2459 non-null   object \n",
      "dtypes: float64(6), int64(5), object(7)\n",
      "memory usage: 345.9+ KB\n"
     ]
    }
   ],
   "source": [
    "beach.info()"
   ]
  },
  {
   "cell_type": "code",
   "execution_count": 54,
   "metadata": {},
   "outputs": [
    {
     "data": {
      "text/html": [
       "<div>\n",
       "<style scoped>\n",
       "    .dataframe tbody tr th:only-of-type {\n",
       "        vertical-align: middle;\n",
       "    }\n",
       "\n",
       "    .dataframe tbody tr th {\n",
       "        vertical-align: top;\n",
       "    }\n",
       "\n",
       "    .dataframe thead th {\n",
       "        text-align: right;\n",
       "    }\n",
       "</style>\n",
       "<table border=\"1\" class=\"dataframe\">\n",
       "  <thead>\n",
       "    <tr style=\"text-align: right;\">\n",
       "      <th></th>\n",
       "      <th>ID</th>\n",
       "      <th>Year Completed</th>\n",
       "      <th>Length (ft)</th>\n",
       "      <th>Volume (CY)</th>\n",
       "      <th>Total Cost</th>\n",
       "      <th>Year Completed CPI</th>\n",
       "      <th>Adjusted Cost (2022)</th>\n",
       "      <th>Total Cost/CY</th>\n",
       "      <th>Adjusted Cost/CY</th>\n",
       "      <th>CY/Foot</th>\n",
       "      <th>Current CPI</th>\n",
       "    </tr>\n",
       "  </thead>\n",
       "  <tbody>\n",
       "    <tr>\n",
       "      <th>count</th>\n",
       "      <td>2459.000000</td>\n",
       "      <td>2459.000000</td>\n",
       "      <td>2459.000000</td>\n",
       "      <td>2.459000e+03</td>\n",
       "      <td>2.459000e+03</td>\n",
       "      <td>2459.000000</td>\n",
       "      <td>2.459000e+03</td>\n",
       "      <td>2.459000e+03</td>\n",
       "      <td>2.459000e+03</td>\n",
       "      <td>2.459000e+03</td>\n",
       "      <td>2459.0</td>\n",
       "    </tr>\n",
       "    <tr>\n",
       "      <th>mean</th>\n",
       "      <td>3670.630744</td>\n",
       "      <td>1990.987393</td>\n",
       "      <td>7022.884913</td>\n",
       "      <td>6.381578e+05</td>\n",
       "      <td>4.083488e+06</td>\n",
       "      <td>140.888825</td>\n",
       "      <td>6.277340e+06</td>\n",
       "      <td>1.045617e+05</td>\n",
       "      <td>2.046339e+05</td>\n",
       "      <td>2.139504e+05</td>\n",
       "      <td>292.7</td>\n",
       "    </tr>\n",
       "    <tr>\n",
       "      <th>std</th>\n",
       "      <td>2080.600537</td>\n",
       "      <td>20.741685</td>\n",
       "      <td>12700.530217</td>\n",
       "      <td>1.298209e+06</td>\n",
       "      <td>1.279058e+07</td>\n",
       "      <td>80.422742</td>\n",
       "      <td>1.635226e+07</td>\n",
       "      <td>1.228604e+06</td>\n",
       "      <td>2.296069e+06</td>\n",
       "      <td>9.670660e+05</td>\n",
       "      <td>0.0</td>\n",
       "    </tr>\n",
       "    <tr>\n",
       "      <th>min</th>\n",
       "      <td>5.000000</td>\n",
       "      <td>1923.000000</td>\n",
       "      <td>0.000000</td>\n",
       "      <td>0.000000e+00</td>\n",
       "      <td>0.000000e+00</td>\n",
       "      <td>13.000000</td>\n",
       "      <td>0.000000e+00</td>\n",
       "      <td>0.000000e+00</td>\n",
       "      <td>0.000000e+00</td>\n",
       "      <td>0.000000e+00</td>\n",
       "      <td>292.7</td>\n",
       "    </tr>\n",
       "    <tr>\n",
       "      <th>25%</th>\n",
       "      <td>1857.500000</td>\n",
       "      <td>1975.500000</td>\n",
       "      <td>0.000000</td>\n",
       "      <td>7.500000e+04</td>\n",
       "      <td>0.000000e+00</td>\n",
       "      <td>55.450000</td>\n",
       "      <td>0.000000e+00</td>\n",
       "      <td>0.000000e+00</td>\n",
       "      <td>0.000000e+00</td>\n",
       "      <td>2.954500e+01</td>\n",
       "      <td>292.7</td>\n",
       "    </tr>\n",
       "    <tr>\n",
       "      <th>50%</th>\n",
       "      <td>3707.000000</td>\n",
       "      <td>1995.000000</td>\n",
       "      <td>2333.000000</td>\n",
       "      <td>2.352520e+05</td>\n",
       "      <td>2.090300e+05</td>\n",
       "      <td>152.000000</td>\n",
       "      <td>8.698481e+05</td>\n",
       "      <td>1.420000e+00</td>\n",
       "      <td>6.420000e+00</td>\n",
       "      <td>9.933000e+01</td>\n",
       "      <td>292.7</td>\n",
       "    </tr>\n",
       "    <tr>\n",
       "      <th>75%</th>\n",
       "      <td>5553.500000</td>\n",
       "      <td>2007.000000</td>\n",
       "      <td>8448.000000</td>\n",
       "      <td>7.011330e+05</td>\n",
       "      <td>2.894885e+06</td>\n",
       "      <td>207.300000</td>\n",
       "      <td>6.130253e+06</td>\n",
       "      <td>8.565000e+00</td>\n",
       "      <td>1.544500e+01</td>\n",
       "      <td>9.700000e+04</td>\n",
       "      <td>292.7</td>\n",
       "    </tr>\n",
       "    <tr>\n",
       "      <th>max</th>\n",
       "      <td>6814.000000</td>\n",
       "      <td>2024.000000</td>\n",
       "      <td>141000.000000</td>\n",
       "      <td>2.600930e+07</td>\n",
       "      <td>2.200000e+08</td>\n",
       "      <td>292.700000</td>\n",
       "      <td>2.861956e+08</td>\n",
       "      <td>4.351273e+07</td>\n",
       "      <td>6.152742e+07</td>\n",
       "      <td>2.600930e+07</td>\n",
       "      <td>292.7</td>\n",
       "    </tr>\n",
       "  </tbody>\n",
       "</table>\n",
       "</div>"
      ],
      "text/plain": [
       "                ID  Year Completed    Length (ft)   Volume (CY)    Total Cost  \\\n",
       "count  2459.000000     2459.000000    2459.000000  2.459000e+03  2.459000e+03   \n",
       "mean   3670.630744     1990.987393    7022.884913  6.381578e+05  4.083488e+06   \n",
       "std    2080.600537       20.741685   12700.530217  1.298209e+06  1.279058e+07   \n",
       "min       5.000000     1923.000000       0.000000  0.000000e+00  0.000000e+00   \n",
       "25%    1857.500000     1975.500000       0.000000  7.500000e+04  0.000000e+00   \n",
       "50%    3707.000000     1995.000000    2333.000000  2.352520e+05  2.090300e+05   \n",
       "75%    5553.500000     2007.000000    8448.000000  7.011330e+05  2.894885e+06   \n",
       "max    6814.000000     2024.000000  141000.000000  2.600930e+07  2.200000e+08   \n",
       "\n",
       "       Year Completed CPI  Adjusted Cost (2022)  Total Cost/CY  \\\n",
       "count         2459.000000          2.459000e+03   2.459000e+03   \n",
       "mean           140.888825          6.277340e+06   1.045617e+05   \n",
       "std             80.422742          1.635226e+07   1.228604e+06   \n",
       "min             13.000000          0.000000e+00   0.000000e+00   \n",
       "25%             55.450000          0.000000e+00   0.000000e+00   \n",
       "50%            152.000000          8.698481e+05   1.420000e+00   \n",
       "75%            207.300000          6.130253e+06   8.565000e+00   \n",
       "max            292.700000          2.861956e+08   4.351273e+07   \n",
       "\n",
       "       Adjusted Cost/CY       CY/Foot  Current CPI  \n",
       "count      2.459000e+03  2.459000e+03       2459.0  \n",
       "mean       2.046339e+05  2.139504e+05        292.7  \n",
       "std        2.296069e+06  9.670660e+05          0.0  \n",
       "min        0.000000e+00  0.000000e+00        292.7  \n",
       "25%        0.000000e+00  2.954500e+01        292.7  \n",
       "50%        6.420000e+00  9.933000e+01        292.7  \n",
       "75%        1.544500e+01  9.700000e+04        292.7  \n",
       "max        6.152742e+07  2.600930e+07        292.7  "
      ]
     },
     "execution_count": 54,
     "metadata": {},
     "output_type": "execute_result"
    }
   ],
   "source": [
    "beach.describe()"
   ]
  },
  {
   "cell_type": "code",
   "execution_count": 55,
   "metadata": {},
   "outputs": [
    {
     "name": "stdout",
     "output_type": "stream",
     "text": [
      "ID                           0\n",
      "State                        0\n",
      "Location                     0\n",
      "Year Completed               0\n",
      "Primary Funding Source       2\n",
      "Justification                0\n",
      "Length (ft)                  0\n",
      "Volume (CY)                  0\n",
      "Total Cost                   0\n",
      "Year Completed CPI           0\n",
      "Adjusted Cost (2022)         0\n",
      "Total Cost/CY                0\n",
      "Adjusted Cost/CY             0\n",
      "CY/Foot                      0\n",
      "Current CPI                  0\n",
      "Other Info                2281\n",
      "Source Comment            1434\n",
      "Region                       0\n",
      "dtype: int64\n"
     ]
    }
   ],
   "source": [
    "print(beach.isnull().sum())"
   ]
  },
  {
   "cell_type": "markdown",
   "metadata": {},
   "source": [
    "### Follow up later \n",
    "--- \n",
    "###### look at the reasons to identify whether emergencies (for example) should be grouped together\n",
    "---"
   ]
  },
  {
   "cell_type": "code",
   "execution_count": 56,
   "metadata": {},
   "outputs": [
    {
     "name": "stdout",
     "output_type": "stream",
     "text": [
      "                Justification  Counts\n",
      "0                      Bypass       2\n",
      "1               Demonstration       4\n",
      "2       Ecosystem Restoration      47\n",
      "3                   Emergency     263\n",
      "4              Emergency Dune      30\n",
      "5   Environmental Restoration       4\n",
      "6              FEMA Emergency      27\n",
      "7                       MsCIP       3\n",
      "8                  Navigation     581\n",
      "9                 Restoration      20\n",
      "10                Section 111      26\n",
      "11           Shore Protection     777\n",
      "12                    Unknown     675\n"
     ]
    }
   ],
   "source": [
    "group_just = beach.groupby(['Justification'])\n",
    "just_counts = group_just.size().reset_index(name='Counts')\n",
    "print(just_counts)"
   ]
  },
  {
   "cell_type": "code",
   "execution_count": 57,
   "metadata": {},
   "outputs": [
    {
     "data": {
      "application/vnd.plotly.v1+json": {
       "config": {
        "plotlyServerURL": "https://plot.ly"
       },
       "data": [
        {
         "domain": {
          "x": [
           0,
           1
          ],
          "y": [
           0,
           1
          ]
         },
         "hovertemplate": "Justification=%{label}<br>Counts=%{value}<extra></extra>",
         "labels": [
          "Bypass",
          "Demonstration",
          "Ecosystem Restoration",
          "Emergency",
          "Emergency Dune",
          "Environmental Restoration",
          "FEMA Emergency",
          "MsCIP",
          "Navigation",
          "Restoration",
          "Section 111",
          "Shore Protection",
          "Unknown"
         ],
         "legendgroup": "",
         "name": "",
         "showlegend": true,
         "type": "pie",
         "values": [
          2,
          4,
          47,
          263,
          30,
          4,
          27,
          3,
          581,
          20,
          26,
          777,
          675
         ]
        }
       ],
       "layout": {
        "legend": {
         "tracegroupgap": 0
        },
        "template": {
         "data": {
          "bar": [
           {
            "error_x": {
             "color": "#2a3f5f"
            },
            "error_y": {
             "color": "#2a3f5f"
            },
            "marker": {
             "line": {
              "color": "#E5ECF6",
              "width": 0.5
             },
             "pattern": {
              "fillmode": "overlay",
              "size": 10,
              "solidity": 0.2
             }
            },
            "type": "bar"
           }
          ],
          "barpolar": [
           {
            "marker": {
             "line": {
              "color": "#E5ECF6",
              "width": 0.5
             },
             "pattern": {
              "fillmode": "overlay",
              "size": 10,
              "solidity": 0.2
             }
            },
            "type": "barpolar"
           }
          ],
          "carpet": [
           {
            "aaxis": {
             "endlinecolor": "#2a3f5f",
             "gridcolor": "white",
             "linecolor": "white",
             "minorgridcolor": "white",
             "startlinecolor": "#2a3f5f"
            },
            "baxis": {
             "endlinecolor": "#2a3f5f",
             "gridcolor": "white",
             "linecolor": "white",
             "minorgridcolor": "white",
             "startlinecolor": "#2a3f5f"
            },
            "type": "carpet"
           }
          ],
          "choropleth": [
           {
            "colorbar": {
             "outlinewidth": 0,
             "ticks": ""
            },
            "type": "choropleth"
           }
          ],
          "contour": [
           {
            "colorbar": {
             "outlinewidth": 0,
             "ticks": ""
            },
            "colorscale": [
             [
              0,
              "#0d0887"
             ],
             [
              0.1111111111111111,
              "#46039f"
             ],
             [
              0.2222222222222222,
              "#7201a8"
             ],
             [
              0.3333333333333333,
              "#9c179e"
             ],
             [
              0.4444444444444444,
              "#bd3786"
             ],
             [
              0.5555555555555556,
              "#d8576b"
             ],
             [
              0.6666666666666666,
              "#ed7953"
             ],
             [
              0.7777777777777778,
              "#fb9f3a"
             ],
             [
              0.8888888888888888,
              "#fdca26"
             ],
             [
              1,
              "#f0f921"
             ]
            ],
            "type": "contour"
           }
          ],
          "contourcarpet": [
           {
            "colorbar": {
             "outlinewidth": 0,
             "ticks": ""
            },
            "type": "contourcarpet"
           }
          ],
          "heatmap": [
           {
            "colorbar": {
             "outlinewidth": 0,
             "ticks": ""
            },
            "colorscale": [
             [
              0,
              "#0d0887"
             ],
             [
              0.1111111111111111,
              "#46039f"
             ],
             [
              0.2222222222222222,
              "#7201a8"
             ],
             [
              0.3333333333333333,
              "#9c179e"
             ],
             [
              0.4444444444444444,
              "#bd3786"
             ],
             [
              0.5555555555555556,
              "#d8576b"
             ],
             [
              0.6666666666666666,
              "#ed7953"
             ],
             [
              0.7777777777777778,
              "#fb9f3a"
             ],
             [
              0.8888888888888888,
              "#fdca26"
             ],
             [
              1,
              "#f0f921"
             ]
            ],
            "type": "heatmap"
           }
          ],
          "heatmapgl": [
           {
            "colorbar": {
             "outlinewidth": 0,
             "ticks": ""
            },
            "colorscale": [
             [
              0,
              "#0d0887"
             ],
             [
              0.1111111111111111,
              "#46039f"
             ],
             [
              0.2222222222222222,
              "#7201a8"
             ],
             [
              0.3333333333333333,
              "#9c179e"
             ],
             [
              0.4444444444444444,
              "#bd3786"
             ],
             [
              0.5555555555555556,
              "#d8576b"
             ],
             [
              0.6666666666666666,
              "#ed7953"
             ],
             [
              0.7777777777777778,
              "#fb9f3a"
             ],
             [
              0.8888888888888888,
              "#fdca26"
             ],
             [
              1,
              "#f0f921"
             ]
            ],
            "type": "heatmapgl"
           }
          ],
          "histogram": [
           {
            "marker": {
             "pattern": {
              "fillmode": "overlay",
              "size": 10,
              "solidity": 0.2
             }
            },
            "type": "histogram"
           }
          ],
          "histogram2d": [
           {
            "colorbar": {
             "outlinewidth": 0,
             "ticks": ""
            },
            "colorscale": [
             [
              0,
              "#0d0887"
             ],
             [
              0.1111111111111111,
              "#46039f"
             ],
             [
              0.2222222222222222,
              "#7201a8"
             ],
             [
              0.3333333333333333,
              "#9c179e"
             ],
             [
              0.4444444444444444,
              "#bd3786"
             ],
             [
              0.5555555555555556,
              "#d8576b"
             ],
             [
              0.6666666666666666,
              "#ed7953"
             ],
             [
              0.7777777777777778,
              "#fb9f3a"
             ],
             [
              0.8888888888888888,
              "#fdca26"
             ],
             [
              1,
              "#f0f921"
             ]
            ],
            "type": "histogram2d"
           }
          ],
          "histogram2dcontour": [
           {
            "colorbar": {
             "outlinewidth": 0,
             "ticks": ""
            },
            "colorscale": [
             [
              0,
              "#0d0887"
             ],
             [
              0.1111111111111111,
              "#46039f"
             ],
             [
              0.2222222222222222,
              "#7201a8"
             ],
             [
              0.3333333333333333,
              "#9c179e"
             ],
             [
              0.4444444444444444,
              "#bd3786"
             ],
             [
              0.5555555555555556,
              "#d8576b"
             ],
             [
              0.6666666666666666,
              "#ed7953"
             ],
             [
              0.7777777777777778,
              "#fb9f3a"
             ],
             [
              0.8888888888888888,
              "#fdca26"
             ],
             [
              1,
              "#f0f921"
             ]
            ],
            "type": "histogram2dcontour"
           }
          ],
          "mesh3d": [
           {
            "colorbar": {
             "outlinewidth": 0,
             "ticks": ""
            },
            "type": "mesh3d"
           }
          ],
          "parcoords": [
           {
            "line": {
             "colorbar": {
              "outlinewidth": 0,
              "ticks": ""
             }
            },
            "type": "parcoords"
           }
          ],
          "pie": [
           {
            "automargin": true,
            "type": "pie"
           }
          ],
          "scatter": [
           {
            "fillpattern": {
             "fillmode": "overlay",
             "size": 10,
             "solidity": 0.2
            },
            "type": "scatter"
           }
          ],
          "scatter3d": [
           {
            "line": {
             "colorbar": {
              "outlinewidth": 0,
              "ticks": ""
             }
            },
            "marker": {
             "colorbar": {
              "outlinewidth": 0,
              "ticks": ""
             }
            },
            "type": "scatter3d"
           }
          ],
          "scattercarpet": [
           {
            "marker": {
             "colorbar": {
              "outlinewidth": 0,
              "ticks": ""
             }
            },
            "type": "scattercarpet"
           }
          ],
          "scattergeo": [
           {
            "marker": {
             "colorbar": {
              "outlinewidth": 0,
              "ticks": ""
             }
            },
            "type": "scattergeo"
           }
          ],
          "scattergl": [
           {
            "marker": {
             "colorbar": {
              "outlinewidth": 0,
              "ticks": ""
             }
            },
            "type": "scattergl"
           }
          ],
          "scattermapbox": [
           {
            "marker": {
             "colorbar": {
              "outlinewidth": 0,
              "ticks": ""
             }
            },
            "type": "scattermapbox"
           }
          ],
          "scatterpolar": [
           {
            "marker": {
             "colorbar": {
              "outlinewidth": 0,
              "ticks": ""
             }
            },
            "type": "scatterpolar"
           }
          ],
          "scatterpolargl": [
           {
            "marker": {
             "colorbar": {
              "outlinewidth": 0,
              "ticks": ""
             }
            },
            "type": "scatterpolargl"
           }
          ],
          "scatterternary": [
           {
            "marker": {
             "colorbar": {
              "outlinewidth": 0,
              "ticks": ""
             }
            },
            "type": "scatterternary"
           }
          ],
          "surface": [
           {
            "colorbar": {
             "outlinewidth": 0,
             "ticks": ""
            },
            "colorscale": [
             [
              0,
              "#0d0887"
             ],
             [
              0.1111111111111111,
              "#46039f"
             ],
             [
              0.2222222222222222,
              "#7201a8"
             ],
             [
              0.3333333333333333,
              "#9c179e"
             ],
             [
              0.4444444444444444,
              "#bd3786"
             ],
             [
              0.5555555555555556,
              "#d8576b"
             ],
             [
              0.6666666666666666,
              "#ed7953"
             ],
             [
              0.7777777777777778,
              "#fb9f3a"
             ],
             [
              0.8888888888888888,
              "#fdca26"
             ],
             [
              1,
              "#f0f921"
             ]
            ],
            "type": "surface"
           }
          ],
          "table": [
           {
            "cells": {
             "fill": {
              "color": "#EBF0F8"
             },
             "line": {
              "color": "white"
             }
            },
            "header": {
             "fill": {
              "color": "#C8D4E3"
             },
             "line": {
              "color": "white"
             }
            },
            "type": "table"
           }
          ]
         },
         "layout": {
          "annotationdefaults": {
           "arrowcolor": "#2a3f5f",
           "arrowhead": 0,
           "arrowwidth": 1
          },
          "autotypenumbers": "strict",
          "coloraxis": {
           "colorbar": {
            "outlinewidth": 0,
            "ticks": ""
           }
          },
          "colorscale": {
           "diverging": [
            [
             0,
             "#8e0152"
            ],
            [
             0.1,
             "#c51b7d"
            ],
            [
             0.2,
             "#de77ae"
            ],
            [
             0.3,
             "#f1b6da"
            ],
            [
             0.4,
             "#fde0ef"
            ],
            [
             0.5,
             "#f7f7f7"
            ],
            [
             0.6,
             "#e6f5d0"
            ],
            [
             0.7,
             "#b8e186"
            ],
            [
             0.8,
             "#7fbc41"
            ],
            [
             0.9,
             "#4d9221"
            ],
            [
             1,
             "#276419"
            ]
           ],
           "sequential": [
            [
             0,
             "#0d0887"
            ],
            [
             0.1111111111111111,
             "#46039f"
            ],
            [
             0.2222222222222222,
             "#7201a8"
            ],
            [
             0.3333333333333333,
             "#9c179e"
            ],
            [
             0.4444444444444444,
             "#bd3786"
            ],
            [
             0.5555555555555556,
             "#d8576b"
            ],
            [
             0.6666666666666666,
             "#ed7953"
            ],
            [
             0.7777777777777778,
             "#fb9f3a"
            ],
            [
             0.8888888888888888,
             "#fdca26"
            ],
            [
             1,
             "#f0f921"
            ]
           ],
           "sequentialminus": [
            [
             0,
             "#0d0887"
            ],
            [
             0.1111111111111111,
             "#46039f"
            ],
            [
             0.2222222222222222,
             "#7201a8"
            ],
            [
             0.3333333333333333,
             "#9c179e"
            ],
            [
             0.4444444444444444,
             "#bd3786"
            ],
            [
             0.5555555555555556,
             "#d8576b"
            ],
            [
             0.6666666666666666,
             "#ed7953"
            ],
            [
             0.7777777777777778,
             "#fb9f3a"
            ],
            [
             0.8888888888888888,
             "#fdca26"
            ],
            [
             1,
             "#f0f921"
            ]
           ]
          },
          "colorway": [
           "#636efa",
           "#EF553B",
           "#00cc96",
           "#ab63fa",
           "#FFA15A",
           "#19d3f3",
           "#FF6692",
           "#B6E880",
           "#FF97FF",
           "#FECB52"
          ],
          "font": {
           "color": "#2a3f5f"
          },
          "geo": {
           "bgcolor": "white",
           "lakecolor": "white",
           "landcolor": "#E5ECF6",
           "showlakes": true,
           "showland": true,
           "subunitcolor": "white"
          },
          "hoverlabel": {
           "align": "left"
          },
          "hovermode": "closest",
          "mapbox": {
           "style": "light"
          },
          "paper_bgcolor": "white",
          "plot_bgcolor": "#E5ECF6",
          "polar": {
           "angularaxis": {
            "gridcolor": "white",
            "linecolor": "white",
            "ticks": ""
           },
           "bgcolor": "#E5ECF6",
           "radialaxis": {
            "gridcolor": "white",
            "linecolor": "white",
            "ticks": ""
           }
          },
          "scene": {
           "xaxis": {
            "backgroundcolor": "#E5ECF6",
            "gridcolor": "white",
            "gridwidth": 2,
            "linecolor": "white",
            "showbackground": true,
            "ticks": "",
            "zerolinecolor": "white"
           },
           "yaxis": {
            "backgroundcolor": "#E5ECF6",
            "gridcolor": "white",
            "gridwidth": 2,
            "linecolor": "white",
            "showbackground": true,
            "ticks": "",
            "zerolinecolor": "white"
           },
           "zaxis": {
            "backgroundcolor": "#E5ECF6",
            "gridcolor": "white",
            "gridwidth": 2,
            "linecolor": "white",
            "showbackground": true,
            "ticks": "",
            "zerolinecolor": "white"
           }
          },
          "shapedefaults": {
           "line": {
            "color": "#2a3f5f"
           }
          },
          "ternary": {
           "aaxis": {
            "gridcolor": "white",
            "linecolor": "white",
            "ticks": ""
           },
           "baxis": {
            "gridcolor": "white",
            "linecolor": "white",
            "ticks": ""
           },
           "bgcolor": "#E5ECF6",
           "caxis": {
            "gridcolor": "white",
            "linecolor": "white",
            "ticks": ""
           }
          },
          "title": {
           "x": 0.05
          },
          "xaxis": {
           "automargin": true,
           "gridcolor": "white",
           "linecolor": "white",
           "ticks": "",
           "title": {
            "standoff": 15
           },
           "zerolinecolor": "white",
           "zerolinewidth": 2
          },
          "yaxis": {
           "automargin": true,
           "gridcolor": "white",
           "linecolor": "white",
           "ticks": "",
           "title": {
            "standoff": 15
           },
           "zerolinecolor": "white",
           "zerolinewidth": 2
          }
         }
        },
        "title": {
         "text": "Beach Projects Justification"
        }
       }
      }
     },
     "metadata": {},
     "output_type": "display_data"
    }
   ],
   "source": [
    "fig = px.pie(just_counts, values='Counts', names='Justification', title='Beach Projects Justification')\n",
    "fig.show()\n"
   ]
  },
  {
   "cell_type": "code",
   "execution_count": 58,
   "metadata": {},
   "outputs": [
    {
     "name": "stdout",
     "output_type": "stream",
     "text": [
      "  Primary Funding Source  Counts\n",
      "0                Federal    1451\n",
      "1                  Local     241\n",
      "2                  Other       1\n",
      "3                Private      45\n",
      "4                  State     366\n",
      "5                Unknown     353\n"
     ]
    }
   ],
   "source": [
    "group_funding = beach.groupby(['Primary Funding Source'])\n",
    "fund_counts = group_funding.size().reset_index(name='Counts')\n",
    "print(fund_counts)"
   ]
  },
  {
   "cell_type": "code",
   "execution_count": 59,
   "metadata": {},
   "outputs": [
    {
     "data": {
      "application/vnd.plotly.v1+json": {
       "config": {
        "plotlyServerURL": "https://plot.ly"
       },
       "data": [
        {
         "domain": {
          "x": [
           0,
           1
          ],
          "y": [
           0,
           1
          ]
         },
         "hovertemplate": "Primary Funding Source=%{label}<br>Counts=%{value}<extra></extra>",
         "labels": [
          "Federal",
          "Local",
          "Other",
          "Private",
          "State",
          "Unknown"
         ],
         "legendgroup": "",
         "name": "",
         "showlegend": true,
         "type": "pie",
         "values": [
          1451,
          241,
          1,
          45,
          366,
          353
         ]
        }
       ],
       "layout": {
        "legend": {
         "tracegroupgap": 0
        },
        "template": {
         "data": {
          "bar": [
           {
            "error_x": {
             "color": "#2a3f5f"
            },
            "error_y": {
             "color": "#2a3f5f"
            },
            "marker": {
             "line": {
              "color": "#E5ECF6",
              "width": 0.5
             },
             "pattern": {
              "fillmode": "overlay",
              "size": 10,
              "solidity": 0.2
             }
            },
            "type": "bar"
           }
          ],
          "barpolar": [
           {
            "marker": {
             "line": {
              "color": "#E5ECF6",
              "width": 0.5
             },
             "pattern": {
              "fillmode": "overlay",
              "size": 10,
              "solidity": 0.2
             }
            },
            "type": "barpolar"
           }
          ],
          "carpet": [
           {
            "aaxis": {
             "endlinecolor": "#2a3f5f",
             "gridcolor": "white",
             "linecolor": "white",
             "minorgridcolor": "white",
             "startlinecolor": "#2a3f5f"
            },
            "baxis": {
             "endlinecolor": "#2a3f5f",
             "gridcolor": "white",
             "linecolor": "white",
             "minorgridcolor": "white",
             "startlinecolor": "#2a3f5f"
            },
            "type": "carpet"
           }
          ],
          "choropleth": [
           {
            "colorbar": {
             "outlinewidth": 0,
             "ticks": ""
            },
            "type": "choropleth"
           }
          ],
          "contour": [
           {
            "colorbar": {
             "outlinewidth": 0,
             "ticks": ""
            },
            "colorscale": [
             [
              0,
              "#0d0887"
             ],
             [
              0.1111111111111111,
              "#46039f"
             ],
             [
              0.2222222222222222,
              "#7201a8"
             ],
             [
              0.3333333333333333,
              "#9c179e"
             ],
             [
              0.4444444444444444,
              "#bd3786"
             ],
             [
              0.5555555555555556,
              "#d8576b"
             ],
             [
              0.6666666666666666,
              "#ed7953"
             ],
             [
              0.7777777777777778,
              "#fb9f3a"
             ],
             [
              0.8888888888888888,
              "#fdca26"
             ],
             [
              1,
              "#f0f921"
             ]
            ],
            "type": "contour"
           }
          ],
          "contourcarpet": [
           {
            "colorbar": {
             "outlinewidth": 0,
             "ticks": ""
            },
            "type": "contourcarpet"
           }
          ],
          "heatmap": [
           {
            "colorbar": {
             "outlinewidth": 0,
             "ticks": ""
            },
            "colorscale": [
             [
              0,
              "#0d0887"
             ],
             [
              0.1111111111111111,
              "#46039f"
             ],
             [
              0.2222222222222222,
              "#7201a8"
             ],
             [
              0.3333333333333333,
              "#9c179e"
             ],
             [
              0.4444444444444444,
              "#bd3786"
             ],
             [
              0.5555555555555556,
              "#d8576b"
             ],
             [
              0.6666666666666666,
              "#ed7953"
             ],
             [
              0.7777777777777778,
              "#fb9f3a"
             ],
             [
              0.8888888888888888,
              "#fdca26"
             ],
             [
              1,
              "#f0f921"
             ]
            ],
            "type": "heatmap"
           }
          ],
          "heatmapgl": [
           {
            "colorbar": {
             "outlinewidth": 0,
             "ticks": ""
            },
            "colorscale": [
             [
              0,
              "#0d0887"
             ],
             [
              0.1111111111111111,
              "#46039f"
             ],
             [
              0.2222222222222222,
              "#7201a8"
             ],
             [
              0.3333333333333333,
              "#9c179e"
             ],
             [
              0.4444444444444444,
              "#bd3786"
             ],
             [
              0.5555555555555556,
              "#d8576b"
             ],
             [
              0.6666666666666666,
              "#ed7953"
             ],
             [
              0.7777777777777778,
              "#fb9f3a"
             ],
             [
              0.8888888888888888,
              "#fdca26"
             ],
             [
              1,
              "#f0f921"
             ]
            ],
            "type": "heatmapgl"
           }
          ],
          "histogram": [
           {
            "marker": {
             "pattern": {
              "fillmode": "overlay",
              "size": 10,
              "solidity": 0.2
             }
            },
            "type": "histogram"
           }
          ],
          "histogram2d": [
           {
            "colorbar": {
             "outlinewidth": 0,
             "ticks": ""
            },
            "colorscale": [
             [
              0,
              "#0d0887"
             ],
             [
              0.1111111111111111,
              "#46039f"
             ],
             [
              0.2222222222222222,
              "#7201a8"
             ],
             [
              0.3333333333333333,
              "#9c179e"
             ],
             [
              0.4444444444444444,
              "#bd3786"
             ],
             [
              0.5555555555555556,
              "#d8576b"
             ],
             [
              0.6666666666666666,
              "#ed7953"
             ],
             [
              0.7777777777777778,
              "#fb9f3a"
             ],
             [
              0.8888888888888888,
              "#fdca26"
             ],
             [
              1,
              "#f0f921"
             ]
            ],
            "type": "histogram2d"
           }
          ],
          "histogram2dcontour": [
           {
            "colorbar": {
             "outlinewidth": 0,
             "ticks": ""
            },
            "colorscale": [
             [
              0,
              "#0d0887"
             ],
             [
              0.1111111111111111,
              "#46039f"
             ],
             [
              0.2222222222222222,
              "#7201a8"
             ],
             [
              0.3333333333333333,
              "#9c179e"
             ],
             [
              0.4444444444444444,
              "#bd3786"
             ],
             [
              0.5555555555555556,
              "#d8576b"
             ],
             [
              0.6666666666666666,
              "#ed7953"
             ],
             [
              0.7777777777777778,
              "#fb9f3a"
             ],
             [
              0.8888888888888888,
              "#fdca26"
             ],
             [
              1,
              "#f0f921"
             ]
            ],
            "type": "histogram2dcontour"
           }
          ],
          "mesh3d": [
           {
            "colorbar": {
             "outlinewidth": 0,
             "ticks": ""
            },
            "type": "mesh3d"
           }
          ],
          "parcoords": [
           {
            "line": {
             "colorbar": {
              "outlinewidth": 0,
              "ticks": ""
             }
            },
            "type": "parcoords"
           }
          ],
          "pie": [
           {
            "automargin": true,
            "type": "pie"
           }
          ],
          "scatter": [
           {
            "fillpattern": {
             "fillmode": "overlay",
             "size": 10,
             "solidity": 0.2
            },
            "type": "scatter"
           }
          ],
          "scatter3d": [
           {
            "line": {
             "colorbar": {
              "outlinewidth": 0,
              "ticks": ""
             }
            },
            "marker": {
             "colorbar": {
              "outlinewidth": 0,
              "ticks": ""
             }
            },
            "type": "scatter3d"
           }
          ],
          "scattercarpet": [
           {
            "marker": {
             "colorbar": {
              "outlinewidth": 0,
              "ticks": ""
             }
            },
            "type": "scattercarpet"
           }
          ],
          "scattergeo": [
           {
            "marker": {
             "colorbar": {
              "outlinewidth": 0,
              "ticks": ""
             }
            },
            "type": "scattergeo"
           }
          ],
          "scattergl": [
           {
            "marker": {
             "colorbar": {
              "outlinewidth": 0,
              "ticks": ""
             }
            },
            "type": "scattergl"
           }
          ],
          "scattermapbox": [
           {
            "marker": {
             "colorbar": {
              "outlinewidth": 0,
              "ticks": ""
             }
            },
            "type": "scattermapbox"
           }
          ],
          "scatterpolar": [
           {
            "marker": {
             "colorbar": {
              "outlinewidth": 0,
              "ticks": ""
             }
            },
            "type": "scatterpolar"
           }
          ],
          "scatterpolargl": [
           {
            "marker": {
             "colorbar": {
              "outlinewidth": 0,
              "ticks": ""
             }
            },
            "type": "scatterpolargl"
           }
          ],
          "scatterternary": [
           {
            "marker": {
             "colorbar": {
              "outlinewidth": 0,
              "ticks": ""
             }
            },
            "type": "scatterternary"
           }
          ],
          "surface": [
           {
            "colorbar": {
             "outlinewidth": 0,
             "ticks": ""
            },
            "colorscale": [
             [
              0,
              "#0d0887"
             ],
             [
              0.1111111111111111,
              "#46039f"
             ],
             [
              0.2222222222222222,
              "#7201a8"
             ],
             [
              0.3333333333333333,
              "#9c179e"
             ],
             [
              0.4444444444444444,
              "#bd3786"
             ],
             [
              0.5555555555555556,
              "#d8576b"
             ],
             [
              0.6666666666666666,
              "#ed7953"
             ],
             [
              0.7777777777777778,
              "#fb9f3a"
             ],
             [
              0.8888888888888888,
              "#fdca26"
             ],
             [
              1,
              "#f0f921"
             ]
            ],
            "type": "surface"
           }
          ],
          "table": [
           {
            "cells": {
             "fill": {
              "color": "#EBF0F8"
             },
             "line": {
              "color": "white"
             }
            },
            "header": {
             "fill": {
              "color": "#C8D4E3"
             },
             "line": {
              "color": "white"
             }
            },
            "type": "table"
           }
          ]
         },
         "layout": {
          "annotationdefaults": {
           "arrowcolor": "#2a3f5f",
           "arrowhead": 0,
           "arrowwidth": 1
          },
          "autotypenumbers": "strict",
          "coloraxis": {
           "colorbar": {
            "outlinewidth": 0,
            "ticks": ""
           }
          },
          "colorscale": {
           "diverging": [
            [
             0,
             "#8e0152"
            ],
            [
             0.1,
             "#c51b7d"
            ],
            [
             0.2,
             "#de77ae"
            ],
            [
             0.3,
             "#f1b6da"
            ],
            [
             0.4,
             "#fde0ef"
            ],
            [
             0.5,
             "#f7f7f7"
            ],
            [
             0.6,
             "#e6f5d0"
            ],
            [
             0.7,
             "#b8e186"
            ],
            [
             0.8,
             "#7fbc41"
            ],
            [
             0.9,
             "#4d9221"
            ],
            [
             1,
             "#276419"
            ]
           ],
           "sequential": [
            [
             0,
             "#0d0887"
            ],
            [
             0.1111111111111111,
             "#46039f"
            ],
            [
             0.2222222222222222,
             "#7201a8"
            ],
            [
             0.3333333333333333,
             "#9c179e"
            ],
            [
             0.4444444444444444,
             "#bd3786"
            ],
            [
             0.5555555555555556,
             "#d8576b"
            ],
            [
             0.6666666666666666,
             "#ed7953"
            ],
            [
             0.7777777777777778,
             "#fb9f3a"
            ],
            [
             0.8888888888888888,
             "#fdca26"
            ],
            [
             1,
             "#f0f921"
            ]
           ],
           "sequentialminus": [
            [
             0,
             "#0d0887"
            ],
            [
             0.1111111111111111,
             "#46039f"
            ],
            [
             0.2222222222222222,
             "#7201a8"
            ],
            [
             0.3333333333333333,
             "#9c179e"
            ],
            [
             0.4444444444444444,
             "#bd3786"
            ],
            [
             0.5555555555555556,
             "#d8576b"
            ],
            [
             0.6666666666666666,
             "#ed7953"
            ],
            [
             0.7777777777777778,
             "#fb9f3a"
            ],
            [
             0.8888888888888888,
             "#fdca26"
            ],
            [
             1,
             "#f0f921"
            ]
           ]
          },
          "colorway": [
           "#636efa",
           "#EF553B",
           "#00cc96",
           "#ab63fa",
           "#FFA15A",
           "#19d3f3",
           "#FF6692",
           "#B6E880",
           "#FF97FF",
           "#FECB52"
          ],
          "font": {
           "color": "#2a3f5f"
          },
          "geo": {
           "bgcolor": "white",
           "lakecolor": "white",
           "landcolor": "#E5ECF6",
           "showlakes": true,
           "showland": true,
           "subunitcolor": "white"
          },
          "hoverlabel": {
           "align": "left"
          },
          "hovermode": "closest",
          "mapbox": {
           "style": "light"
          },
          "paper_bgcolor": "white",
          "plot_bgcolor": "#E5ECF6",
          "polar": {
           "angularaxis": {
            "gridcolor": "white",
            "linecolor": "white",
            "ticks": ""
           },
           "bgcolor": "#E5ECF6",
           "radialaxis": {
            "gridcolor": "white",
            "linecolor": "white",
            "ticks": ""
           }
          },
          "scene": {
           "xaxis": {
            "backgroundcolor": "#E5ECF6",
            "gridcolor": "white",
            "gridwidth": 2,
            "linecolor": "white",
            "showbackground": true,
            "ticks": "",
            "zerolinecolor": "white"
           },
           "yaxis": {
            "backgroundcolor": "#E5ECF6",
            "gridcolor": "white",
            "gridwidth": 2,
            "linecolor": "white",
            "showbackground": true,
            "ticks": "",
            "zerolinecolor": "white"
           },
           "zaxis": {
            "backgroundcolor": "#E5ECF6",
            "gridcolor": "white",
            "gridwidth": 2,
            "linecolor": "white",
            "showbackground": true,
            "ticks": "",
            "zerolinecolor": "white"
           }
          },
          "shapedefaults": {
           "line": {
            "color": "#2a3f5f"
           }
          },
          "ternary": {
           "aaxis": {
            "gridcolor": "white",
            "linecolor": "white",
            "ticks": ""
           },
           "baxis": {
            "gridcolor": "white",
            "linecolor": "white",
            "ticks": ""
           },
           "bgcolor": "#E5ECF6",
           "caxis": {
            "gridcolor": "white",
            "linecolor": "white",
            "ticks": ""
           }
          },
          "title": {
           "x": 0.05
          },
          "xaxis": {
           "automargin": true,
           "gridcolor": "white",
           "linecolor": "white",
           "ticks": "",
           "title": {
            "standoff": 15
           },
           "zerolinecolor": "white",
           "zerolinewidth": 2
          },
          "yaxis": {
           "automargin": true,
           "gridcolor": "white",
           "linecolor": "white",
           "ticks": "",
           "title": {
            "standoff": 15
           },
           "zerolinecolor": "white",
           "zerolinewidth": 2
          }
         }
        },
        "title": {
         "text": "Beach Projects By Funding Source"
        }
       }
      }
     },
     "metadata": {},
     "output_type": "display_data"
    }
   ],
   "source": [
    "fig = px.pie(fund_counts, values='Counts', names='Primary Funding Source', title='Beach Projects By Funding Source')\n",
    "fig.show()"
   ]
  },
  {
   "cell_type": "code",
   "execution_count": 60,
   "metadata": {},
   "outputs": [
    {
     "name": "stdout",
     "output_type": "stream",
     "text": [
      "                Length (ft)  Volume (CY)  Adjusted Cost (2022)\n",
      "Year Completed                                                \n",
      "1923                   8750      1700000          4.860111e+06\n",
      "1926                   2500       850000          2.230244e+06\n",
      "1927                   1056       500000          1.721765e+06\n",
      "1930                      0      5200000          1.798549e+07\n",
      "1933                      0       606000          0.000000e+00\n",
      "...                     ...          ...                   ...\n",
      "2020                 531236     25340067          5.626332e+08\n",
      "2021                 446650     25619252          3.945162e+08\n",
      "2022                 474984     29261205          3.781656e+08\n",
      "2023                 180167     10415952          2.154468e+08\n",
      "2024                  15239      5014000          8.154300e+07\n",
      "\n",
      "[95 rows x 3 columns]\n"
     ]
    }
   ],
   "source": [
    "length_by_year = beach.groupby('Year Completed').agg({'Length (ft)': 'sum', 'Volume (CY)': 'sum', 'Adjusted Cost (2022)': 'sum' })\n",
    "print(length_by_year)\n",
    "\n"
   ]
  },
  {
   "cell_type": "code",
   "execution_count": 61,
   "metadata": {},
   "outputs": [
    {
     "data": {
      "application/vnd.plotly.v1+json": {
       "config": {
        "plotlyServerURL": "https://plot.ly"
       },
       "data": [
        {
         "hovertemplate": "<b>%{hovertext}</b><br><br>Volume (CY)=%{x}<br>Adjusted Cost (2022)=%{y}<extra></extra>",
         "hovertext": [
          1923,
          1926,
          1927,
          1930,
          1933,
          1935,
          1936,
          1937,
          1938,
          1939,
          1940,
          1941,
          1942,
          1943,
          1944,
          1945,
          1946,
          1947,
          1948,
          1949,
          1950,
          1951,
          1952,
          1953,
          1954,
          1955,
          1956,
          1957,
          1958,
          1959,
          1960,
          1961,
          1962,
          1963,
          1964,
          1965,
          1966,
          1967,
          1968,
          1969,
          1970,
          1971,
          1972,
          1973,
          1974,
          1975,
          1976,
          1977,
          1978,
          1979,
          1980,
          1981,
          1982,
          1983,
          1984,
          1985,
          1986,
          1987,
          1988,
          1989,
          1990,
          1991,
          1992,
          1993,
          1994,
          1995,
          1996,
          1997,
          1998,
          1999,
          2000,
          2001,
          2002,
          2003,
          2004,
          2005,
          2006,
          2007,
          2008,
          2009,
          2010,
          2011,
          2012,
          2013,
          2014,
          2015,
          2016,
          2017,
          2018,
          2019,
          2020,
          2021,
          2022,
          2023,
          2024
         ],
         "legendgroup": "",
         "marker": {
          "color": "#636efa",
          "symbol": "circle"
         },
         "mode": "markers",
         "name": "",
         "orientation": "v",
         "showlegend": false,
         "type": "scatter",
         "x": [
          1700000,
          850000,
          500000,
          5200000,
          606000,
          16337150,
          27577407,
          900000,
          2884000,
          3774122,
          2068700,
          5008040,
          1962110,
          7165000,
          2110667,
          2687838,
          29874956,
          30290715,
          39959695,
          3546152,
          1373000,
          20000,
          6346098,
          14533000,
          10424566,
          3320100,
          5060875,
          4023500,
          5891984,
          4535097,
          5887824,
          14552460,
          16974167,
          34512920,
          7715079,
          10602095,
          7635615,
          3884057,
          6125624,
          9037852,
          11483333,
          12041116,
          9191121,
          17813428,
          9821227,
          13624472,
          11182598,
          11630642,
          13834065,
          10445480,
          17156867,
          8760788,
          14149355,
          13445532,
          18290440,
          24699147,
          17231779,
          18269758,
          19001103,
          17506027,
          24486477,
          17476701,
          14387345,
          19424599,
          25270820,
          23300448,
          23002413,
          24230545,
          17001151,
          40803696,
          15560733,
          31281971,
          29638050,
          22865712,
          24109111,
          29902897,
          25055407,
          20022924,
          15131914,
          32188306,
          19170062,
          26512283,
          30240206,
          43429643,
          45695719,
          16537740,
          48840455,
          36279104,
          48278700,
          36417697,
          25340067,
          25619252,
          29261205,
          10415952,
          5014000
         ],
         "xaxis": "x",
         "y": [
          4860111.32,
          2230243.91,
          1721764.71,
          17985485.25,
          0,
          12477780.09,
          47588859.48,
          4278395.9,
          4954867.41,
          3303328.5700000003,
          6184332.86,
          1952309,
          9069858.309999999,
          4183888.23,
          3024111.36,
          2936951.8,
          0,
          1454266.65,
          36893200.75,
          6930855.510000001,
          4033357.21,
          0,
          20732916.67,
          34927825.96,
          46151017.19,
          18245642.61,
          9898951.39,
          22422783.6,
          24781783.82,
          108711542.61,
          12960191.440000001,
          43983936.78,
          88603893.21,
          95717962.55,
          35650047.99,
          27791109.75,
          29449824.51,
          33401230.52,
          23764154.11,
          66540837.93,
          75411813.39,
          55348561.019999996,
          55000103.739999995,
          130554563.95,
          46200592.35,
          126327168.11,
          58470185.06,
          67196434.56,
          135730459.51,
          96323122.68,
          155488299.29,
          110970408.45,
          104084460.63,
          76447409.55,
          146170253.82999998,
          82184159.64,
          93741415.72,
          101389870.05,
          125902821.39000002,
          142372945.84,
          186195971.92000002,
          202704843.86,
          134620068.41,
          172874258.01999998,
          180074539.88,
          170405053.13,
          269872879.09000003,
          225841025.94,
          154378204.35,
          388587701.58,
          128045452.77,
          354972018.37,
          369885100.44,
          156192494.04,
          189790398.38,
          258556532.39000002,
          430443073.21999997,
          328762425,
          201758694.19,
          386077253.86,
          272615972.77,
          500301648.59,
          550983172.12,
          748415124.52,
          925335645.55,
          363402863.21999997,
          730991304.55,
          642619256.6899999,
          805734023.4,
          468122348.5,
          562633199.14,
          394516203.23,
          378165619,
          215446799,
          81543000
         ],
         "yaxis": "y"
        },
        {
         "hovertemplate": "<b>OLS trendline</b><br>Adjusted Cost (2022) = 13.1764 * Volume (CY) + -5.5167e+07<br>R<sup>2</sup>=0.629805<br><br>Volume (CY)=%{x}<br>Adjusted Cost (2022)=%{y} <b>(trend)</b><extra></extra>",
         "legendgroup": "",
         "marker": {
          "color": "#636efa",
          "symbol": "circle"
         },
         "mode": "lines",
         "name": "",
         "showlegend": false,
         "type": "scatter",
         "x": [
          20000,
          500000,
          606000,
          850000,
          900000,
          1373000,
          1700000,
          1962110,
          2068700,
          2110667,
          2687838,
          2884000,
          3320100,
          3546152,
          3774122,
          3884057,
          4023500,
          4535097,
          5008040,
          5014000,
          5060875,
          5200000,
          5887824,
          5891984,
          6125624,
          6346098,
          7165000,
          7635615,
          7715079,
          8760788,
          9037852,
          9191121,
          9821227,
          10415952,
          10424566,
          10445480,
          10602095,
          11182598,
          11483333,
          11630642,
          12041116,
          13445532,
          13624472,
          13834065,
          14149355,
          14387345,
          14533000,
          14552460,
          15131914,
          15560733,
          16337150,
          16537740,
          16974167,
          17001151,
          17156867,
          17231779,
          17476701,
          17506027,
          17813428,
          18269758,
          18290440,
          19001103,
          19170062,
          19424599,
          20022924,
          22865712,
          23002413,
          23300448,
          24109111,
          24230545,
          24486477,
          24699147,
          25055407,
          25270820,
          25340067,
          25619252,
          26512283,
          27577407,
          29261205,
          29638050,
          29874956,
          29902897,
          30240206,
          30290715,
          31281971,
          32188306,
          34512920,
          36279104,
          36417697,
          39959695,
          40803696,
          43429643,
          45695719,
          48278700,
          48840455
         ],
         "xaxis": "x",
         "y": [
          -54903495.79982757,
          -48578810.540481776,
          -47182109.212376244,
          -43967060.8722088,
          -43308239.491026945,
          -37075789.225046605,
          -32767097.392117288,
          -29313423.947685774,
          -27908948.527282298,
          -27355973.389201123,
          -19750921.481238894,
          -17166207.085730992,
          -11419966.999062866,
          -8441409.18188446,
          -5437578.976523921,
          -3989028.405719377,
          -2151667.8085965514,
          4589353.034373306,
          10821052.243979089,
          10899583.752615966,
          11517228.797473952,
          13350399.290612467,
          22413462.444413014,
          22468276.383327343,
          25546816.9333139,
          28451876.637207665,
          39242079.57105931,
          45443104.05715727,
          46490155.70184196,
          60268864.655727856,
          63919578.398843236,
          65939116.28429047,
          74241662.38850993,
          82078013.30697748,
          82191515.05452749,
          82467086.86184824,
          84530713.07412416,
          92179668.83892834,
          96142281.80032283,
          98083288.1771332,
          103491869.129518,
          121997054.90699589,
          124354844.86596951,
          127116531.86089048,
          131270927.726347,
          134406785.7364964,
          136325998.30201724,
          136582411.58357322,
          144217545.2758002,
          149867847.79294065,
          160098250.19920206,
          162741309.81622744,
          168491858.59472847,
          168847411.3177247,
          170899191.92156696,
          171886264.4677089,
          175113461.47414532,
          175499873.3906361,
          179550320.41856974,
          185563119.63606405,
          185835634.51217613,
          195199634.09647292,
          197425910.131335,
          200779798.4893727,
          208663584.54728538,
          246121374.87862936,
          247922605.71120813,
          251849642.31801882,
          262504931.80943206,
          264104998.1214808,
          267477267.5960535,
          270279498.4587724,
          274973732.5639694,
          277812106.36765987,
          278724534.45131385,
          282403195.397419,
          294170153.73458326,
          308204683.03078204,
          330391125.5106069,
          335356596.3784364,
          338478171.14104176,
          338846333.7052738,
          343290861.3305752,
          343956389.5134175,
          357017602.4539135,
          368959859.9841826,
          399589968.10807604,
          422861963.7541019,
          424688124.3877446,
          471359004.67781186,
          482479922.76858914,
          517080523.35759604,
          546939309.761257,
          580973771.9609867,
          588375696.060703
         ],
         "yaxis": "y"
        }
       ],
       "layout": {
        "legend": {
         "tracegroupgap": 0
        },
        "margin": {
         "t": 60
        },
        "template": {
         "data": {
          "bar": [
           {
            "error_x": {
             "color": "#2a3f5f"
            },
            "error_y": {
             "color": "#2a3f5f"
            },
            "marker": {
             "line": {
              "color": "#E5ECF6",
              "width": 0.5
             },
             "pattern": {
              "fillmode": "overlay",
              "size": 10,
              "solidity": 0.2
             }
            },
            "type": "bar"
           }
          ],
          "barpolar": [
           {
            "marker": {
             "line": {
              "color": "#E5ECF6",
              "width": 0.5
             },
             "pattern": {
              "fillmode": "overlay",
              "size": 10,
              "solidity": 0.2
             }
            },
            "type": "barpolar"
           }
          ],
          "carpet": [
           {
            "aaxis": {
             "endlinecolor": "#2a3f5f",
             "gridcolor": "white",
             "linecolor": "white",
             "minorgridcolor": "white",
             "startlinecolor": "#2a3f5f"
            },
            "baxis": {
             "endlinecolor": "#2a3f5f",
             "gridcolor": "white",
             "linecolor": "white",
             "minorgridcolor": "white",
             "startlinecolor": "#2a3f5f"
            },
            "type": "carpet"
           }
          ],
          "choropleth": [
           {
            "colorbar": {
             "outlinewidth": 0,
             "ticks": ""
            },
            "type": "choropleth"
           }
          ],
          "contour": [
           {
            "colorbar": {
             "outlinewidth": 0,
             "ticks": ""
            },
            "colorscale": [
             [
              0,
              "#0d0887"
             ],
             [
              0.1111111111111111,
              "#46039f"
             ],
             [
              0.2222222222222222,
              "#7201a8"
             ],
             [
              0.3333333333333333,
              "#9c179e"
             ],
             [
              0.4444444444444444,
              "#bd3786"
             ],
             [
              0.5555555555555556,
              "#d8576b"
             ],
             [
              0.6666666666666666,
              "#ed7953"
             ],
             [
              0.7777777777777778,
              "#fb9f3a"
             ],
             [
              0.8888888888888888,
              "#fdca26"
             ],
             [
              1,
              "#f0f921"
             ]
            ],
            "type": "contour"
           }
          ],
          "contourcarpet": [
           {
            "colorbar": {
             "outlinewidth": 0,
             "ticks": ""
            },
            "type": "contourcarpet"
           }
          ],
          "heatmap": [
           {
            "colorbar": {
             "outlinewidth": 0,
             "ticks": ""
            },
            "colorscale": [
             [
              0,
              "#0d0887"
             ],
             [
              0.1111111111111111,
              "#46039f"
             ],
             [
              0.2222222222222222,
              "#7201a8"
             ],
             [
              0.3333333333333333,
              "#9c179e"
             ],
             [
              0.4444444444444444,
              "#bd3786"
             ],
             [
              0.5555555555555556,
              "#d8576b"
             ],
             [
              0.6666666666666666,
              "#ed7953"
             ],
             [
              0.7777777777777778,
              "#fb9f3a"
             ],
             [
              0.8888888888888888,
              "#fdca26"
             ],
             [
              1,
              "#f0f921"
             ]
            ],
            "type": "heatmap"
           }
          ],
          "heatmapgl": [
           {
            "colorbar": {
             "outlinewidth": 0,
             "ticks": ""
            },
            "colorscale": [
             [
              0,
              "#0d0887"
             ],
             [
              0.1111111111111111,
              "#46039f"
             ],
             [
              0.2222222222222222,
              "#7201a8"
             ],
             [
              0.3333333333333333,
              "#9c179e"
             ],
             [
              0.4444444444444444,
              "#bd3786"
             ],
             [
              0.5555555555555556,
              "#d8576b"
             ],
             [
              0.6666666666666666,
              "#ed7953"
             ],
             [
              0.7777777777777778,
              "#fb9f3a"
             ],
             [
              0.8888888888888888,
              "#fdca26"
             ],
             [
              1,
              "#f0f921"
             ]
            ],
            "type": "heatmapgl"
           }
          ],
          "histogram": [
           {
            "marker": {
             "pattern": {
              "fillmode": "overlay",
              "size": 10,
              "solidity": 0.2
             }
            },
            "type": "histogram"
           }
          ],
          "histogram2d": [
           {
            "colorbar": {
             "outlinewidth": 0,
             "ticks": ""
            },
            "colorscale": [
             [
              0,
              "#0d0887"
             ],
             [
              0.1111111111111111,
              "#46039f"
             ],
             [
              0.2222222222222222,
              "#7201a8"
             ],
             [
              0.3333333333333333,
              "#9c179e"
             ],
             [
              0.4444444444444444,
              "#bd3786"
             ],
             [
              0.5555555555555556,
              "#d8576b"
             ],
             [
              0.6666666666666666,
              "#ed7953"
             ],
             [
              0.7777777777777778,
              "#fb9f3a"
             ],
             [
              0.8888888888888888,
              "#fdca26"
             ],
             [
              1,
              "#f0f921"
             ]
            ],
            "type": "histogram2d"
           }
          ],
          "histogram2dcontour": [
           {
            "colorbar": {
             "outlinewidth": 0,
             "ticks": ""
            },
            "colorscale": [
             [
              0,
              "#0d0887"
             ],
             [
              0.1111111111111111,
              "#46039f"
             ],
             [
              0.2222222222222222,
              "#7201a8"
             ],
             [
              0.3333333333333333,
              "#9c179e"
             ],
             [
              0.4444444444444444,
              "#bd3786"
             ],
             [
              0.5555555555555556,
              "#d8576b"
             ],
             [
              0.6666666666666666,
              "#ed7953"
             ],
             [
              0.7777777777777778,
              "#fb9f3a"
             ],
             [
              0.8888888888888888,
              "#fdca26"
             ],
             [
              1,
              "#f0f921"
             ]
            ],
            "type": "histogram2dcontour"
           }
          ],
          "mesh3d": [
           {
            "colorbar": {
             "outlinewidth": 0,
             "ticks": ""
            },
            "type": "mesh3d"
           }
          ],
          "parcoords": [
           {
            "line": {
             "colorbar": {
              "outlinewidth": 0,
              "ticks": ""
             }
            },
            "type": "parcoords"
           }
          ],
          "pie": [
           {
            "automargin": true,
            "type": "pie"
           }
          ],
          "scatter": [
           {
            "fillpattern": {
             "fillmode": "overlay",
             "size": 10,
             "solidity": 0.2
            },
            "type": "scatter"
           }
          ],
          "scatter3d": [
           {
            "line": {
             "colorbar": {
              "outlinewidth": 0,
              "ticks": ""
             }
            },
            "marker": {
             "colorbar": {
              "outlinewidth": 0,
              "ticks": ""
             }
            },
            "type": "scatter3d"
           }
          ],
          "scattercarpet": [
           {
            "marker": {
             "colorbar": {
              "outlinewidth": 0,
              "ticks": ""
             }
            },
            "type": "scattercarpet"
           }
          ],
          "scattergeo": [
           {
            "marker": {
             "colorbar": {
              "outlinewidth": 0,
              "ticks": ""
             }
            },
            "type": "scattergeo"
           }
          ],
          "scattergl": [
           {
            "marker": {
             "colorbar": {
              "outlinewidth": 0,
              "ticks": ""
             }
            },
            "type": "scattergl"
           }
          ],
          "scattermapbox": [
           {
            "marker": {
             "colorbar": {
              "outlinewidth": 0,
              "ticks": ""
             }
            },
            "type": "scattermapbox"
           }
          ],
          "scatterpolar": [
           {
            "marker": {
             "colorbar": {
              "outlinewidth": 0,
              "ticks": ""
             }
            },
            "type": "scatterpolar"
           }
          ],
          "scatterpolargl": [
           {
            "marker": {
             "colorbar": {
              "outlinewidth": 0,
              "ticks": ""
             }
            },
            "type": "scatterpolargl"
           }
          ],
          "scatterternary": [
           {
            "marker": {
             "colorbar": {
              "outlinewidth": 0,
              "ticks": ""
             }
            },
            "type": "scatterternary"
           }
          ],
          "surface": [
           {
            "colorbar": {
             "outlinewidth": 0,
             "ticks": ""
            },
            "colorscale": [
             [
              0,
              "#0d0887"
             ],
             [
              0.1111111111111111,
              "#46039f"
             ],
             [
              0.2222222222222222,
              "#7201a8"
             ],
             [
              0.3333333333333333,
              "#9c179e"
             ],
             [
              0.4444444444444444,
              "#bd3786"
             ],
             [
              0.5555555555555556,
              "#d8576b"
             ],
             [
              0.6666666666666666,
              "#ed7953"
             ],
             [
              0.7777777777777778,
              "#fb9f3a"
             ],
             [
              0.8888888888888888,
              "#fdca26"
             ],
             [
              1,
              "#f0f921"
             ]
            ],
            "type": "surface"
           }
          ],
          "table": [
           {
            "cells": {
             "fill": {
              "color": "#EBF0F8"
             },
             "line": {
              "color": "white"
             }
            },
            "header": {
             "fill": {
              "color": "#C8D4E3"
             },
             "line": {
              "color": "white"
             }
            },
            "type": "table"
           }
          ]
         },
         "layout": {
          "annotationdefaults": {
           "arrowcolor": "#2a3f5f",
           "arrowhead": 0,
           "arrowwidth": 1
          },
          "autotypenumbers": "strict",
          "coloraxis": {
           "colorbar": {
            "outlinewidth": 0,
            "ticks": ""
           }
          },
          "colorscale": {
           "diverging": [
            [
             0,
             "#8e0152"
            ],
            [
             0.1,
             "#c51b7d"
            ],
            [
             0.2,
             "#de77ae"
            ],
            [
             0.3,
             "#f1b6da"
            ],
            [
             0.4,
             "#fde0ef"
            ],
            [
             0.5,
             "#f7f7f7"
            ],
            [
             0.6,
             "#e6f5d0"
            ],
            [
             0.7,
             "#b8e186"
            ],
            [
             0.8,
             "#7fbc41"
            ],
            [
             0.9,
             "#4d9221"
            ],
            [
             1,
             "#276419"
            ]
           ],
           "sequential": [
            [
             0,
             "#0d0887"
            ],
            [
             0.1111111111111111,
             "#46039f"
            ],
            [
             0.2222222222222222,
             "#7201a8"
            ],
            [
             0.3333333333333333,
             "#9c179e"
            ],
            [
             0.4444444444444444,
             "#bd3786"
            ],
            [
             0.5555555555555556,
             "#d8576b"
            ],
            [
             0.6666666666666666,
             "#ed7953"
            ],
            [
             0.7777777777777778,
             "#fb9f3a"
            ],
            [
             0.8888888888888888,
             "#fdca26"
            ],
            [
             1,
             "#f0f921"
            ]
           ],
           "sequentialminus": [
            [
             0,
             "#0d0887"
            ],
            [
             0.1111111111111111,
             "#46039f"
            ],
            [
             0.2222222222222222,
             "#7201a8"
            ],
            [
             0.3333333333333333,
             "#9c179e"
            ],
            [
             0.4444444444444444,
             "#bd3786"
            ],
            [
             0.5555555555555556,
             "#d8576b"
            ],
            [
             0.6666666666666666,
             "#ed7953"
            ],
            [
             0.7777777777777778,
             "#fb9f3a"
            ],
            [
             0.8888888888888888,
             "#fdca26"
            ],
            [
             1,
             "#f0f921"
            ]
           ]
          },
          "colorway": [
           "#636efa",
           "#EF553B",
           "#00cc96",
           "#ab63fa",
           "#FFA15A",
           "#19d3f3",
           "#FF6692",
           "#B6E880",
           "#FF97FF",
           "#FECB52"
          ],
          "font": {
           "color": "#2a3f5f"
          },
          "geo": {
           "bgcolor": "white",
           "lakecolor": "white",
           "landcolor": "#E5ECF6",
           "showlakes": true,
           "showland": true,
           "subunitcolor": "white"
          },
          "hoverlabel": {
           "align": "left"
          },
          "hovermode": "closest",
          "mapbox": {
           "style": "light"
          },
          "paper_bgcolor": "white",
          "plot_bgcolor": "#E5ECF6",
          "polar": {
           "angularaxis": {
            "gridcolor": "white",
            "linecolor": "white",
            "ticks": ""
           },
           "bgcolor": "#E5ECF6",
           "radialaxis": {
            "gridcolor": "white",
            "linecolor": "white",
            "ticks": ""
           }
          },
          "scene": {
           "xaxis": {
            "backgroundcolor": "#E5ECF6",
            "gridcolor": "white",
            "gridwidth": 2,
            "linecolor": "white",
            "showbackground": true,
            "ticks": "",
            "zerolinecolor": "white"
           },
           "yaxis": {
            "backgroundcolor": "#E5ECF6",
            "gridcolor": "white",
            "gridwidth": 2,
            "linecolor": "white",
            "showbackground": true,
            "ticks": "",
            "zerolinecolor": "white"
           },
           "zaxis": {
            "backgroundcolor": "#E5ECF6",
            "gridcolor": "white",
            "gridwidth": 2,
            "linecolor": "white",
            "showbackground": true,
            "ticks": "",
            "zerolinecolor": "white"
           }
          },
          "shapedefaults": {
           "line": {
            "color": "#2a3f5f"
           }
          },
          "ternary": {
           "aaxis": {
            "gridcolor": "white",
            "linecolor": "white",
            "ticks": ""
           },
           "baxis": {
            "gridcolor": "white",
            "linecolor": "white",
            "ticks": ""
           },
           "bgcolor": "#E5ECF6",
           "caxis": {
            "gridcolor": "white",
            "linecolor": "white",
            "ticks": ""
           }
          },
          "title": {
           "x": 0.05
          },
          "xaxis": {
           "automargin": true,
           "gridcolor": "white",
           "linecolor": "white",
           "ticks": "",
           "title": {
            "standoff": 15
           },
           "zerolinecolor": "white",
           "zerolinewidth": 2
          },
          "yaxis": {
           "automargin": true,
           "gridcolor": "white",
           "linecolor": "white",
           "ticks": "",
           "title": {
            "standoff": 15
           },
           "zerolinecolor": "white",
           "zerolinewidth": 2
          }
         }
        },
        "xaxis": {
         "anchor": "y",
         "domain": [
          0,
          1
         ],
         "title": {
          "text": "Volume (CY)"
         }
        },
        "yaxis": {
         "anchor": "x",
         "domain": [
          0,
          1
         ],
         "title": {
          "text": "Adjusted Cost (2022)"
         }
        }
       }
      }
     },
     "metadata": {},
     "output_type": "display_data"
    }
   ],
   "source": [
    "fig = px.scatter(length_by_year, \n",
    "                 x='Volume (CY)', \n",
    "                 y='Adjusted Cost (2022)', \n",
    "                 hover_name=length_by_year.index,\n",
    "                 title='Yearly Volume vs. Adjusted Cost',\n",
    "                 labels={'Volume (CY)': 'Volume (Cubic Yards)', 'Adjusted Cost (2022)': 'Adjusted Cost (2022 USD)'})\n",
    "\n",
    "\n",
    "\n",
    "\n",
    "fig = px.scatter(length_by_year, x='Volume (CY)', y='Adjusted Cost (2022)', trendline=\"ols\", hover_name=length_by_year.index)\n",
    "\n",
    "fig.show()\n"
   ]
  },
  {
   "cell_type": "code",
   "execution_count": 62,
   "metadata": {},
   "outputs": [],
   "source": [
    "#group by decades\n",
    "beach['Decade'] = (beach['Year Completed'] // 10) * 10\n"
   ]
  },
  {
   "cell_type": "code",
   "execution_count": 63,
   "metadata": {},
   "outputs": [
    {
     "name": "stdout",
     "output_type": "stream",
     "text": [
      "        Length (ft)  Volume (CY)  Adjusted Cost (2022)\n",
      "Decade                                                \n",
      "1920          12306      3050000          8.812120e+06\n",
      "1930          31152     57278679          9.058872e+07\n",
      "1940         118904    124673873          7.262977e+07\n",
      "1950         346908     55528220          2.899058e+08\n",
      "1960         845385    116927693          4.578632e+08\n",
      "1970         959789    121067482          8.465630e+08\n",
      "1980        1298632    168510796          1.138752e+09\n",
      "1990        2629012    229384195          2.085555e+09\n",
      "2000        4358623    245757025          2.804483e+09\n",
      "2010        5020287    351401609          6.008521e+09\n",
      "2020        1648276     95650476          1.632305e+09\n"
     ]
    }
   ],
   "source": [
    "decade_data = beach.groupby('Decade').agg({\n",
    "    'Length (ft)': 'sum',\n",
    "    'Volume (CY)': 'sum',\n",
    "    'Adjusted Cost (2022)': 'sum'\n",
    "})\n",
    "print(decade_data)\n"
   ]
  },
  {
   "cell_type": "code",
   "execution_count": 64,
   "metadata": {},
   "outputs": [
    {
     "data": {
      "application/vnd.plotly.v1+json": {
       "config": {
        "plotlyServerURL": "https://plot.ly"
       },
       "data": [
        {
         "hovertemplate": "Volume of Sand (Cubic Yards)=%{marker.size}<br>Adjusted Cost (2022 USD)=%{y}<br>Decade=%{text}<extra></extra>",
         "legendgroup": "",
         "marker": {
          "color": "#636efa",
          "size": [
           3050000,
           57278679,
           124673873,
           55528220,
           116927693,
           121067482,
           168510796,
           229384195,
           245757025,
           351401609,
           95650476
          ],
          "sizemode": "area",
          "sizeref": 878504.0225,
          "symbol": "circle"
         },
         "mode": "markers+text",
         "name": "",
         "orientation": "v",
         "showlegend": false,
         "text": [
          1920,
          1930,
          1940,
          1950,
          1960,
          1970,
          1980,
          1990,
          2000,
          2010,
          2020
         ],
         "textposition": "top center",
         "type": "scatter",
         "x": [
          3050000,
          57278679,
          124673873,
          55528220,
          116927693,
          121067482,
          168510796,
          229384195,
          245757025,
          351401609,
          95650476
         ],
         "xaxis": "x",
         "y": [
          8812119.940000001,
          90588716.7,
          72629774.47,
          289905821.06,
          457863188.79,
          846563004.37,
          1138752044.39,
          2085554546.18,
          2804483442.66,
          6008521359.91,
          1632304820.3700001
         ],
         "yaxis": "y"
        }
       ],
       "layout": {
        "legend": {
         "itemsizing": "constant",
         "tracegroupgap": 0
        },
        "template": {
         "data": {
          "bar": [
           {
            "error_x": {
             "color": "#2a3f5f"
            },
            "error_y": {
             "color": "#2a3f5f"
            },
            "marker": {
             "line": {
              "color": "#E5ECF6",
              "width": 0.5
             },
             "pattern": {
              "fillmode": "overlay",
              "size": 10,
              "solidity": 0.2
             }
            },
            "type": "bar"
           }
          ],
          "barpolar": [
           {
            "marker": {
             "line": {
              "color": "#E5ECF6",
              "width": 0.5
             },
             "pattern": {
              "fillmode": "overlay",
              "size": 10,
              "solidity": 0.2
             }
            },
            "type": "barpolar"
           }
          ],
          "carpet": [
           {
            "aaxis": {
             "endlinecolor": "#2a3f5f",
             "gridcolor": "white",
             "linecolor": "white",
             "minorgridcolor": "white",
             "startlinecolor": "#2a3f5f"
            },
            "baxis": {
             "endlinecolor": "#2a3f5f",
             "gridcolor": "white",
             "linecolor": "white",
             "minorgridcolor": "white",
             "startlinecolor": "#2a3f5f"
            },
            "type": "carpet"
           }
          ],
          "choropleth": [
           {
            "colorbar": {
             "outlinewidth": 0,
             "ticks": ""
            },
            "type": "choropleth"
           }
          ],
          "contour": [
           {
            "colorbar": {
             "outlinewidth": 0,
             "ticks": ""
            },
            "colorscale": [
             [
              0,
              "#0d0887"
             ],
             [
              0.1111111111111111,
              "#46039f"
             ],
             [
              0.2222222222222222,
              "#7201a8"
             ],
             [
              0.3333333333333333,
              "#9c179e"
             ],
             [
              0.4444444444444444,
              "#bd3786"
             ],
             [
              0.5555555555555556,
              "#d8576b"
             ],
             [
              0.6666666666666666,
              "#ed7953"
             ],
             [
              0.7777777777777778,
              "#fb9f3a"
             ],
             [
              0.8888888888888888,
              "#fdca26"
             ],
             [
              1,
              "#f0f921"
             ]
            ],
            "type": "contour"
           }
          ],
          "contourcarpet": [
           {
            "colorbar": {
             "outlinewidth": 0,
             "ticks": ""
            },
            "type": "contourcarpet"
           }
          ],
          "heatmap": [
           {
            "colorbar": {
             "outlinewidth": 0,
             "ticks": ""
            },
            "colorscale": [
             [
              0,
              "#0d0887"
             ],
             [
              0.1111111111111111,
              "#46039f"
             ],
             [
              0.2222222222222222,
              "#7201a8"
             ],
             [
              0.3333333333333333,
              "#9c179e"
             ],
             [
              0.4444444444444444,
              "#bd3786"
             ],
             [
              0.5555555555555556,
              "#d8576b"
             ],
             [
              0.6666666666666666,
              "#ed7953"
             ],
             [
              0.7777777777777778,
              "#fb9f3a"
             ],
             [
              0.8888888888888888,
              "#fdca26"
             ],
             [
              1,
              "#f0f921"
             ]
            ],
            "type": "heatmap"
           }
          ],
          "heatmapgl": [
           {
            "colorbar": {
             "outlinewidth": 0,
             "ticks": ""
            },
            "colorscale": [
             [
              0,
              "#0d0887"
             ],
             [
              0.1111111111111111,
              "#46039f"
             ],
             [
              0.2222222222222222,
              "#7201a8"
             ],
             [
              0.3333333333333333,
              "#9c179e"
             ],
             [
              0.4444444444444444,
              "#bd3786"
             ],
             [
              0.5555555555555556,
              "#d8576b"
             ],
             [
              0.6666666666666666,
              "#ed7953"
             ],
             [
              0.7777777777777778,
              "#fb9f3a"
             ],
             [
              0.8888888888888888,
              "#fdca26"
             ],
             [
              1,
              "#f0f921"
             ]
            ],
            "type": "heatmapgl"
           }
          ],
          "histogram": [
           {
            "marker": {
             "pattern": {
              "fillmode": "overlay",
              "size": 10,
              "solidity": 0.2
             }
            },
            "type": "histogram"
           }
          ],
          "histogram2d": [
           {
            "colorbar": {
             "outlinewidth": 0,
             "ticks": ""
            },
            "colorscale": [
             [
              0,
              "#0d0887"
             ],
             [
              0.1111111111111111,
              "#46039f"
             ],
             [
              0.2222222222222222,
              "#7201a8"
             ],
             [
              0.3333333333333333,
              "#9c179e"
             ],
             [
              0.4444444444444444,
              "#bd3786"
             ],
             [
              0.5555555555555556,
              "#d8576b"
             ],
             [
              0.6666666666666666,
              "#ed7953"
             ],
             [
              0.7777777777777778,
              "#fb9f3a"
             ],
             [
              0.8888888888888888,
              "#fdca26"
             ],
             [
              1,
              "#f0f921"
             ]
            ],
            "type": "histogram2d"
           }
          ],
          "histogram2dcontour": [
           {
            "colorbar": {
             "outlinewidth": 0,
             "ticks": ""
            },
            "colorscale": [
             [
              0,
              "#0d0887"
             ],
             [
              0.1111111111111111,
              "#46039f"
             ],
             [
              0.2222222222222222,
              "#7201a8"
             ],
             [
              0.3333333333333333,
              "#9c179e"
             ],
             [
              0.4444444444444444,
              "#bd3786"
             ],
             [
              0.5555555555555556,
              "#d8576b"
             ],
             [
              0.6666666666666666,
              "#ed7953"
             ],
             [
              0.7777777777777778,
              "#fb9f3a"
             ],
             [
              0.8888888888888888,
              "#fdca26"
             ],
             [
              1,
              "#f0f921"
             ]
            ],
            "type": "histogram2dcontour"
           }
          ],
          "mesh3d": [
           {
            "colorbar": {
             "outlinewidth": 0,
             "ticks": ""
            },
            "type": "mesh3d"
           }
          ],
          "parcoords": [
           {
            "line": {
             "colorbar": {
              "outlinewidth": 0,
              "ticks": ""
             }
            },
            "type": "parcoords"
           }
          ],
          "pie": [
           {
            "automargin": true,
            "type": "pie"
           }
          ],
          "scatter": [
           {
            "fillpattern": {
             "fillmode": "overlay",
             "size": 10,
             "solidity": 0.2
            },
            "type": "scatter"
           }
          ],
          "scatter3d": [
           {
            "line": {
             "colorbar": {
              "outlinewidth": 0,
              "ticks": ""
             }
            },
            "marker": {
             "colorbar": {
              "outlinewidth": 0,
              "ticks": ""
             }
            },
            "type": "scatter3d"
           }
          ],
          "scattercarpet": [
           {
            "marker": {
             "colorbar": {
              "outlinewidth": 0,
              "ticks": ""
             }
            },
            "type": "scattercarpet"
           }
          ],
          "scattergeo": [
           {
            "marker": {
             "colorbar": {
              "outlinewidth": 0,
              "ticks": ""
             }
            },
            "type": "scattergeo"
           }
          ],
          "scattergl": [
           {
            "marker": {
             "colorbar": {
              "outlinewidth": 0,
              "ticks": ""
             }
            },
            "type": "scattergl"
           }
          ],
          "scattermapbox": [
           {
            "marker": {
             "colorbar": {
              "outlinewidth": 0,
              "ticks": ""
             }
            },
            "type": "scattermapbox"
           }
          ],
          "scatterpolar": [
           {
            "marker": {
             "colorbar": {
              "outlinewidth": 0,
              "ticks": ""
             }
            },
            "type": "scatterpolar"
           }
          ],
          "scatterpolargl": [
           {
            "marker": {
             "colorbar": {
              "outlinewidth": 0,
              "ticks": ""
             }
            },
            "type": "scatterpolargl"
           }
          ],
          "scatterternary": [
           {
            "marker": {
             "colorbar": {
              "outlinewidth": 0,
              "ticks": ""
             }
            },
            "type": "scatterternary"
           }
          ],
          "surface": [
           {
            "colorbar": {
             "outlinewidth": 0,
             "ticks": ""
            },
            "colorscale": [
             [
              0,
              "#0d0887"
             ],
             [
              0.1111111111111111,
              "#46039f"
             ],
             [
              0.2222222222222222,
              "#7201a8"
             ],
             [
              0.3333333333333333,
              "#9c179e"
             ],
             [
              0.4444444444444444,
              "#bd3786"
             ],
             [
              0.5555555555555556,
              "#d8576b"
             ],
             [
              0.6666666666666666,
              "#ed7953"
             ],
             [
              0.7777777777777778,
              "#fb9f3a"
             ],
             [
              0.8888888888888888,
              "#fdca26"
             ],
             [
              1,
              "#f0f921"
             ]
            ],
            "type": "surface"
           }
          ],
          "table": [
           {
            "cells": {
             "fill": {
              "color": "#EBF0F8"
             },
             "line": {
              "color": "white"
             }
            },
            "header": {
             "fill": {
              "color": "#C8D4E3"
             },
             "line": {
              "color": "white"
             }
            },
            "type": "table"
           }
          ]
         },
         "layout": {
          "annotationdefaults": {
           "arrowcolor": "#2a3f5f",
           "arrowhead": 0,
           "arrowwidth": 1
          },
          "autotypenumbers": "strict",
          "coloraxis": {
           "colorbar": {
            "outlinewidth": 0,
            "ticks": ""
           }
          },
          "colorscale": {
           "diverging": [
            [
             0,
             "#8e0152"
            ],
            [
             0.1,
             "#c51b7d"
            ],
            [
             0.2,
             "#de77ae"
            ],
            [
             0.3,
             "#f1b6da"
            ],
            [
             0.4,
             "#fde0ef"
            ],
            [
             0.5,
             "#f7f7f7"
            ],
            [
             0.6,
             "#e6f5d0"
            ],
            [
             0.7,
             "#b8e186"
            ],
            [
             0.8,
             "#7fbc41"
            ],
            [
             0.9,
             "#4d9221"
            ],
            [
             1,
             "#276419"
            ]
           ],
           "sequential": [
            [
             0,
             "#0d0887"
            ],
            [
             0.1111111111111111,
             "#46039f"
            ],
            [
             0.2222222222222222,
             "#7201a8"
            ],
            [
             0.3333333333333333,
             "#9c179e"
            ],
            [
             0.4444444444444444,
             "#bd3786"
            ],
            [
             0.5555555555555556,
             "#d8576b"
            ],
            [
             0.6666666666666666,
             "#ed7953"
            ],
            [
             0.7777777777777778,
             "#fb9f3a"
            ],
            [
             0.8888888888888888,
             "#fdca26"
            ],
            [
             1,
             "#f0f921"
            ]
           ],
           "sequentialminus": [
            [
             0,
             "#0d0887"
            ],
            [
             0.1111111111111111,
             "#46039f"
            ],
            [
             0.2222222222222222,
             "#7201a8"
            ],
            [
             0.3333333333333333,
             "#9c179e"
            ],
            [
             0.4444444444444444,
             "#bd3786"
            ],
            [
             0.5555555555555556,
             "#d8576b"
            ],
            [
             0.6666666666666666,
             "#ed7953"
            ],
            [
             0.7777777777777778,
             "#fb9f3a"
            ],
            [
             0.8888888888888888,
             "#fdca26"
            ],
            [
             1,
             "#f0f921"
            ]
           ]
          },
          "colorway": [
           "#636efa",
           "#EF553B",
           "#00cc96",
           "#ab63fa",
           "#FFA15A",
           "#19d3f3",
           "#FF6692",
           "#B6E880",
           "#FF97FF",
           "#FECB52"
          ],
          "font": {
           "color": "#2a3f5f"
          },
          "geo": {
           "bgcolor": "white",
           "lakecolor": "white",
           "landcolor": "#E5ECF6",
           "showlakes": true,
           "showland": true,
           "subunitcolor": "white"
          },
          "hoverlabel": {
           "align": "left"
          },
          "hovermode": "closest",
          "mapbox": {
           "style": "light"
          },
          "paper_bgcolor": "white",
          "plot_bgcolor": "#E5ECF6",
          "polar": {
           "angularaxis": {
            "gridcolor": "white",
            "linecolor": "white",
            "ticks": ""
           },
           "bgcolor": "#E5ECF6",
           "radialaxis": {
            "gridcolor": "white",
            "linecolor": "white",
            "ticks": ""
           }
          },
          "scene": {
           "xaxis": {
            "backgroundcolor": "#E5ECF6",
            "gridcolor": "white",
            "gridwidth": 2,
            "linecolor": "white",
            "showbackground": true,
            "ticks": "",
            "zerolinecolor": "white"
           },
           "yaxis": {
            "backgroundcolor": "#E5ECF6",
            "gridcolor": "white",
            "gridwidth": 2,
            "linecolor": "white",
            "showbackground": true,
            "ticks": "",
            "zerolinecolor": "white"
           },
           "zaxis": {
            "backgroundcolor": "#E5ECF6",
            "gridcolor": "white",
            "gridwidth": 2,
            "linecolor": "white",
            "showbackground": true,
            "ticks": "",
            "zerolinecolor": "white"
           }
          },
          "shapedefaults": {
           "line": {
            "color": "#2a3f5f"
           }
          },
          "ternary": {
           "aaxis": {
            "gridcolor": "white",
            "linecolor": "white",
            "ticks": ""
           },
           "baxis": {
            "gridcolor": "white",
            "linecolor": "white",
            "ticks": ""
           },
           "bgcolor": "#E5ECF6",
           "caxis": {
            "gridcolor": "white",
            "linecolor": "white",
            "ticks": ""
           }
          },
          "title": {
           "x": 0.05
          },
          "xaxis": {
           "automargin": true,
           "gridcolor": "white",
           "linecolor": "white",
           "ticks": "",
           "title": {
            "standoff": 15
           },
           "zerolinecolor": "white",
           "zerolinewidth": 2
          },
          "yaxis": {
           "automargin": true,
           "gridcolor": "white",
           "linecolor": "white",
           "ticks": "",
           "title": {
            "standoff": 15
           },
           "zerolinecolor": "white",
           "zerolinewidth": 2
          }
         }
        },
        "title": {
         "text": "Volume of Sand vs. Cost by Decades"
        },
        "xaxis": {
         "anchor": "y",
         "domain": [
          0,
          1
         ],
         "title": {
          "text": "Volume of Sand (Cubic Yards)"
         }
        },
        "yaxis": {
         "anchor": "x",
         "domain": [
          0,
          1
         ],
         "title": {
          "text": "Adjusted Cost (2022 USD)"
         }
        }
       }
      }
     },
     "metadata": {},
     "output_type": "display_data"
    }
   ],
   "source": [
    "# Create a scatter plot with decade_data\n",
    "fig = px.scatter(decade_data, x='Volume (CY)', y='Adjusted Cost (2022)', \n",
    "                 text=decade_data.index, size='Volume (CY)', \n",
    "                 title='Volume of Sand vs. Cost by Decades',\n",
    "                 labels={'Volume (CY)': 'Volume of Sand (Cubic Yards)', 'Adjusted Cost (2022)': 'Adjusted Cost (2022 USD)'})\n",
    "\n",
    "fig.update_traces(textposition='top center')\n",
    "\n",
    "fig.show()\n"
   ]
  },
  {
   "cell_type": "code",
   "execution_count": 65,
   "metadata": {},
   "outputs": [
    {
     "name": "stdout",
     "output_type": "stream",
     "text": [
      "    State          Justification  Counts\n",
      "0      AL          Demonstration       3\n",
      "1      AL  Ecosystem Restoration       1\n",
      "2      AL              Emergency       5\n",
      "3      AL         FEMA Emergency       1\n",
      "4      AL             Navigation       2\n",
      "..    ...                    ...     ...\n",
      "99     VA       Shore Protection      58\n",
      "100    VA                Unknown      11\n",
      "101    WA             Navigation       1\n",
      "102    WA       Shore Protection       3\n",
      "103    WA                Unknown       9\n",
      "\n",
      "[104 rows x 3 columns]\n"
     ]
    }
   ],
   "source": [
    "grouped_data = beach.groupby(['State', 'Justification'])\n",
    "counts = grouped_data.size().reset_index(name='Counts')\n",
    "print(counts)"
   ]
  },
  {
   "cell_type": "code",
   "execution_count": 66,
   "metadata": {},
   "outputs": [],
   "source": [
    "#def identify_outliers(column):\n",
    "#    Q1 = column.quantile(0.25)\n",
    "#    Q3 = column.quantile(0.75)\n",
    "#    IQR = Q3 - Q1\n",
    "#    lower_bound = Q1 - 1.5 * IQR\n",
    "#    upper_bound = Q3 + 1.5 * IQR\n",
    "    \n",
    "    # Return a boolean Series where True means the value is NOT an outlier\n",
    " #   return column.between(lower_bound, upper_bound, inclusive='both')\n",
    "\n",
    "# Automatically select numeric columns to check\n",
    "#columns_to_check = beach.select_dtypes(include=[np.number]).columns\n",
    "# Apply the outlier detection function to each specified column and store the result\n",
    "#mask = pd.concat([identify_outliers(beach[col]) for col in columns_to_check], axis=1).all(axis=1)\n",
    "\n",
    "#print(mask)\n",
    "#mask.value_counts()\n",
    "# Filter the DataFrame to only include rows where all specified columns are NOT outliers\n",
    "#df_filtered = beach[mask]\n",
    "\n",
    "#\n",
    "# print(df_filtered)"
   ]
  },
  {
   "cell_type": "code",
   "execution_count": 67,
   "metadata": {},
   "outputs": [],
   "source": [
    "clean_beach_data = beach.copy()"
   ]
  },
  {
   "cell_type": "code",
   "execution_count": 68,
   "metadata": {},
   "outputs": [
    {
     "name": "stdout",
     "output_type": "stream",
     "text": [
      "        ID State                              Location  Year Completed  \\\n",
      "0        5    AL                       Sand Island Bar            1987   \n",
      "1        8    AL                           Perdido Key            1986   \n",
      "2       11    AL                       Sand Island Bar            1988   \n",
      "3       17    AL                           Gulf Shores            2001   \n",
      "4       20    AL                       Sand Island Bar            1988   \n",
      "...    ...   ...                                   ...             ...   \n",
      "2454  6810    CA    Goleta Beach, Santa Barbara County            2017   \n",
      "2455  6811    CA    Goleta Beach, Santa Barbara County            2010   \n",
      "2456  6812    CA          Newport Beach, Orange County            2009   \n",
      "2457  6813    CA  Surfside/Sunset Beach, Orange County            2009   \n",
      "2458  6814    CA            Morro Bay, San Luis Obispo            2017   \n",
      "\n",
      "     Primary Funding Source     Justification  Length (ft)  Volume (CY)  \\\n",
      "0                   Federal     Demonstration         6000       464000   \n",
      "1                   Federal        Navigation            0       660000   \n",
      "2                   Federal     Demonstration          500         1400   \n",
      "3                     Local  Shore Protection        16000      1800000   \n",
      "4                   Federal     Demonstration        10560      2000000   \n",
      "...                     ...               ...          ...          ...   \n",
      "2454                  Local  Shore Protection            0         6000   \n",
      "2455                  Local  Shore Protection         4200        50000   \n",
      "2456                  Local  Shore Protection            0       120000   \n",
      "2457                Federal  Shore Protection            0      1750000   \n",
      "2458                Federal  Shore Protection            0       994000   \n",
      "\n",
      "      Total Cost  Year Completed CPI  Adjusted Cost (2022)  Total Cost/CY  \\\n",
      "0              0               114.0                  0.00           0.00   \n",
      "1        1406977               110.0            3743837.89           2.13   \n",
      "2          60000               118.0             148830.51          42.86   \n",
      "3        6000000               177.0            9922033.90           3.33   \n",
      "4        2000000               118.0            4961016.95           1.00   \n",
      "...          ...                 ...                   ...            ...   \n",
      "2454       65000               245.1              77623.42          10.83   \n",
      "2455     1600000               218.1            2147271.89          32.00   \n",
      "2456           0               214.5                  0.00           0.00   \n",
      "2457    12000000               214.5           16374825.17           6.86   \n",
      "2458           0               245.1                  0.00           0.00   \n",
      "\n",
      "      Adjusted Cost/CY     CY/Foot  Current CPI Other Info  \\\n",
      "0                 0.00       77.33        292.7        NaN   \n",
      "1                 5.67   660000.00        292.7        NaN   \n",
      "2               106.31        2.80        292.7        NaN   \n",
      "3                 5.51      112.50        292.7        NaN   \n",
      "4                 2.48      189.39        292.7        NaN   \n",
      "...                ...         ...          ...        ...   \n",
      "2454             12.94     6000.00        292.7        NaN   \n",
      "2455             42.95       11.90        292.7        NaN   \n",
      "2456              0.00   120000.00        292.7        NaN   \n",
      "2457              9.36  1750000.00        292.7        NaN   \n",
      "2458              0.00   994000.00        292.7        NaN   \n",
      "\n",
      "                                         Source Comment      Region  Decade  \n",
      "0     http://www.wes.army.mil/el/dots/budm/facts/san...  Gulf Coast    1980  \n",
      "1                                                   138  Gulf Coast    1980  \n",
      "2          http://www.southalabama.edu/cesrp/hbeach.htm  Gulf Coast    1980  \n",
      "3     http://www.weartv.com/news/Stories/may/0503/05...  Gulf Coast    2000  \n",
      "4     http://www.weartv.com/news/Stories/may/0503/05...  Gulf Coast    1980  \n",
      "...                                                 ...         ...     ...  \n",
      "2454  https://www.noozhawk.com/county_moving_sand_go...  West Coast    2010  \n",
      "2455  https://coastalcare.org/2010/07/goleta-beach-c...  West Coast    2010  \n",
      "2456  https://www.surfline.com/templates/article_htm...  West Coast    2000  \n",
      "2457  https://www.spl.usace.army.mil/Portals/17/docs...  West Coast    2000  \n",
      "2458  https://scholarworks.calstate.edu/downloads/rv...  West Coast    2010  \n",
      "\n",
      "[2459 rows x 19 columns]\n"
     ]
    }
   ],
   "source": [
    "print(clean_beach_data)"
   ]
  },
  {
   "cell_type": "code",
   "execution_count": 69,
   "metadata": {},
   "outputs": [
    {
     "name": "stdout",
     "output_type": "stream",
     "text": [
      "State\n",
      "AL     15\n",
      "CA    366\n",
      "CT     37\n",
      "DE    120\n",
      "FL    680\n",
      "GA     14\n",
      "LA     46\n",
      "MA     55\n",
      "MD     37\n",
      "ME     19\n",
      "MS     25\n",
      "NC    284\n",
      "NH      7\n",
      "NJ    354\n",
      "NY    128\n",
      "RI     14\n",
      "SC     94\n",
      "TX     76\n",
      "VA     75\n",
      "WA     13\n",
      "dtype: int64\n"
     ]
    }
   ],
   "source": [
    "group_by_state = clean_beach_data.groupby('State')\n",
    "\n",
    "count_per_state = group_by_state.size()\n",
    "print(count_per_state)\n"
   ]
  },
  {
   "cell_type": "code",
   "execution_count": 70,
   "metadata": {},
   "outputs": [
    {
     "data": {
      "application/vnd.plotly.v1+json": {
       "config": {
        "plotlyServerURL": "https://plot.ly"
       },
       "data": [
        {
         "alignmentgroup": "True",
         "hovertemplate": "State=%{x}<br>Count=%{y}<extra></extra>",
         "legendgroup": "",
         "marker": {
          "color": "#636efa",
          "pattern": {
           "shape": ""
          }
         },
         "name": "",
         "offsetgroup": "",
         "orientation": "v",
         "showlegend": false,
         "textposition": "auto",
         "type": "bar",
         "x": [
          "AL",
          "CA",
          "CT",
          "DE",
          "FL",
          "GA",
          "LA",
          "MA",
          "MD",
          "ME",
          "MS",
          "NC",
          "NH",
          "NJ",
          "NY",
          "RI",
          "SC",
          "TX",
          "VA",
          "WA"
         ],
         "xaxis": "x",
         "y": [
          15,
          366,
          37,
          120,
          680,
          14,
          46,
          55,
          37,
          19,
          25,
          284,
          7,
          354,
          128,
          14,
          94,
          76,
          75,
          13
         ],
         "yaxis": "y"
        }
       ],
       "layout": {
        "barmode": "relative",
        "legend": {
         "tracegroupgap": 0
        },
        "template": {
         "data": {
          "bar": [
           {
            "error_x": {
             "color": "#2a3f5f"
            },
            "error_y": {
             "color": "#2a3f5f"
            },
            "marker": {
             "line": {
              "color": "#E5ECF6",
              "width": 0.5
             },
             "pattern": {
              "fillmode": "overlay",
              "size": 10,
              "solidity": 0.2
             }
            },
            "type": "bar"
           }
          ],
          "barpolar": [
           {
            "marker": {
             "line": {
              "color": "#E5ECF6",
              "width": 0.5
             },
             "pattern": {
              "fillmode": "overlay",
              "size": 10,
              "solidity": 0.2
             }
            },
            "type": "barpolar"
           }
          ],
          "carpet": [
           {
            "aaxis": {
             "endlinecolor": "#2a3f5f",
             "gridcolor": "white",
             "linecolor": "white",
             "minorgridcolor": "white",
             "startlinecolor": "#2a3f5f"
            },
            "baxis": {
             "endlinecolor": "#2a3f5f",
             "gridcolor": "white",
             "linecolor": "white",
             "minorgridcolor": "white",
             "startlinecolor": "#2a3f5f"
            },
            "type": "carpet"
           }
          ],
          "choropleth": [
           {
            "colorbar": {
             "outlinewidth": 0,
             "ticks": ""
            },
            "type": "choropleth"
           }
          ],
          "contour": [
           {
            "colorbar": {
             "outlinewidth": 0,
             "ticks": ""
            },
            "colorscale": [
             [
              0,
              "#0d0887"
             ],
             [
              0.1111111111111111,
              "#46039f"
             ],
             [
              0.2222222222222222,
              "#7201a8"
             ],
             [
              0.3333333333333333,
              "#9c179e"
             ],
             [
              0.4444444444444444,
              "#bd3786"
             ],
             [
              0.5555555555555556,
              "#d8576b"
             ],
             [
              0.6666666666666666,
              "#ed7953"
             ],
             [
              0.7777777777777778,
              "#fb9f3a"
             ],
             [
              0.8888888888888888,
              "#fdca26"
             ],
             [
              1,
              "#f0f921"
             ]
            ],
            "type": "contour"
           }
          ],
          "contourcarpet": [
           {
            "colorbar": {
             "outlinewidth": 0,
             "ticks": ""
            },
            "type": "contourcarpet"
           }
          ],
          "heatmap": [
           {
            "colorbar": {
             "outlinewidth": 0,
             "ticks": ""
            },
            "colorscale": [
             [
              0,
              "#0d0887"
             ],
             [
              0.1111111111111111,
              "#46039f"
             ],
             [
              0.2222222222222222,
              "#7201a8"
             ],
             [
              0.3333333333333333,
              "#9c179e"
             ],
             [
              0.4444444444444444,
              "#bd3786"
             ],
             [
              0.5555555555555556,
              "#d8576b"
             ],
             [
              0.6666666666666666,
              "#ed7953"
             ],
             [
              0.7777777777777778,
              "#fb9f3a"
             ],
             [
              0.8888888888888888,
              "#fdca26"
             ],
             [
              1,
              "#f0f921"
             ]
            ],
            "type": "heatmap"
           }
          ],
          "heatmapgl": [
           {
            "colorbar": {
             "outlinewidth": 0,
             "ticks": ""
            },
            "colorscale": [
             [
              0,
              "#0d0887"
             ],
             [
              0.1111111111111111,
              "#46039f"
             ],
             [
              0.2222222222222222,
              "#7201a8"
             ],
             [
              0.3333333333333333,
              "#9c179e"
             ],
             [
              0.4444444444444444,
              "#bd3786"
             ],
             [
              0.5555555555555556,
              "#d8576b"
             ],
             [
              0.6666666666666666,
              "#ed7953"
             ],
             [
              0.7777777777777778,
              "#fb9f3a"
             ],
             [
              0.8888888888888888,
              "#fdca26"
             ],
             [
              1,
              "#f0f921"
             ]
            ],
            "type": "heatmapgl"
           }
          ],
          "histogram": [
           {
            "marker": {
             "pattern": {
              "fillmode": "overlay",
              "size": 10,
              "solidity": 0.2
             }
            },
            "type": "histogram"
           }
          ],
          "histogram2d": [
           {
            "colorbar": {
             "outlinewidth": 0,
             "ticks": ""
            },
            "colorscale": [
             [
              0,
              "#0d0887"
             ],
             [
              0.1111111111111111,
              "#46039f"
             ],
             [
              0.2222222222222222,
              "#7201a8"
             ],
             [
              0.3333333333333333,
              "#9c179e"
             ],
             [
              0.4444444444444444,
              "#bd3786"
             ],
             [
              0.5555555555555556,
              "#d8576b"
             ],
             [
              0.6666666666666666,
              "#ed7953"
             ],
             [
              0.7777777777777778,
              "#fb9f3a"
             ],
             [
              0.8888888888888888,
              "#fdca26"
             ],
             [
              1,
              "#f0f921"
             ]
            ],
            "type": "histogram2d"
           }
          ],
          "histogram2dcontour": [
           {
            "colorbar": {
             "outlinewidth": 0,
             "ticks": ""
            },
            "colorscale": [
             [
              0,
              "#0d0887"
             ],
             [
              0.1111111111111111,
              "#46039f"
             ],
             [
              0.2222222222222222,
              "#7201a8"
             ],
             [
              0.3333333333333333,
              "#9c179e"
             ],
             [
              0.4444444444444444,
              "#bd3786"
             ],
             [
              0.5555555555555556,
              "#d8576b"
             ],
             [
              0.6666666666666666,
              "#ed7953"
             ],
             [
              0.7777777777777778,
              "#fb9f3a"
             ],
             [
              0.8888888888888888,
              "#fdca26"
             ],
             [
              1,
              "#f0f921"
             ]
            ],
            "type": "histogram2dcontour"
           }
          ],
          "mesh3d": [
           {
            "colorbar": {
             "outlinewidth": 0,
             "ticks": ""
            },
            "type": "mesh3d"
           }
          ],
          "parcoords": [
           {
            "line": {
             "colorbar": {
              "outlinewidth": 0,
              "ticks": ""
             }
            },
            "type": "parcoords"
           }
          ],
          "pie": [
           {
            "automargin": true,
            "type": "pie"
           }
          ],
          "scatter": [
           {
            "fillpattern": {
             "fillmode": "overlay",
             "size": 10,
             "solidity": 0.2
            },
            "type": "scatter"
           }
          ],
          "scatter3d": [
           {
            "line": {
             "colorbar": {
              "outlinewidth": 0,
              "ticks": ""
             }
            },
            "marker": {
             "colorbar": {
              "outlinewidth": 0,
              "ticks": ""
             }
            },
            "type": "scatter3d"
           }
          ],
          "scattercarpet": [
           {
            "marker": {
             "colorbar": {
              "outlinewidth": 0,
              "ticks": ""
             }
            },
            "type": "scattercarpet"
           }
          ],
          "scattergeo": [
           {
            "marker": {
             "colorbar": {
              "outlinewidth": 0,
              "ticks": ""
             }
            },
            "type": "scattergeo"
           }
          ],
          "scattergl": [
           {
            "marker": {
             "colorbar": {
              "outlinewidth": 0,
              "ticks": ""
             }
            },
            "type": "scattergl"
           }
          ],
          "scattermapbox": [
           {
            "marker": {
             "colorbar": {
              "outlinewidth": 0,
              "ticks": ""
             }
            },
            "type": "scattermapbox"
           }
          ],
          "scatterpolar": [
           {
            "marker": {
             "colorbar": {
              "outlinewidth": 0,
              "ticks": ""
             }
            },
            "type": "scatterpolar"
           }
          ],
          "scatterpolargl": [
           {
            "marker": {
             "colorbar": {
              "outlinewidth": 0,
              "ticks": ""
             }
            },
            "type": "scatterpolargl"
           }
          ],
          "scatterternary": [
           {
            "marker": {
             "colorbar": {
              "outlinewidth": 0,
              "ticks": ""
             }
            },
            "type": "scatterternary"
           }
          ],
          "surface": [
           {
            "colorbar": {
             "outlinewidth": 0,
             "ticks": ""
            },
            "colorscale": [
             [
              0,
              "#0d0887"
             ],
             [
              0.1111111111111111,
              "#46039f"
             ],
             [
              0.2222222222222222,
              "#7201a8"
             ],
             [
              0.3333333333333333,
              "#9c179e"
             ],
             [
              0.4444444444444444,
              "#bd3786"
             ],
             [
              0.5555555555555556,
              "#d8576b"
             ],
             [
              0.6666666666666666,
              "#ed7953"
             ],
             [
              0.7777777777777778,
              "#fb9f3a"
             ],
             [
              0.8888888888888888,
              "#fdca26"
             ],
             [
              1,
              "#f0f921"
             ]
            ],
            "type": "surface"
           }
          ],
          "table": [
           {
            "cells": {
             "fill": {
              "color": "#EBF0F8"
             },
             "line": {
              "color": "white"
             }
            },
            "header": {
             "fill": {
              "color": "#C8D4E3"
             },
             "line": {
              "color": "white"
             }
            },
            "type": "table"
           }
          ]
         },
         "layout": {
          "annotationdefaults": {
           "arrowcolor": "#2a3f5f",
           "arrowhead": 0,
           "arrowwidth": 1
          },
          "autotypenumbers": "strict",
          "coloraxis": {
           "colorbar": {
            "outlinewidth": 0,
            "ticks": ""
           }
          },
          "colorscale": {
           "diverging": [
            [
             0,
             "#8e0152"
            ],
            [
             0.1,
             "#c51b7d"
            ],
            [
             0.2,
             "#de77ae"
            ],
            [
             0.3,
             "#f1b6da"
            ],
            [
             0.4,
             "#fde0ef"
            ],
            [
             0.5,
             "#f7f7f7"
            ],
            [
             0.6,
             "#e6f5d0"
            ],
            [
             0.7,
             "#b8e186"
            ],
            [
             0.8,
             "#7fbc41"
            ],
            [
             0.9,
             "#4d9221"
            ],
            [
             1,
             "#276419"
            ]
           ],
           "sequential": [
            [
             0,
             "#0d0887"
            ],
            [
             0.1111111111111111,
             "#46039f"
            ],
            [
             0.2222222222222222,
             "#7201a8"
            ],
            [
             0.3333333333333333,
             "#9c179e"
            ],
            [
             0.4444444444444444,
             "#bd3786"
            ],
            [
             0.5555555555555556,
             "#d8576b"
            ],
            [
             0.6666666666666666,
             "#ed7953"
            ],
            [
             0.7777777777777778,
             "#fb9f3a"
            ],
            [
             0.8888888888888888,
             "#fdca26"
            ],
            [
             1,
             "#f0f921"
            ]
           ],
           "sequentialminus": [
            [
             0,
             "#0d0887"
            ],
            [
             0.1111111111111111,
             "#46039f"
            ],
            [
             0.2222222222222222,
             "#7201a8"
            ],
            [
             0.3333333333333333,
             "#9c179e"
            ],
            [
             0.4444444444444444,
             "#bd3786"
            ],
            [
             0.5555555555555556,
             "#d8576b"
            ],
            [
             0.6666666666666666,
             "#ed7953"
            ],
            [
             0.7777777777777778,
             "#fb9f3a"
            ],
            [
             0.8888888888888888,
             "#fdca26"
            ],
            [
             1,
             "#f0f921"
            ]
           ]
          },
          "colorway": [
           "#636efa",
           "#EF553B",
           "#00cc96",
           "#ab63fa",
           "#FFA15A",
           "#19d3f3",
           "#FF6692",
           "#B6E880",
           "#FF97FF",
           "#FECB52"
          ],
          "font": {
           "color": "#2a3f5f"
          },
          "geo": {
           "bgcolor": "white",
           "lakecolor": "white",
           "landcolor": "#E5ECF6",
           "showlakes": true,
           "showland": true,
           "subunitcolor": "white"
          },
          "hoverlabel": {
           "align": "left"
          },
          "hovermode": "closest",
          "mapbox": {
           "style": "light"
          },
          "paper_bgcolor": "white",
          "plot_bgcolor": "#E5ECF6",
          "polar": {
           "angularaxis": {
            "gridcolor": "white",
            "linecolor": "white",
            "ticks": ""
           },
           "bgcolor": "#E5ECF6",
           "radialaxis": {
            "gridcolor": "white",
            "linecolor": "white",
            "ticks": ""
           }
          },
          "scene": {
           "xaxis": {
            "backgroundcolor": "#E5ECF6",
            "gridcolor": "white",
            "gridwidth": 2,
            "linecolor": "white",
            "showbackground": true,
            "ticks": "",
            "zerolinecolor": "white"
           },
           "yaxis": {
            "backgroundcolor": "#E5ECF6",
            "gridcolor": "white",
            "gridwidth": 2,
            "linecolor": "white",
            "showbackground": true,
            "ticks": "",
            "zerolinecolor": "white"
           },
           "zaxis": {
            "backgroundcolor": "#E5ECF6",
            "gridcolor": "white",
            "gridwidth": 2,
            "linecolor": "white",
            "showbackground": true,
            "ticks": "",
            "zerolinecolor": "white"
           }
          },
          "shapedefaults": {
           "line": {
            "color": "#2a3f5f"
           }
          },
          "ternary": {
           "aaxis": {
            "gridcolor": "white",
            "linecolor": "white",
            "ticks": ""
           },
           "baxis": {
            "gridcolor": "white",
            "linecolor": "white",
            "ticks": ""
           },
           "bgcolor": "#E5ECF6",
           "caxis": {
            "gridcolor": "white",
            "linecolor": "white",
            "ticks": ""
           }
          },
          "title": {
           "x": 0.05
          },
          "xaxis": {
           "automargin": true,
           "gridcolor": "white",
           "linecolor": "white",
           "ticks": "",
           "title": {
            "standoff": 15
           },
           "zerolinecolor": "white",
           "zerolinewidth": 2
          },
          "yaxis": {
           "automargin": true,
           "gridcolor": "white",
           "linecolor": "white",
           "ticks": "",
           "title": {
            "standoff": 15
           },
           "zerolinecolor": "white",
           "zerolinewidth": 2
          }
         }
        },
        "title": {
         "text": "Projects by State"
        },
        "xaxis": {
         "anchor": "y",
         "domain": [
          0,
          1
         ],
         "title": {
          "text": "State"
         }
        },
        "yaxis": {
         "anchor": "x",
         "domain": [
          0,
          1
         ],
         "title": {
          "text": "Count"
         }
        }
       }
      }
     },
     "metadata": {},
     "output_type": "display_data"
    }
   ],
   "source": [
    "\n",
    "fig = px.bar(x=count_per_state.index, y=count_per_state.values,\n",
    "             labels={'x': 'State', 'y': 'Count'},\n",
    "             title='Projects by State')\n",
    "\n",
    "fig.show()\n"
   ]
  },
  {
   "cell_type": "code",
   "execution_count": 71,
   "metadata": {},
   "outputs": [],
   "source": [
    "totals_by_year = clean_beach_data.groupby('Year Completed')['Adjusted Cost (2022)'].sum().reset_index()\n"
   ]
  },
  {
   "cell_type": "code",
   "execution_count": 72,
   "metadata": {},
   "outputs": [
    {
     "data": {
      "image/png": "[encoded data removed]",
      "text/plain": [
       "<Figure size 1200x600 with 1 Axes>"
      ]
     },
     "metadata": {},
     "output_type": "display_data"
    }
   ],
   "source": [
    "\n",
    "# Convert the 'Year Completed' column to string if it's not already, to ensure consistent tick labeling\n",
    "totals_by_year['Year Completed'] = totals_by_year['Year Completed'].astype(str)\n",
    "\n",
    "\n",
    "\n",
    "plt.figure(figsize=(12, 6))\n",
    "plt.plot(totals_by_year['Year Completed'], totals_by_year['Adjusted Cost (2022)'], marker='o', linestyle='-')\n",
    "plt.title('Adjusted Cost by Year')\n",
    "plt.xlabel('Year Completed')\n",
    "plt.ylabel('Adjusted Cost (2022) in $')\n",
    "\n",
    "# Adjust the x-axis to show ticks you want. Example: Every 5 years.\n",
    "# This assumes 'Year Completed' are already sorted.\n",
    "years = totals_by_year['Year Completed']\n",
    "# Option: Show every 5th year in the plot or adjust according to your dataset size and readability.\n",
    "plt.xticks(ticks=years[::5], labels=years[::5], rotation=45)\n",
    "\n",
    "plt.grid(True)\n",
    "plt.show()\n"
   ]
  },
  {
   "cell_type": "code",
   "execution_count": 73,
   "metadata": {},
   "outputs": [],
   "source": [
    "beach.to_excel('data/beach_data.xlsx', index=False)"
   ]
  },
  {
   "cell_type": "code",
   "execution_count": null,
   "metadata": {},
   "outputs": [],
   "source": []
  }
 ],
 "metadata": {
  "kernelspec": {
   "display_name": "env_ana",
   "language": "python",
   "name": "python3"
  },
  "language_info": {
   "codemirror_mode": {
    "name": "ipython",
    "version": 3
   },
   "file_extension": ".py",
   "mimetype": "text/x-python",
   "name": "python",
   "nbconvert_exporter": "python",
   "pygments_lexer": "ipython3",
   "version": "3.12.0"
  }
 },
 "nbformat": 4,
 "nbformat_minor": 2
}

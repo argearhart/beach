{
 "cells": [
  {
   "cell_type": "markdown",
   "metadata": {},
   "source": [
    "# US Linear Relative Sea Level Trends\n",
    "---\n",
    "This notebook takes the US Linear Relative Sea Level Tends from https://tidesandcurrents.noaa.gov/sltrends/mslUSTrendsTable.html \n",
    "The station name column is separated into two parts named station and location.  Focusing on making sure we can analyze based on locations.  "
   ]
  },
  {
   "cell_type": "code",
   "execution_count": 1,
   "metadata": {},
   "outputs": [],
   "source": [
    "import pandas as pd \n",
    "import numpy as np \n",
    "import matplotlib.pyplot as plt \n",
    "import plotly.express as px \n",
    "import seaborn as sns\n",
    "import os\n",
    "from datetime import datetime"
   ]
  },
  {
   "cell_type": "code",
   "execution_count": 2,
   "metadata": {},
   "outputs": [
    {
     "name": "stdout",
     "output_type": "stream",
     "text": [
      "   Station ID    Station Name  First Year  Last Year  Year Range  \\\n",
      "0     1611400  Nawiliwili, HI        1955       2023          69   \n",
      "1     1612340    Honolulu, HI        1905       2023         119   \n",
      "2     1612480    Mokuoloe, HI        1957       2023          67   \n",
      "3     1615680     Kahului, HI        1947       2023          77   \n",
      "4     1617433    Kawaihae, HI        1988       2023          36   \n",
      "\n",
      "   Percent Complete  MSL Trends mm per yr  plus minus CI mm yr   \\\n",
      "0               100                  1.79                  0.39   \n",
      "1               100                  1.54                  0.20   \n",
      "2                84                  1.66                  0.49   \n",
      "3                96                  2.21                  0.37   \n",
      "4                92                  3.55                  1.05   \n",
      "\n",
      "   MSL Trend ft per century  95 CI ft century  Latitude  Longitude  \n",
      "0                      0.59              0.13   21.9544  -159.3561  \n",
      "1                      0.51              0.07   21.3033  -157.8645  \n",
      "2                      0.55              0.16   21.4331  -157.7900  \n",
      "3                      0.73              0.12   20.8949  -156.4690  \n",
      "4                      1.16              0.34   20.0366  -155.8294  \n"
     ]
    }
   ],
   "source": [
    "stations = pd.read_csv('data/USStationsLinearSeaLevelTrends.csv')\n",
    "\n",
    "#Decided not to convert to datetime format\n",
    "# Convert datetime format\n",
    "#stations['First Year'] = pd.to_datetime(stations['First Year'], format='%Y')\n",
    "#stations['Last Year'] = pd.to_datetime(stations['Last Year'], format='%Y')\n",
    "       \n",
    "print(stations.head(5))"
   ]
  },
  {
   "cell_type": "code",
   "execution_count": 3,
   "metadata": {},
   "outputs": [
    {
     "name": "stdout",
     "output_type": "stream",
     "text": [
      "Index(['Station ID', 'Station Name', 'First Year', 'Last Year', 'Year Range',\n",
      "       'Percent Complete', 'MSL Trends mm per yr', 'plus minus CI mm yr ',\n",
      "       'MSL Trend ft per century', '95 CI ft century', 'Latitude',\n",
      "       'Longitude'],\n",
      "      dtype='object')\n"
     ]
    }
   ],
   "source": [
    "print(stations.columns)"
   ]
  },
  {
   "cell_type": "code",
   "execution_count": 4,
   "metadata": {},
   "outputs": [
    {
     "name": "stdout",
     "output_type": "stream",
     "text": [
      "<class 'pandas.core.frame.DataFrame'>\n",
      "RangeIndex: 145 entries, 0 to 144\n",
      "Data columns (total 12 columns):\n",
      " #   Column                    Non-Null Count  Dtype  \n",
      "---  ------                    --------------  -----  \n",
      " 0   Station ID                145 non-null    int64  \n",
      " 1   Station Name              145 non-null    object \n",
      " 2   First Year                145 non-null    int64  \n",
      " 3   Last Year                 145 non-null    int64  \n",
      " 4   Year Range                145 non-null    int64  \n",
      " 5   Percent Complete          145 non-null    int64  \n",
      " 6   MSL Trends mm per yr      145 non-null    float64\n",
      " 7   plus minus CI mm yr       145 non-null    float64\n",
      " 8   MSL Trend ft per century  145 non-null    float64\n",
      " 9   95 CI ft century          145 non-null    float64\n",
      " 10  Latitude                  145 non-null    float64\n",
      " 11  Longitude                 145 non-null    float64\n",
      "dtypes: float64(6), int64(5), object(1)\n",
      "memory usage: 13.7+ KB\n"
     ]
    }
   ],
   "source": [
    "stations.info()"
   ]
  },
  {
   "cell_type": "code",
   "execution_count": 5,
   "metadata": {},
   "outputs": [
    {
     "name": "stdout",
     "output_type": "stream",
     "text": [
      "     Station ID          Station Name  First Year  Last Year  Year Range  \\\n",
      "0       1611400        Nawiliwili, HI        1955       2023          69   \n",
      "1       1612340          Honolulu, HI        1905       2023         119   \n",
      "2       1612480          Mokuoloe, HI        1957       2023          67   \n",
      "3       1615680           Kahului, HI        1947       2023          77   \n",
      "4       1617433          Kawaihae, HI        1988       2023          36   \n",
      "..          ...                   ...         ...        ...         ...   \n",
      "140     9497645       Prudhoe Bay, AK        1988       2023          36   \n",
      "141     9751401     Lime Tree Bay, VI        1977       2023          47   \n",
      "142     9751639  Charlotte Amalie, VI        1975       2023          49   \n",
      "143     9755371          San Juan, PR        1962       2023          62   \n",
      "144     9759110   Magueyes Island, PR        1955       2023          69   \n",
      "\n",
      "     Percent Complete  MSL Trends mm per yr  plus minus CI mm yr   \\\n",
      "0                 100                  1.79                  0.39   \n",
      "1                 100                  1.54                  0.20   \n",
      "2                  84                  1.66                  0.49   \n",
      "3                  96                  2.21                  0.37   \n",
      "4                  92                  3.55                  1.05   \n",
      "..                ...                   ...                   ...   \n",
      "140                97                  3.72                  1.31   \n",
      "141                89                  2.69                  0.56   \n",
      "142                91                  2.16                  0.51   \n",
      "143                93                  2.14                  0.34   \n",
      "144                96                  2.01                  0.28   \n",
      "\n",
      "     MSL Trend ft per century  95 CI ft century  Latitude  Longitude  \n",
      "0                        0.59              0.13   21.9544  -159.3561  \n",
      "1                        0.51              0.07   21.3033  -157.8645  \n",
      "2                        0.55              0.16   21.4331  -157.7900  \n",
      "3                        0.73              0.12   20.8949  -156.4690  \n",
      "4                        1.16              0.34   20.0366  -155.8294  \n",
      "..                        ...               ...       ...        ...  \n",
      "140                      1.22              0.43   70.4114  -148.5317  \n",
      "141                      0.88              0.18   17.6947   -64.7538  \n",
      "142                      0.71              0.17   18.3306   -64.9258  \n",
      "143                      0.70              0.11   18.4589   -66.1164  \n",
      "144                      0.66              0.09   17.9701   -67.0464  \n",
      "\n",
      "[145 rows x 12 columns]\n"
     ]
    }
   ],
   "source": [
    "# Ensuring every row has at least one comma in the 'Station Name' column\n",
    "stations['Station Name'] = stations['Station Name'].apply(lambda x: x if ',' in x else x + ', Unknown')\n",
    "print(stations)"
   ]
  },
  {
   "cell_type": "code",
   "execution_count": 6,
   "metadata": {},
   "outputs": [
    {
     "name": "stdout",
     "output_type": "stream",
     "text": [
      "     Station ID          Station Name  First Year  Last Year  Year Range  \\\n",
      "0       1611400        Nawiliwili, HI        1955       2023          69   \n",
      "1       1612340          Honolulu, HI        1905       2023         119   \n",
      "2       1612480          Mokuoloe, HI        1957       2023          67   \n",
      "3       1615680           Kahului, HI        1947       2023          77   \n",
      "4       1617433          Kawaihae, HI        1988       2023          36   \n",
      "..          ...                   ...         ...        ...         ...   \n",
      "140     9497645       Prudhoe Bay, AK        1988       2023          36   \n",
      "141     9751401     Lime Tree Bay, VI        1977       2023          47   \n",
      "142     9751639  Charlotte Amalie, VI        1975       2023          49   \n",
      "143     9755371          San Juan, PR        1962       2023          62   \n",
      "144     9759110   Magueyes Island, PR        1955       2023          69   \n",
      "\n",
      "     Percent Complete  MSL Trends mm per yr  plus minus CI mm yr   \\\n",
      "0                 100                  1.79                  0.39   \n",
      "1                 100                  1.54                  0.20   \n",
      "2                  84                  1.66                  0.49   \n",
      "3                  96                  2.21                  0.37   \n",
      "4                  92                  3.55                  1.05   \n",
      "..                ...                   ...                   ...   \n",
      "140                97                  3.72                  1.31   \n",
      "141                89                  2.69                  0.56   \n",
      "142                91                  2.16                  0.51   \n",
      "143                93                  2.14                  0.34   \n",
      "144                96                  2.01                  0.28   \n",
      "\n",
      "     MSL Trend ft per century  95 CI ft century  Latitude  Longitude  \\\n",
      "0                        0.59              0.13   21.9544  -159.3561   \n",
      "1                        0.51              0.07   21.3033  -157.8645   \n",
      "2                        0.55              0.16   21.4331  -157.7900   \n",
      "3                        0.73              0.12   20.8949  -156.4690   \n",
      "4                        1.16              0.34   20.0366  -155.8294   \n",
      "..                        ...               ...       ...        ...   \n",
      "140                      1.22              0.43   70.4114  -148.5317   \n",
      "141                      0.88              0.18   17.6947   -64.7538   \n",
      "142                      0.71              0.17   18.3306   -64.9258   \n",
      "143                      0.70              0.11   18.4589   -66.1164   \n",
      "144                      0.66              0.09   17.9701   -67.0464   \n",
      "\n",
      "                 City State  \n",
      "0          Nawiliwili    HI  \n",
      "1            Honolulu    HI  \n",
      "2            Mokuoloe    HI  \n",
      "3             Kahului    HI  \n",
      "4            Kawaihae    HI  \n",
      "..                ...   ...  \n",
      "140       Prudhoe Bay    AK  \n",
      "141     Lime Tree Bay    VI  \n",
      "142  Charlotte Amalie    VI  \n",
      "143          San Juan    PR  \n",
      "144   Magueyes Island    PR  \n",
      "\n",
      "[145 rows x 14 columns]\n"
     ]
    }
   ],
   "source": [
    "split_columns = stations['Station Name'].str.split(',', n=1, expand=True)\n",
    "\n",
    "# Check if the split resulted in one or two columns and handle accordingly\n",
    "if len(split_columns.columns) == 1:\n",
    "    # Only one column means no commas were found; you can choose how to handle this.\n",
    "    # For example, assign the entire value to 'City' and set 'State' as None.\n",
    "    stations['City'] = split_columns[0]\n",
    "    stations['State'] = None\n",
    "else:\n",
    "    # Assign the split columns to 'City' and 'State'\n",
    "    stations['City'], stations['State'] = split_columns[0], split_columns[1]\n",
    "\n",
    "# Optionally, handle missing or cleanup tasks here (e.g., strip whitespace)\n",
    "stations['City'] = stations['City'].str.strip()\n",
    "stations['State'] = stations['State'].str.strip()\n",
    "\n",
    "print(stations)"
   ]
  },
  {
   "cell_type": "code",
   "execution_count": 7,
   "metadata": {},
   "outputs": [
    {
     "name": "stdout",
     "output_type": "stream",
     "text": [
      "<class 'pandas.core.frame.DataFrame'>\n",
      "RangeIndex: 145 entries, 0 to 144\n",
      "Data columns (total 14 columns):\n",
      " #   Column                    Non-Null Count  Dtype  \n",
      "---  ------                    --------------  -----  \n",
      " 0   Station ID                145 non-null    int64  \n",
      " 1   Station Name              145 non-null    object \n",
      " 2   First Year                145 non-null    int64  \n",
      " 3   Last Year                 145 non-null    int64  \n",
      " 4   Year Range                145 non-null    int64  \n",
      " 5   Percent Complete          145 non-null    int64  \n",
      " 6   MSL Trends mm per yr      145 non-null    float64\n",
      " 7   plus minus CI mm yr       145 non-null    float64\n",
      " 8   MSL Trend ft per century  145 non-null    float64\n",
      " 9   95 CI ft century          145 non-null    float64\n",
      " 10  Latitude                  145 non-null    float64\n",
      " 11  Longitude                 145 non-null    float64\n",
      " 12  City                      145 non-null    object \n",
      " 13  State                     145 non-null    object \n",
      "dtypes: float64(6), int64(5), object(3)\n",
      "memory usage: 16.0+ KB\n"
     ]
    }
   ],
   "source": [
    "stations.info()"
   ]
  },
  {
   "cell_type": "code",
   "execution_count": 8,
   "metadata": {},
   "outputs": [
    {
     "data": {
      "text/html": [
       "<div>\n",
       "<style scoped>\n",
       "    .dataframe tbody tr th:only-of-type {\n",
       "        vertical-align: middle;\n",
       "    }\n",
       "\n",
       "    .dataframe tbody tr th {\n",
       "        vertical-align: top;\n",
       "    }\n",
       "\n",
       "    .dataframe thead th {\n",
       "        text-align: right;\n",
       "    }\n",
       "</style>\n",
       "<table border=\"1\" class=\"dataframe\">\n",
       "  <thead>\n",
       "    <tr style=\"text-align: right;\">\n",
       "      <th></th>\n",
       "      <th>Station ID</th>\n",
       "      <th>First Year</th>\n",
       "      <th>Last Year</th>\n",
       "      <th>Year Range</th>\n",
       "      <th>Percent Complete</th>\n",
       "      <th>MSL Trends mm per yr</th>\n",
       "      <th>plus minus CI mm yr</th>\n",
       "      <th>MSL Trend ft per century</th>\n",
       "      <th>95 CI ft century</th>\n",
       "      <th>Latitude</th>\n",
       "      <th>Longitude</th>\n",
       "    </tr>\n",
       "  </thead>\n",
       "  <tbody>\n",
       "    <tr>\n",
       "      <th>count</th>\n",
       "      <td>1.450000e+02</td>\n",
       "      <td>145.000000</td>\n",
       "      <td>145.000000</td>\n",
       "      <td>145.000000</td>\n",
       "      <td>145.000000</td>\n",
       "      <td>145.000000</td>\n",
       "      <td>145.000000</td>\n",
       "      <td>145.000000</td>\n",
       "      <td>145.000000</td>\n",
       "      <td>145.000000</td>\n",
       "      <td>145.000000</td>\n",
       "    </tr>\n",
       "    <tr>\n",
       "      <th>mean</th>\n",
       "      <td>8.306193e+06</td>\n",
       "      <td>1952.565517</td>\n",
       "      <td>2022.606897</td>\n",
       "      <td>70.917241</td>\n",
       "      <td>89.937931</td>\n",
       "      <td>2.363724</td>\n",
       "      <td>0.542621</td>\n",
       "      <td>0.775655</td>\n",
       "      <td>0.177862</td>\n",
       "      <td>36.943835</td>\n",
       "      <td>-95.736030</td>\n",
       "    </tr>\n",
       "    <tr>\n",
       "      <th>std</th>\n",
       "      <td>2.080343e+06</td>\n",
       "      <td>26.358852</td>\n",
       "      <td>1.980097</td>\n",
       "      <td>26.565564</td>\n",
       "      <td>13.516050</td>\n",
       "      <td>4.033597</td>\n",
       "      <td>0.415129</td>\n",
       "      <td>1.323432</td>\n",
       "      <td>0.135985</td>\n",
       "      <td>12.092958</td>\n",
       "      <td>48.340606</td>\n",
       "    </tr>\n",
       "    <tr>\n",
       "      <th>min</th>\n",
       "      <td>1.611400e+06</td>\n",
       "      <td>1856.000000</td>\n",
       "      <td>2009.000000</td>\n",
       "      <td>30.000000</td>\n",
       "      <td>42.000000</td>\n",
       "      <td>-18.040000</td>\n",
       "      <td>0.090000</td>\n",
       "      <td>-5.920000</td>\n",
       "      <td>0.030000</td>\n",
       "      <td>-14.280000</td>\n",
       "      <td>-177.360000</td>\n",
       "    </tr>\n",
       "    <tr>\n",
       "      <th>25%</th>\n",
       "      <td>8.570283e+06</td>\n",
       "      <td>1932.000000</td>\n",
       "      <td>2023.000000</td>\n",
       "      <td>51.000000</td>\n",
       "      <td>88.000000</td>\n",
       "      <td>1.830000</td>\n",
       "      <td>0.240000</td>\n",
       "      <td>0.600000</td>\n",
       "      <td>0.080000</td>\n",
       "      <td>29.357500</td>\n",
       "      <td>-123.440000</td>\n",
       "    </tr>\n",
       "    <tr>\n",
       "      <th>50%</th>\n",
       "      <td>8.726724e+06</td>\n",
       "      <td>1957.000000</td>\n",
       "      <td>2023.000000</td>\n",
       "      <td>66.000000</td>\n",
       "      <td>96.000000</td>\n",
       "      <td>2.940000</td>\n",
       "      <td>0.450000</td>\n",
       "      <td>0.960000</td>\n",
       "      <td>0.150000</td>\n",
       "      <td>37.506800</td>\n",
       "      <td>-85.878600</td>\n",
       "    </tr>\n",
       "    <tr>\n",
       "      <th>75%</th>\n",
       "      <td>9.416841e+06</td>\n",
       "      <td>1973.000000</td>\n",
       "      <td>2023.000000</td>\n",
       "      <td>91.000000</td>\n",
       "      <td>99.000000</td>\n",
       "      <td>4.210000</td>\n",
       "      <td>0.690000</td>\n",
       "      <td>1.380000</td>\n",
       "      <td>0.230000</td>\n",
       "      <td>42.353900</td>\n",
       "      <td>-75.810000</td>\n",
       "    </tr>\n",
       "    <tr>\n",
       "      <th>max</th>\n",
       "      <td>9.759110e+06</td>\n",
       "      <td>1994.000000</td>\n",
       "      <td>2023.000000</td>\n",
       "      <td>168.000000</td>\n",
       "      <td>100.000000</td>\n",
       "      <td>12.930000</td>\n",
       "      <td>3.140000</td>\n",
       "      <td>4.240000</td>\n",
       "      <td>1.030000</td>\n",
       "      <td>70.411400</td>\n",
       "      <td>167.736100</td>\n",
       "    </tr>\n",
       "  </tbody>\n",
       "</table>\n",
       "</div>"
      ],
      "text/plain": [
       "         Station ID   First Year    Last Year  Year Range  Percent Complete  \\\n",
       "count  1.450000e+02   145.000000   145.000000  145.000000        145.000000   \n",
       "mean   8.306193e+06  1952.565517  2022.606897   70.917241         89.937931   \n",
       "std    2.080343e+06    26.358852     1.980097   26.565564         13.516050   \n",
       "min    1.611400e+06  1856.000000  2009.000000   30.000000         42.000000   \n",
       "25%    8.570283e+06  1932.000000  2023.000000   51.000000         88.000000   \n",
       "50%    8.726724e+06  1957.000000  2023.000000   66.000000         96.000000   \n",
       "75%    9.416841e+06  1973.000000  2023.000000   91.000000         99.000000   \n",
       "max    9.759110e+06  1994.000000  2023.000000  168.000000        100.000000   \n",
       "\n",
       "       MSL Trends mm per yr  plus minus CI mm yr   MSL Trend ft per century  \\\n",
       "count            145.000000            145.000000                145.000000   \n",
       "mean               2.363724              0.542621                  0.775655   \n",
       "std                4.033597              0.415129                  1.323432   \n",
       "min              -18.040000              0.090000                 -5.920000   \n",
       "25%                1.830000              0.240000                  0.600000   \n",
       "50%                2.940000              0.450000                  0.960000   \n",
       "75%                4.210000              0.690000                  1.380000   \n",
       "max               12.930000              3.140000                  4.240000   \n",
       "\n",
       "       95 CI ft century    Latitude   Longitude  \n",
       "count        145.000000  145.000000  145.000000  \n",
       "mean           0.177862   36.943835  -95.736030  \n",
       "std            0.135985   12.092958   48.340606  \n",
       "min            0.030000  -14.280000 -177.360000  \n",
       "25%            0.080000   29.357500 -123.440000  \n",
       "50%            0.150000   37.506800  -85.878600  \n",
       "75%            0.230000   42.353900  -75.810000  \n",
       "max            1.030000   70.411400  167.736100  "
      ]
     },
     "execution_count": 8,
     "metadata": {},
     "output_type": "execute_result"
    }
   ],
   "source": [
    "stations.describe()"
   ]
  },
  {
   "cell_type": "code",
   "execution_count": 9,
   "metadata": {},
   "outputs": [
    {
     "name": "stdout",
     "output_type": "stream",
     "text": [
      "               State  MSL Trends mm per yr\n",
      "0                 AK             -4.844444\n",
      "1                 AL              4.630000\n",
      "2     American Samoa              2.480000\n",
      "3            Bermuda              2.215000\n",
      "4                 CA              1.726667\n",
      "5                 CT              3.100000\n",
      "6                 DC              3.490000\n",
      "7                 DE              3.800000\n",
      "8                 FL              3.768333\n",
      "9                 GA              3.610000\n",
      "10              Guam              4.530000\n",
      "11                HI              2.310000\n",
      "12                LA              7.660000\n",
      "13                MA              3.340000\n",
      "14                MD              4.097143\n",
      "15                ME              2.228000\n",
      "16                MS              4.700000\n",
      "17  Marshall Islands              2.060000\n",
      "18                NC              4.180000\n",
      "19                NH              2.040000\n",
      "20                NJ              4.476667\n",
      "21                NY              3.432500\n",
      "22                OR              1.040000\n",
      "23                PA              3.110000\n",
      "24                PR              2.075000\n",
      "25     Pacific Ocean              2.070000\n",
      "26                RI              2.740000\n",
      "27                SC              3.385000\n",
      "28                TX              5.841538\n",
      "29           Unknown              1.560000\n",
      "30                VA              5.504444\n",
      "31                VI              2.425000\n",
      "32                WA              0.605714\n"
     ]
    }
   ],
   "source": [
    "avg_by_state = stations.groupby('State')['MSL Trends mm per yr'].mean()\n",
    "avg_by_state = avg_by_state.reset_index()\n",
    "print(avg_by_state)"
   ]
  },
  {
   "cell_type": "code",
   "execution_count": 10,
   "metadata": {},
   "outputs": [
    {
     "name": "stdout",
     "output_type": "stream",
     "text": [
      "     Station ID          Station Name  First Year  Last Year  Year Range  \\\n",
      "0       1611400        Nawiliwili, HI        1955       2023          69   \n",
      "1       1612340          Honolulu, HI        1905       2023         119   \n",
      "2       1612480          Mokuoloe, HI        1957       2023          67   \n",
      "3       1615680           Kahului, HI        1947       2023          77   \n",
      "4       1617433          Kawaihae, HI        1988       2023          36   \n",
      "..          ...                   ...         ...        ...         ...   \n",
      "140     9497645       Prudhoe Bay, AK        1988       2023          36   \n",
      "141     9751401     Lime Tree Bay, VI        1977       2023          47   \n",
      "142     9751639  Charlotte Amalie, VI        1975       2023          49   \n",
      "143     9755371          San Juan, PR        1962       2023          62   \n",
      "144     9759110   Magueyes Island, PR        1955       2023          69   \n",
      "\n",
      "     Percent Complete  MSL Trends mm per yr  plus minus CI mm yr   \\\n",
      "0                 100                  1.79                  0.39   \n",
      "1                 100                  1.54                  0.20   \n",
      "2                  84                  1.66                  0.49   \n",
      "3                  96                  2.21                  0.37   \n",
      "4                  92                  3.55                  1.05   \n",
      "..                ...                   ...                   ...   \n",
      "140                97                  3.72                  1.31   \n",
      "141                89                  2.69                  0.56   \n",
      "142                91                  2.16                  0.51   \n",
      "143                93                  2.14                  0.34   \n",
      "144                96                  2.01                  0.28   \n",
      "\n",
      "     MSL Trend ft per century  95 CI ft century  Latitude  Longitude  \\\n",
      "0                        0.59              0.13   21.9544  -159.3561   \n",
      "1                        0.51              0.07   21.3033  -157.8645   \n",
      "2                        0.55              0.16   21.4331  -157.7900   \n",
      "3                        0.73              0.12   20.8949  -156.4690   \n",
      "4                        1.16              0.34   20.0366  -155.8294   \n",
      "..                        ...               ...       ...        ...   \n",
      "140                      1.22              0.43   70.4114  -148.5317   \n",
      "141                      0.88              0.18   17.6947   -64.7538   \n",
      "142                      0.71              0.17   18.3306   -64.9258   \n",
      "143                      0.70              0.11   18.4589   -66.1164   \n",
      "144                      0.66              0.09   17.9701   -67.0464   \n",
      "\n",
      "                 City State      Region  \n",
      "0          Nawiliwili    HI      Island  \n",
      "1            Honolulu    HI      Island  \n",
      "2            Mokuoloe    HI      Island  \n",
      "3             Kahului    HI      Island  \n",
      "4            Kawaihae    HI      Island  \n",
      "..                ...   ...         ...  \n",
      "140       Prudhoe Bay    AK  West Coast  \n",
      "141     Lime Tree Bay    VI       Other  \n",
      "142  Charlotte Amalie    VI       Other  \n",
      "143          San Juan    PR      Island  \n",
      "144   Magueyes Island    PR      Island  \n",
      "\n",
      "[145 rows x 15 columns]\n"
     ]
    }
   ],
   "source": [
    "from categorizeregion import add_region_column\n",
    "\n",
    "stations = add_region_column(stations)\n",
    "print(stations)\n",
    "\n",
    "stations.to_excel('data/usstations.xlsx', index=False)"
   ]
  },
  {
   "cell_type": "code",
   "execution_count": 11,
   "metadata": {},
   "outputs": [
    {
     "data": {
      "image/png": "[encoded data removed]",
      "text/plain": [
       "<Figure size 1000x1000 with 1 Axes>"
      ]
     },
     "metadata": {},
     "output_type": "display_data"
    }
   ],
   "source": [
    "# Create a bar chart\n",
    "plt.figure(figsize=(10, 10))  \n",
    "plt.bar(avg_by_state['State'], avg_by_state['MSL Trends mm per yr'], color='skyblue')\n",
    "plt.xlabel('State')  \n",
    "plt.ylabel('Mean Sea Level Trend (mm per year)') \n",
    "plt.title('Mean Sea Level Trends by State')  \n",
    "plt.xticks(rotation=45)  # Rotate state names for better visibility\n",
    "plt.tight_layout()  # Adjust the layout to make sure everything fits without overlapping\n",
    "\n",
    "\n",
    "\n",
    "plt.savefig('images/sea_level_trends_by_state.png', dpi=300)\n",
    "\n",
    "# Show the plot\n",
    "plt.show()"
   ]
  },
  {
   "cell_type": "code",
   "execution_count": 12,
   "metadata": {},
   "outputs": [
    {
     "data": {
      "image/png": "[encoded data removed]",
      "text/plain": [
       "<Figure size 1000x600 with 1 Axes>"
      ]
     },
     "metadata": {},
     "output_type": "display_data"
    }
   ],
   "source": [
    "# Create the box plot\n",
    "plt.figure(figsize=(10, 6))\n",
    "sns.boxplot(x='Region', y='MSL Trends mm per yr', data=stations)\n",
    "\n",
    "plt.title('Sea Level Trends by Region')\n",
    "plt.xlabel('Region')\n",
    "plt.ylabel('MSL Trends (mm per year)')\n",
    "\n",
    "plt.savefig('images/sea_level_trends_gulf.png', dpi=300)\n",
    "\n",
    "plt.show()"
   ]
  },
  {
   "cell_type": "code",
   "execution_count": 13,
   "metadata": {},
   "outputs": [
    {
     "name": "stdout",
     "output_type": "stream",
     "text": [
      "     Station ID          Station Name  First Year  Last Year  Year Range  \\\n",
      "0       1611400        Nawiliwili, HI        1955       2023          69   \n",
      "1       1612340          Honolulu, HI        1905       2023         119   \n",
      "2       1612480          Mokuoloe, HI        1957       2023          67   \n",
      "3       1615680           Kahului, HI        1947       2023          77   \n",
      "4       1617433          Kawaihae, HI        1988       2023          36   \n",
      "..          ...                   ...         ...        ...         ...   \n",
      "140     9497645       Prudhoe Bay, AK        1988       2023          36   \n",
      "141     9751401     Lime Tree Bay, VI        1977       2023          47   \n",
      "142     9751639  Charlotte Amalie, VI        1975       2023          49   \n",
      "143     9755371          San Juan, PR        1962       2023          62   \n",
      "144     9759110   Magueyes Island, PR        1955       2023          69   \n",
      "\n",
      "     Percent Complete  MSL Trends mm per yr  plus minus CI mm yr   \\\n",
      "0                 100                  1.79                  0.39   \n",
      "1                 100                  1.54                  0.20   \n",
      "2                  84                  1.66                  0.49   \n",
      "3                  96                  2.21                  0.37   \n",
      "4                  92                  3.55                  1.05   \n",
      "..                ...                   ...                   ...   \n",
      "140                97                  3.72                  1.31   \n",
      "141                89                  2.69                  0.56   \n",
      "142                91                  2.16                  0.51   \n",
      "143                93                  2.14                  0.34   \n",
      "144                96                  2.01                  0.28   \n",
      "\n",
      "     MSL Trend ft per century  95 CI ft century  Latitude  Longitude  \\\n",
      "0                        0.59              0.13   21.9544  -159.3561   \n",
      "1                        0.51              0.07   21.3033  -157.8645   \n",
      "2                        0.55              0.16   21.4331  -157.7900   \n",
      "3                        0.73              0.12   20.8949  -156.4690   \n",
      "4                        1.16              0.34   20.0366  -155.8294   \n",
      "..                        ...               ...       ...        ...   \n",
      "140                      1.22              0.43   70.4114  -148.5317   \n",
      "141                      0.88              0.18   17.6947   -64.7538   \n",
      "142                      0.71              0.17   18.3306   -64.9258   \n",
      "143                      0.70              0.11   18.4589   -66.1164   \n",
      "144                      0.66              0.09   17.9701   -67.0464   \n",
      "\n",
      "                 City State      Region  Overall Change mm  \n",
      "0          Nawiliwili    HI      Island             123.51  \n",
      "1            Honolulu    HI      Island             183.26  \n",
      "2            Mokuoloe    HI      Island             111.22  \n",
      "3             Kahului    HI      Island             170.17  \n",
      "4            Kawaihae    HI      Island             127.80  \n",
      "..                ...   ...         ...                ...  \n",
      "140       Prudhoe Bay    AK  West Coast             133.92  \n",
      "141     Lime Tree Bay    VI       Other             126.43  \n",
      "142  Charlotte Amalie    VI       Other             105.84  \n",
      "143          San Juan    PR      Island             132.68  \n",
      "144   Magueyes Island    PR      Island             138.69  \n",
      "\n",
      "[145 rows x 16 columns]\n"
     ]
    }
   ],
   "source": [
    "def calculate_overall_change(row):\n",
    "   overall_change = row['Year Range'] * row['MSL Trends mm per yr']\n",
    "   return overall_change\n",
    "\n",
    "# Apply the function to each row of your DataFrame\n",
    "stations['Overall Change mm'] = stations.apply(calculate_overall_change, axis=1)\n",
    "print(stations)\n"
   ]
  },
  {
   "cell_type": "code",
   "execution_count": 14,
   "metadata": {},
   "outputs": [
    {
     "name": "stdout",
     "output_type": "stream",
     "text": [
      "       Region  Overall Change mm\n",
      "0  East Coast         287.681064\n",
      "1  Gulf Coast         293.447222\n",
      "2      Island         167.369091\n",
      "3       Other         134.543333\n",
      "4  West Coast         -72.384889\n"
     ]
    }
   ],
   "source": [
    "avg_change_by_region = stations.groupby('Region')['Overall Change mm'].mean().reset_index()\n",
    "\n",
    "print(avg_change_by_region)\n"
   ]
  },
  {
   "cell_type": "code",
   "execution_count": 15,
   "metadata": {},
   "outputs": [
    {
     "data": {
      "application/vnd.plotly.v1+json": {
       "config": {
        "plotlyServerURL": "https://plot.ly"
       },
       "data": [
        {
         "alignmentgroup": "True",
         "hovertemplate": "Region=%{x}<br>Average Overall Change (mm)=%{marker.color}<extra></extra>",
         "legendgroup": "",
         "marker": {
          "color": [
           287.68106382978726,
           293.44722222222225,
           167.36909090909091,
           134.54333333333332,
           -72.38488888888888
          ],
          "coloraxis": "coloraxis",
          "pattern": {
           "shape": ""
          }
         },
         "name": "",
         "offsetgroup": "",
         "orientation": "v",
         "showlegend": false,
         "textposition": "auto",
         "type": "bar",
         "x": [
          "East Coast",
          "Gulf Coast",
          "Island",
          "Other",
          "West Coast"
         ],
         "xaxis": "x",
         "y": [
          287.68106382978726,
          293.44722222222225,
          167.36909090909091,
          134.54333333333332,
          -72.38488888888888
         ],
         "yaxis": "y"
        }
       ],
       "layout": {
        "barmode": "group",
        "coloraxis": {
         "colorbar": {
          "title": {
           "text": "Average Overall Change (mm)"
          }
         },
         "colorscale": [
          [
           0,
           "#0d0887"
          ],
          [
           0.1111111111111111,
           "#46039f"
          ],
          [
           0.2222222222222222,
           "#7201a8"
          ],
          [
           0.3333333333333333,
           "#9c179e"
          ],
          [
           0.4444444444444444,
           "#bd3786"
          ],
          [
           0.5555555555555556,
           "#d8576b"
          ],
          [
           0.6666666666666666,
           "#ed7953"
          ],
          [
           0.7777777777777778,
           "#fb9f3a"
          ],
          [
           0.8888888888888888,
           "#fdca26"
          ],
          [
           1,
           "#f0f921"
          ]
         ]
        },
        "legend": {
         "tracegroupgap": 0
        },
        "template": {
         "data": {
          "bar": [
           {
            "error_x": {
             "color": "#2a3f5f"
            },
            "error_y": {
             "color": "#2a3f5f"
            },
            "marker": {
             "line": {
              "color": "#E5ECF6",
              "width": 0.5
             },
             "pattern": {
              "fillmode": "overlay",
              "size": 10,
              "solidity": 0.2
             }
            },
            "type": "bar"
           }
          ],
          "barpolar": [
           {
            "marker": {
             "line": {
              "color": "#E5ECF6",
              "width": 0.5
             },
             "pattern": {
              "fillmode": "overlay",
              "size": 10,
              "solidity": 0.2
             }
            },
            "type": "barpolar"
           }
          ],
          "carpet": [
           {
            "aaxis": {
             "endlinecolor": "#2a3f5f",
             "gridcolor": "white",
             "linecolor": "white",
             "minorgridcolor": "white",
             "startlinecolor": "#2a3f5f"
            },
            "baxis": {
             "endlinecolor": "#2a3f5f",
             "gridcolor": "white",
             "linecolor": "white",
             "minorgridcolor": "white",
             "startlinecolor": "#2a3f5f"
            },
            "type": "carpet"
           }
          ],
          "choropleth": [
           {
            "colorbar": {
             "outlinewidth": 0,
             "ticks": ""
            },
            "type": "choropleth"
           }
          ],
          "contour": [
           {
            "colorbar": {
             "outlinewidth": 0,
             "ticks": ""
            },
            "colorscale": [
             [
              0,
              "#0d0887"
             ],
             [
              0.1111111111111111,
              "#46039f"
             ],
             [
              0.2222222222222222,
              "#7201a8"
             ],
             [
              0.3333333333333333,
              "#9c179e"
             ],
             [
              0.4444444444444444,
              "#bd3786"
             ],
             [
              0.5555555555555556,
              "#d8576b"
             ],
             [
              0.6666666666666666,
              "#ed7953"
             ],
             [
              0.7777777777777778,
              "#fb9f3a"
             ],
             [
              0.8888888888888888,
              "#fdca26"
             ],
             [
              1,
              "#f0f921"
             ]
            ],
            "type": "contour"
           }
          ],
          "contourcarpet": [
           {
            "colorbar": {
             "outlinewidth": 0,
             "ticks": ""
            },
            "type": "contourcarpet"
           }
          ],
          "heatmap": [
           {
            "colorbar": {
             "outlinewidth": 0,
             "ticks": ""
            },
            "colorscale": [
             [
              0,
              "#0d0887"
             ],
             [
              0.1111111111111111,
              "#46039f"
             ],
             [
              0.2222222222222222,
              "#7201a8"
             ],
             [
              0.3333333333333333,
              "#9c179e"
             ],
             [
              0.4444444444444444,
              "#bd3786"
             ],
             [
              0.5555555555555556,
              "#d8576b"
             ],
             [
              0.6666666666666666,
              "#ed7953"
             ],
             [
              0.7777777777777778,
              "#fb9f3a"
             ],
             [
              0.8888888888888888,
              "#fdca26"
             ],
             [
              1,
              "#f0f921"
             ]
            ],
            "type": "heatmap"
           }
          ],
          "heatmapgl": [
           {
            "colorbar": {
             "outlinewidth": 0,
             "ticks": ""
            },
            "colorscale": [
             [
              0,
              "#0d0887"
             ],
             [
              0.1111111111111111,
              "#46039f"
             ],
             [
              0.2222222222222222,
              "#7201a8"
             ],
             [
              0.3333333333333333,
              "#9c179e"
             ],
             [
              0.4444444444444444,
              "#bd3786"
             ],
             [
              0.5555555555555556,
              "#d8576b"
             ],
             [
              0.6666666666666666,
              "#ed7953"
             ],
             [
              0.7777777777777778,
              "#fb9f3a"
             ],
             [
              0.8888888888888888,
              "#fdca26"
             ],
             [
              1,
              "#f0f921"
             ]
            ],
            "type": "heatmapgl"
           }
          ],
          "histogram": [
           {
            "marker": {
             "pattern": {
              "fillmode": "overlay",
              "size": 10,
              "solidity": 0.2
             }
            },
            "type": "histogram"
           }
          ],
          "histogram2d": [
           {
            "colorbar": {
             "outlinewidth": 0,
             "ticks": ""
            },
            "colorscale": [
             [
              0,
              "#0d0887"
             ],
             [
              0.1111111111111111,
              "#46039f"
             ],
             [
              0.2222222222222222,
              "#7201a8"
             ],
             [
              0.3333333333333333,
              "#9c179e"
             ],
             [
              0.4444444444444444,
              "#bd3786"
             ],
             [
              0.5555555555555556,
              "#d8576b"
             ],
             [
              0.6666666666666666,
              "#ed7953"
             ],
             [
              0.7777777777777778,
              "#fb9f3a"
             ],
             [
              0.8888888888888888,
              "#fdca26"
             ],
             [
              1,
              "#f0f921"
             ]
            ],
            "type": "histogram2d"
           }
          ],
          "histogram2dcontour": [
           {
            "colorbar": {
             "outlinewidth": 0,
             "ticks": ""
            },
            "colorscale": [
             [
              0,
              "#0d0887"
             ],
             [
              0.1111111111111111,
              "#46039f"
             ],
             [
              0.2222222222222222,
              "#7201a8"
             ],
             [
              0.3333333333333333,
              "#9c179e"
             ],
             [
              0.4444444444444444,
              "#bd3786"
             ],
             [
              0.5555555555555556,
              "#d8576b"
             ],
             [
              0.6666666666666666,
              "#ed7953"
             ],
             [
              0.7777777777777778,
              "#fb9f3a"
             ],
             [
              0.8888888888888888,
              "#fdca26"
             ],
             [
              1,
              "#f0f921"
             ]
            ],
            "type": "histogram2dcontour"
           }
          ],
          "mesh3d": [
           {
            "colorbar": {
             "outlinewidth": 0,
             "ticks": ""
            },
            "type": "mesh3d"
           }
          ],
          "parcoords": [
           {
            "line": {
             "colorbar": {
              "outlinewidth": 0,
              "ticks": ""
             }
            },
            "type": "parcoords"
           }
          ],
          "pie": [
           {
            "automargin": true,
            "type": "pie"
           }
          ],
          "scatter": [
           {
            "fillpattern": {
             "fillmode": "overlay",
             "size": 10,
             "solidity": 0.2
            },
            "type": "scatter"
           }
          ],
          "scatter3d": [
           {
            "line": {
             "colorbar": {
              "outlinewidth": 0,
              "ticks": ""
             }
            },
            "marker": {
             "colorbar": {
              "outlinewidth": 0,
              "ticks": ""
             }
            },
            "type": "scatter3d"
           }
          ],
          "scattercarpet": [
           {
            "marker": {
             "colorbar": {
              "outlinewidth": 0,
              "ticks": ""
             }
            },
            "type": "scattercarpet"
           }
          ],
          "scattergeo": [
           {
            "marker": {
             "colorbar": {
              "outlinewidth": 0,
              "ticks": ""
             }
            },
            "type": "scattergeo"
           }
          ],
          "scattergl": [
           {
            "marker": {
             "colorbar": {
              "outlinewidth": 0,
              "ticks": ""
             }
            },
            "type": "scattergl"
           }
          ],
          "scattermapbox": [
           {
            "marker": {
             "colorbar": {
              "outlinewidth": 0,
              "ticks": ""
             }
            },
            "type": "scattermapbox"
           }
          ],
          "scatterpolar": [
           {
            "marker": {
             "colorbar": {
              "outlinewidth": 0,
              "ticks": ""
             }
            },
            "type": "scatterpolar"
           }
          ],
          "scatterpolargl": [
           {
            "marker": {
             "colorbar": {
              "outlinewidth": 0,
              "ticks": ""
             }
            },
            "type": "scatterpolargl"
           }
          ],
          "scatterternary": [
           {
            "marker": {
             "colorbar": {
              "outlinewidth": 0,
              "ticks": ""
             }
            },
            "type": "scatterternary"
           }
          ],
          "surface": [
           {
            "colorbar": {
             "outlinewidth": 0,
             "ticks": ""
            },
            "colorscale": [
             [
              0,
              "#0d0887"
             ],
             [
              0.1111111111111111,
              "#46039f"
             ],
             [
              0.2222222222222222,
              "#7201a8"
             ],
             [
              0.3333333333333333,
              "#9c179e"
             ],
             [
              0.4444444444444444,
              "#bd3786"
             ],
             [
              0.5555555555555556,
              "#d8576b"
             ],
             [
              0.6666666666666666,
              "#ed7953"
             ],
             [
              0.7777777777777778,
              "#fb9f3a"
             ],
             [
              0.8888888888888888,
              "#fdca26"
             ],
             [
              1,
              "#f0f921"
             ]
            ],
            "type": "surface"
           }
          ],
          "table": [
           {
            "cells": {
             "fill": {
              "color": "#EBF0F8"
             },
             "line": {
              "color": "white"
             }
            },
            "header": {
             "fill": {
              "color": "#C8D4E3"
             },
             "line": {
              "color": "white"
             }
            },
            "type": "table"
           }
          ]
         },
         "layout": {
          "annotationdefaults": {
           "arrowcolor": "#2a3f5f",
           "arrowhead": 0,
           "arrowwidth": 1
          },
          "autotypenumbers": "strict",
          "coloraxis": {
           "colorbar": {
            "outlinewidth": 0,
            "ticks": ""
           }
          },
          "colorscale": {
           "diverging": [
            [
             0,
             "#8e0152"
            ],
            [
             0.1,
             "#c51b7d"
            ],
            [
             0.2,
             "#de77ae"
            ],
            [
             0.3,
             "#f1b6da"
            ],
            [
             0.4,
             "#fde0ef"
            ],
            [
             0.5,
             "#f7f7f7"
            ],
            [
             0.6,
             "#e6f5d0"
            ],
            [
             0.7,
             "#b8e186"
            ],
            [
             0.8,
             "#7fbc41"
            ],
            [
             0.9,
             "#4d9221"
            ],
            [
             1,
             "#276419"
            ]
           ],
           "sequential": [
            [
             0,
             "#0d0887"
            ],
            [
             0.1111111111111111,
             "#46039f"
            ],
            [
             0.2222222222222222,
             "#7201a8"
            ],
            [
             0.3333333333333333,
             "#9c179e"
            ],
            [
             0.4444444444444444,
             "#bd3786"
            ],
            [
             0.5555555555555556,
             "#d8576b"
            ],
            [
             0.6666666666666666,
             "#ed7953"
            ],
            [
             0.7777777777777778,
             "#fb9f3a"
            ],
            [
             0.8888888888888888,
             "#fdca26"
            ],
            [
             1,
             "#f0f921"
            ]
           ],
           "sequentialminus": [
            [
             0,
             "#0d0887"
            ],
            [
             0.1111111111111111,
             "#46039f"
            ],
            [
             0.2222222222222222,
             "#7201a8"
            ],
            [
             0.3333333333333333,
             "#9c179e"
            ],
            [
             0.4444444444444444,
             "#bd3786"
            ],
            [
             0.5555555555555556,
             "#d8576b"
            ],
            [
             0.6666666666666666,
             "#ed7953"
            ],
            [
             0.7777777777777778,
             "#fb9f3a"
            ],
            [
             0.8888888888888888,
             "#fdca26"
            ],
            [
             1,
             "#f0f921"
            ]
           ]
          },
          "colorway": [
           "#636efa",
           "#EF553B",
           "#00cc96",
           "#ab63fa",
           "#FFA15A",
           "#19d3f3",
           "#FF6692",
           "#B6E880",
           "#FF97FF",
           "#FECB52"
          ],
          "font": {
           "color": "#2a3f5f"
          },
          "geo": {
           "bgcolor": "white",
           "lakecolor": "white",
           "landcolor": "#E5ECF6",
           "showlakes": true,
           "showland": true,
           "subunitcolor": "white"
          },
          "hoverlabel": {
           "align": "left"
          },
          "hovermode": "closest",
          "mapbox": {
           "style": "light"
          },
          "paper_bgcolor": "white",
          "plot_bgcolor": "#E5ECF6",
          "polar": {
           "angularaxis": {
            "gridcolor": "white",
            "linecolor": "white",
            "ticks": ""
           },
           "bgcolor": "#E5ECF6",
           "radialaxis": {
            "gridcolor": "white",
            "linecolor": "white",
            "ticks": ""
           }
          },
          "scene": {
           "xaxis": {
            "backgroundcolor": "#E5ECF6",
            "gridcolor": "white",
            "gridwidth": 2,
            "linecolor": "white",
            "showbackground": true,
            "ticks": "",
            "zerolinecolor": "white"
           },
           "yaxis": {
            "backgroundcolor": "#E5ECF6",
            "gridcolor": "white",
            "gridwidth": 2,
            "linecolor": "white",
            "showbackground": true,
            "ticks": "",
            "zerolinecolor": "white"
           },
           "zaxis": {
            "backgroundcolor": "#E5ECF6",
            "gridcolor": "white",
            "gridwidth": 2,
            "linecolor": "white",
            "showbackground": true,
            "ticks": "",
            "zerolinecolor": "white"
           }
          },
          "shapedefaults": {
           "line": {
            "color": "#2a3f5f"
           }
          },
          "ternary": {
           "aaxis": {
            "gridcolor": "white",
            "linecolor": "white",
            "ticks": ""
           },
           "baxis": {
            "gridcolor": "white",
            "linecolor": "white",
            "ticks": ""
           },
           "bgcolor": "#E5ECF6",
           "caxis": {
            "gridcolor": "white",
            "linecolor": "white",
            "ticks": ""
           }
          },
          "title": {
           "x": 0.05
          },
          "xaxis": {
           "automargin": true,
           "gridcolor": "white",
           "linecolor": "white",
           "ticks": "",
           "title": {
            "standoff": 15
           },
           "zerolinecolor": "white",
           "zerolinewidth": 2
          },
          "yaxis": {
           "automargin": true,
           "gridcolor": "white",
           "linecolor": "white",
           "ticks": "",
           "title": {
            "standoff": 15
           },
           "zerolinecolor": "white",
           "zerolinewidth": 2
          }
         }
        },
        "title": {
         "text": "Average Overall Change by Region"
        },
        "xaxis": {
         "anchor": "y",
         "categoryorder": "total descending",
         "domain": [
          0,
          1
         ],
         "title": {
          "text": "Region"
         }
        },
        "yaxis": {
         "anchor": "x",
         "domain": [
          0,
          1
         ],
         "title": {
          "text": "Average Overall Change (mm)"
         }
        }
       }
      }
     },
     "metadata": {},
     "output_type": "display_data"
    }
   ],
   "source": [
    "\n",
    "fig = px.bar(avg_change_by_region, x='Region', y='Overall Change mm',\n",
    "             title='Average Overall Change by Region',\n",
    "             labels={'Overall Change mm': 'Average Overall Change (mm)', 'Region': 'Region'},\n",
    "             color='Overall Change mm',  # Optionally use color to represent magnitude\n",
    "             barmode='group')\n",
    "\n",
    "fig.update_layout(xaxis_title='Region',\n",
    "                  yaxis_title='Average Overall Change (mm)',\n",
    "                  xaxis={'categoryorder':'total descending'})  # Optional: sort regions by descending order of change\n",
    "\n",
    "fig.show()\n"
   ]
  },
  {
   "cell_type": "code",
   "execution_count": null,
   "metadata": {},
   "outputs": [],
   "source": []
  }
 ],
 "metadata": {
  "kernelspec": {
   "display_name": "venv",
   "language": "python",
   "name": "python3"
  },
  "language_info": {
   "codemirror_mode": {
    "name": "ipython",
    "version": 3
   },
   "file_extension": ".py",
   "mimetype": "text/x-python",
   "name": "python",
   "nbconvert_exporter": "python",
   "pygments_lexer": "ipython3",
   "version": "3.12.0"
  }
 },
 "nbformat": 4,
 "nbformat_minor": 2
}
